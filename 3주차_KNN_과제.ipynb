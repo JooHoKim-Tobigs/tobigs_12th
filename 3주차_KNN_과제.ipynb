{
 "cells": [
  {
   "cell_type": "markdown",
   "metadata": {},
   "source": [
    "# 과제 :KNN classifier 구현 \n",
    "1) Preprocessing / EDA  \n",
    "2) KNN classifier\n",
    "- K\n",
    "- Distance Measure : Euclidean? Manhattan?\n",
    "- Weighted voting? Majority voting?\n",
    "  \n",
    "3) Evaluation"
   ]
  },
  {
   "cell_type": "code",
   "execution_count": 1,
   "metadata": {},
   "outputs": [],
   "source": [
    "import numpy as np\n",
    "import pandas as pd\n",
    "from sklearn.datasets import load_iris\n",
    "from sklearn.model_selection import train_test_split \n",
    "from sklearn.neighbors import KNeighborsClassifier\n",
    "import math"
   ]
  },
  {
   "cell_type": "code",
   "execution_count": 2,
   "metadata": {},
   "outputs": [],
   "source": [
    "iris = load_iris()"
   ]
  },
  {
   "cell_type": "code",
   "execution_count": 3,
   "metadata": {},
   "outputs": [],
   "source": [
    "#iris.data -> features, iris.target -> labels\n",
    "X = iris.data\n",
    "y = iris.target"
   ]
  },
  {
   "cell_type": "markdown",
   "metadata": {},
   "source": [
    "- About data : https://www.kaggle.com/uciml/iris"
   ]
  },
  {
   "cell_type": "code",
   "execution_count": 4,
   "metadata": {},
   "outputs": [],
   "source": [
    "# split into test and train dataset, and use random_state=48\n",
    "X_train, X_test, y_train, y_test = train_test_split(X, y, test_size = 0.3, random_state=48)"
   ]
  },
  {
   "cell_type": "code",
   "execution_count": 6,
   "metadata": {},
   "outputs": [],
   "source": [
    "trainSet=np.column_stack((X_train, y_train))\n",
    "testSet=np.column_stack((X_test, y_test))"
   ]
  },
  {
   "cell_type": "markdown",
   "metadata": {},
   "source": [
    "# KNN 구현"
   ]
  },
  {
   "cell_type": "code",
   "execution_count": 7,
   "metadata": {},
   "outputs": [],
   "source": [
    "from scipy import spatial"
   ]
  },
  {
   "cell_type": "code",
   "execution_count": 8,
   "metadata": {},
   "outputs": [],
   "source": [
    "# p=1 : return Manhattan Distance\n",
    "# p=2 : return Eucludean Distance\n",
    "# w=1 : Normal\n",
    "# w=2 : weighted\n",
    "def KNN(p,trainSet, testSet, k, w):\n",
    "    acc=0\n",
    "    for i in range(len(testSet)):\n",
    "        indexing=[]\n",
    "        distance=[]\n",
    "        \n",
    "        if p ==1:\n",
    "            for q in range(len(trainSet)):\n",
    "                indexing.append(q)\n",
    "                distance.append(abs(trainSet[q,:4]-testSet[i,:4]).sum())\n",
    "        elif p ==2 :\n",
    "            for q in range(len(trainSet)):\n",
    "                indexing.append(q)\n",
    "                distance.append(np.sqrt(((trainSet[q,:4]-testSet[i,:4])**2).sum()))\n",
    "                \n",
    "        neighbor=pd.Series(distance,indexing)\n",
    "        neighbor.sort_values(inplace=True)\n",
    "        neighbor=neighbor.iloc[:k]\n",
    "        \n",
    "        if w ==1 :    \n",
    "            pred= pd.DataFrame(trainSet).iloc[list(neighbor.index.astype(int)),-1].mode()[0]\n",
    "        elif w==2 :\n",
    "            pred_df=pd.concat([np.reciprocal(neighbor)/(np.reciprocal(neighbor).sum()),pd.DataFrame(trainSet).iloc[list(neighbor.index.astype(int)),-1]],axis=1)\n",
    "            pred_df.columns=['weight','category']\n",
    "            pred= (pred_df.groupby('category').sum().reset_index().sort_values(by='weight',ascending=False)).iloc[0,0]\n",
    "            \n",
    "        \n",
    "        print(str(i) + ' > predicted : ' + str(pred) + ', actual : ' + str(testSet[i][-1]))\n",
    "        if pred == testSet[i][-1]:\n",
    "            acc+=1\n",
    "    print('Accuracy: ' + str(acc/len(testSet)) + '%')"
   ]
  },
  {
   "cell_type": "code",
   "execution_count": 9,
   "metadata": {
    "scrolled": false
   },
   "outputs": [
    {
     "name": "stdout",
     "output_type": "stream",
     "text": [
      "0 > predicted : 1.0, actual : 1.0\n",
      "1 > predicted : 1.0, actual : 1.0\n",
      "2 > predicted : 2.0, actual : 2.0\n",
      "3 > predicted : 0.0, actual : 0.0\n",
      "4 > predicted : 1.0, actual : 1.0\n",
      "5 > predicted : 2.0, actual : 2.0\n",
      "6 > predicted : 0.0, actual : 0.0\n",
      "7 > predicted : 1.0, actual : 2.0\n",
      "8 > predicted : 0.0, actual : 0.0\n",
      "9 > predicted : 1.0, actual : 1.0\n",
      "10 > predicted : 2.0, actual : 2.0\n",
      "11 > predicted : 0.0, actual : 0.0\n",
      "12 > predicted : 0.0, actual : 0.0\n",
      "13 > predicted : 2.0, actual : 2.0\n",
      "14 > predicted : 1.0, actual : 1.0\n",
      "15 > predicted : 1.0, actual : 1.0\n",
      "16 > predicted : 0.0, actual : 0.0\n",
      "17 > predicted : 1.0, actual : 1.0\n",
      "18 > predicted : 2.0, actual : 1.0\n",
      "19 > predicted : 2.0, actual : 2.0\n",
      "20 > predicted : 0.0, actual : 0.0\n",
      "21 > predicted : 2.0, actual : 2.0\n",
      "22 > predicted : 1.0, actual : 1.0\n",
      "23 > predicted : 1.0, actual : 1.0\n",
      "24 > predicted : 2.0, actual : 2.0\n",
      "25 > predicted : 0.0, actual : 0.0\n",
      "26 > predicted : 0.0, actual : 0.0\n",
      "27 > predicted : 2.0, actual : 2.0\n",
      "28 > predicted : 2.0, actual : 2.0\n",
      "29 > predicted : 1.0, actual : 1.0\n",
      "30 > predicted : 2.0, actual : 2.0\n",
      "31 > predicted : 1.0, actual : 1.0\n",
      "32 > predicted : 2.0, actual : 2.0\n",
      "33 > predicted : 0.0, actual : 0.0\n",
      "34 > predicted : 1.0, actual : 1.0\n",
      "35 > predicted : 2.0, actual : 2.0\n",
      "36 > predicted : 1.0, actual : 2.0\n",
      "37 > predicted : 1.0, actual : 1.0\n",
      "38 > predicted : 0.0, actual : 0.0\n",
      "39 > predicted : 1.0, actual : 1.0\n",
      "40 > predicted : 1.0, actual : 1.0\n",
      "41 > predicted : 1.0, actual : 1.0\n",
      "42 > predicted : 2.0, actual : 2.0\n",
      "43 > predicted : 2.0, actual : 2.0\n",
      "44 > predicted : 1.0, actual : 1.0\n",
      "Accuracy: 0.9333333333333333%\n"
     ]
    }
   ],
   "source": [
    "KNN(1,trainSet,testSet,3,1)\n",
    "# p=1 : return Manhattan Distance\n",
    "# p=2 : return Eucludean Distance\n",
    "# w=1 : Normal\n",
    "# w=2 : weighted"
   ]
  },
  {
   "cell_type": "code",
   "execution_count": 10,
   "metadata": {},
   "outputs": [
    {
     "data": {
      "text/plain": [
       "0.9111111111111111"
      ]
     },
     "metadata": {},
     "output_type": "display_data"
    }
   ],
   "source": [
    "from sklearn.neighbors import KNeighborsClassifier\n",
    "from sklearn.metrics import accuracy_score\n",
    "neigh = KNeighborsClassifier(n_neighbors=3,p=1)\n",
    "neigh.fit(trainSet[:,:4],trainSet[:,-1])\n",
    "pred=neigh.predict(testSet[:,:4])\n",
    "display(accuracy_score(pred,testSet[:,4])) # 동일"
   ]
  },
  {
   "cell_type": "code",
   "execution_count": 11,
   "metadata": {},
   "outputs": [
    {
     "name": "stdout",
     "output_type": "stream",
     "text": [
      "0 > predicted : 1.0, actual : 1.0\n",
      "1 > predicted : 1.0, actual : 1.0\n",
      "2 > predicted : 2.0, actual : 2.0\n",
      "3 > predicted : 0.0, actual : 0.0\n",
      "4 > predicted : 1.0, actual : 1.0\n",
      "5 > predicted : 2.0, actual : 2.0\n",
      "6 > predicted : 0.0, actual : 0.0\n",
      "7 > predicted : 1.0, actual : 2.0\n",
      "8 > predicted : 0.0, actual : 0.0\n",
      "9 > predicted : 1.0, actual : 1.0\n",
      "10 > predicted : 2.0, actual : 2.0\n",
      "11 > predicted : 0.0, actual : 0.0\n",
      "12 > predicted : 0.0, actual : 0.0\n",
      "13 > predicted : 2.0, actual : 2.0\n",
      "14 > predicted : 1.0, actual : 1.0\n",
      "15 > predicted : 1.0, actual : 1.0\n",
      "16 > predicted : 0.0, actual : 0.0\n",
      "17 > predicted : 1.0, actual : 1.0\n",
      "18 > predicted : 2.0, actual : 1.0\n",
      "19 > predicted : 2.0, actual : 2.0\n",
      "20 > predicted : 0.0, actual : 0.0\n",
      "21 > predicted : 2.0, actual : 2.0\n",
      "22 > predicted : 1.0, actual : 1.0\n",
      "23 > predicted : 1.0, actual : 1.0\n",
      "24 > predicted : 2.0, actual : 2.0\n",
      "25 > predicted : 0.0, actual : 0.0\n",
      "26 > predicted : 0.0, actual : 0.0\n",
      "27 > predicted : 2.0, actual : 2.0\n",
      "28 > predicted : 2.0, actual : 2.0\n",
      "29 > predicted : 1.0, actual : 1.0\n",
      "30 > predicted : 2.0, actual : 2.0\n",
      "31 > predicted : 1.0, actual : 1.0\n",
      "32 > predicted : 2.0, actual : 2.0\n",
      "33 > predicted : 0.0, actual : 0.0\n",
      "34 > predicted : 1.0, actual : 1.0\n",
      "35 > predicted : 2.0, actual : 2.0\n",
      "36 > predicted : 2.0, actual : 2.0\n",
      "37 > predicted : 1.0, actual : 1.0\n",
      "38 > predicted : 0.0, actual : 0.0\n",
      "39 > predicted : 1.0, actual : 1.0\n",
      "40 > predicted : 1.0, actual : 1.0\n",
      "41 > predicted : 1.0, actual : 1.0\n",
      "42 > predicted : 2.0, actual : 2.0\n",
      "43 > predicted : 2.0, actual : 2.0\n",
      "44 > predicted : 1.0, actual : 1.0\n",
      "Accuracy: 0.9555555555555556%\n"
     ]
    }
   ],
   "source": [
    "KNN(2,trainSet,testSet,3,1)"
   ]
  },
  {
   "cell_type": "code",
   "execution_count": 12,
   "metadata": {},
   "outputs": [
    {
     "data": {
      "text/plain": [
       "0.9555555555555556"
      ]
     },
     "metadata": {},
     "output_type": "display_data"
    }
   ],
   "source": [
    "neigh = KNeighborsClassifier(n_neighbors=3,p=2)\n",
    "neigh.fit(trainSet[:,:4],trainSet[:,-1])\n",
    "pred=neigh.predict(testSet[:,:4])\n",
    "display(accuracy_score(pred,testSet[:,4])) # 동일"
   ]
  },
  {
   "cell_type": "markdown",
   "metadata": {},
   "source": [
    "# HyperParameter Searching ( GridSearch )"
   ]
  },
  {
   "cell_type": "code",
   "execution_count": 13,
   "metadata": {},
   "outputs": [],
   "source": [
    "dis_list=[1,2]\n",
    "num_k_list=[3,5,7,9]\n",
    "weight_list=[1,2]"
   ]
  },
  {
   "cell_type": "code",
   "execution_count": 14,
   "metadata": {},
   "outputs": [],
   "source": [
    "from itertools import product\n",
    "items = [dis_list,num_k_list,weight_list]\n",
    "params=list(product(*items))"
   ]
  },
  {
   "cell_type": "code",
   "execution_count": 15,
   "metadata": {},
   "outputs": [],
   "source": [
    "scores=[]\n",
    "dis=[]\n",
    "num_k=[]\n",
    "weight=[]\n",
    "def tune_KNN(p,trainSet, testSet, k, w):\n",
    "    acc=0\n",
    "    for i in range(len(testSet)):\n",
    "        indexing=[]\n",
    "        distance=[]\n",
    "        \n",
    "        if p ==1:\n",
    "            for q in range(len(trainSet)):\n",
    "                indexing.append(q)\n",
    "                distance.append(abs(trainSet[q,:4]-testSet[i,:4]).sum())\n",
    "        elif p ==2 :\n",
    "            for q in range(len(trainSet)):\n",
    "                indexing.append(q)\n",
    "                distance.append(np.sqrt(((trainSet[q,:4]-testSet[i,:4])**2).sum()))\n",
    "                \n",
    "        neighbor=pd.Series(distance,indexing)\n",
    "        neighbor.sort_values(inplace=True)\n",
    "        neighbor=neighbor.iloc[:k]\n",
    "        \n",
    "        if w ==1 :    \n",
    "            pred= pd.DataFrame(trainSet).iloc[list(neighbor.index.astype(int)),-1].mode()[0]\n",
    "        elif w==2 :\n",
    "            pred_df=pd.concat([np.reciprocal(neighbor)/(np.reciprocal(neighbor).sum()),pd.DataFrame(trainSet).iloc[list(neighbor.index.astype(int)),-1]],axis=1)\n",
    "            pred_df.columns=['weight','category']\n",
    "            pred= (pred_df.groupby('category').sum().reset_index().sort_values(by='weight',ascending=False)).iloc[0,0]\n",
    "            \n",
    "        \n",
    "        \n",
    "        if pred == testSet[i][-1]:\n",
    "            acc+=1\n",
    "    dis.append(p)\n",
    "    num_k.append(k)\n",
    "    weight.append(w)\n",
    "    scores.append(acc/len(testSet))"
   ]
  },
  {
   "cell_type": "code",
   "execution_count": 16,
   "metadata": {},
   "outputs": [],
   "source": [
    "for i in params:\n",
    "    p,k,w=i\n",
    "    tune_KNN(p,trainSet,testSet,k,w)"
   ]
  },
  {
   "cell_type": "code",
   "execution_count": 17,
   "metadata": {},
   "outputs": [],
   "source": [
    "score=pd.DataFrame([dis,num_k,weight,scores]).T"
   ]
  },
  {
   "cell_type": "code",
   "execution_count": 18,
   "metadata": {},
   "outputs": [],
   "source": [
    "score.columns=['d','k','w','score']"
   ]
  },
  {
   "cell_type": "code",
   "execution_count": 19,
   "metadata": {},
   "outputs": [
    {
     "data": {
      "text/html": [
       "<div>\n",
       "<style scoped>\n",
       "    .dataframe tbody tr th:only-of-type {\n",
       "        vertical-align: middle;\n",
       "    }\n",
       "\n",
       "    .dataframe tbody tr th {\n",
       "        vertical-align: top;\n",
       "    }\n",
       "\n",
       "    .dataframe thead th {\n",
       "        text-align: right;\n",
       "    }\n",
       "</style>\n",
       "<table border=\"1\" class=\"dataframe\">\n",
       "  <thead>\n",
       "    <tr style=\"text-align: right;\">\n",
       "      <th></th>\n",
       "      <th>d</th>\n",
       "      <th>k</th>\n",
       "      <th>w</th>\n",
       "      <th>score</th>\n",
       "    </tr>\n",
       "  </thead>\n",
       "  <tbody>\n",
       "    <tr>\n",
       "      <th>14</th>\n",
       "      <td>2.0</td>\n",
       "      <td>9.0</td>\n",
       "      <td>1.0</td>\n",
       "      <td>1.000000</td>\n",
       "    </tr>\n",
       "    <tr>\n",
       "      <th>13</th>\n",
       "      <td>2.0</td>\n",
       "      <td>7.0</td>\n",
       "      <td>2.0</td>\n",
       "      <td>0.977778</td>\n",
       "    </tr>\n",
       "    <tr>\n",
       "      <th>15</th>\n",
       "      <td>2.0</td>\n",
       "      <td>9.0</td>\n",
       "      <td>2.0</td>\n",
       "      <td>0.977778</td>\n",
       "    </tr>\n",
       "    <tr>\n",
       "      <th>6</th>\n",
       "      <td>1.0</td>\n",
       "      <td>9.0</td>\n",
       "      <td>1.0</td>\n",
       "      <td>0.955556</td>\n",
       "    </tr>\n",
       "    <tr>\n",
       "      <th>8</th>\n",
       "      <td>2.0</td>\n",
       "      <td>3.0</td>\n",
       "      <td>1.0</td>\n",
       "      <td>0.955556</td>\n",
       "    </tr>\n",
       "    <tr>\n",
       "      <th>9</th>\n",
       "      <td>2.0</td>\n",
       "      <td>3.0</td>\n",
       "      <td>2.0</td>\n",
       "      <td>0.955556</td>\n",
       "    </tr>\n",
       "    <tr>\n",
       "      <th>10</th>\n",
       "      <td>2.0</td>\n",
       "      <td>5.0</td>\n",
       "      <td>1.0</td>\n",
       "      <td>0.955556</td>\n",
       "    </tr>\n",
       "    <tr>\n",
       "      <th>11</th>\n",
       "      <td>2.0</td>\n",
       "      <td>5.0</td>\n",
       "      <td>2.0</td>\n",
       "      <td>0.955556</td>\n",
       "    </tr>\n",
       "    <tr>\n",
       "      <th>12</th>\n",
       "      <td>2.0</td>\n",
       "      <td>7.0</td>\n",
       "      <td>1.0</td>\n",
       "      <td>0.955556</td>\n",
       "    </tr>\n",
       "    <tr>\n",
       "      <th>0</th>\n",
       "      <td>1.0</td>\n",
       "      <td>3.0</td>\n",
       "      <td>1.0</td>\n",
       "      <td>0.933333</td>\n",
       "    </tr>\n",
       "    <tr>\n",
       "      <th>1</th>\n",
       "      <td>1.0</td>\n",
       "      <td>3.0</td>\n",
       "      <td>2.0</td>\n",
       "      <td>0.933333</td>\n",
       "    </tr>\n",
       "    <tr>\n",
       "      <th>7</th>\n",
       "      <td>1.0</td>\n",
       "      <td>9.0</td>\n",
       "      <td>2.0</td>\n",
       "      <td>0.933333</td>\n",
       "    </tr>\n",
       "    <tr>\n",
       "      <th>2</th>\n",
       "      <td>1.0</td>\n",
       "      <td>5.0</td>\n",
       "      <td>1.0</td>\n",
       "      <td>0.911111</td>\n",
       "    </tr>\n",
       "    <tr>\n",
       "      <th>3</th>\n",
       "      <td>1.0</td>\n",
       "      <td>5.0</td>\n",
       "      <td>2.0</td>\n",
       "      <td>0.911111</td>\n",
       "    </tr>\n",
       "    <tr>\n",
       "      <th>4</th>\n",
       "      <td>1.0</td>\n",
       "      <td>7.0</td>\n",
       "      <td>1.0</td>\n",
       "      <td>0.911111</td>\n",
       "    </tr>\n",
       "    <tr>\n",
       "      <th>5</th>\n",
       "      <td>1.0</td>\n",
       "      <td>7.0</td>\n",
       "      <td>2.0</td>\n",
       "      <td>0.911111</td>\n",
       "    </tr>\n",
       "  </tbody>\n",
       "</table>\n",
       "</div>"
      ],
      "text/plain": [
       "      d    k    w     score\n",
       "14  2.0  9.0  1.0  1.000000\n",
       "13  2.0  7.0  2.0  0.977778\n",
       "15  2.0  9.0  2.0  0.977778\n",
       "6   1.0  9.0  1.0  0.955556\n",
       "8   2.0  3.0  1.0  0.955556\n",
       "9   2.0  3.0  2.0  0.955556\n",
       "10  2.0  5.0  1.0  0.955556\n",
       "11  2.0  5.0  2.0  0.955556\n",
       "12  2.0  7.0  1.0  0.955556\n",
       "0   1.0  3.0  1.0  0.933333\n",
       "1   1.0  3.0  2.0  0.933333\n",
       "7   1.0  9.0  2.0  0.933333\n",
       "2   1.0  5.0  1.0  0.911111\n",
       "3   1.0  5.0  2.0  0.911111\n",
       "4   1.0  7.0  1.0  0.911111\n",
       "5   1.0  7.0  2.0  0.911111"
      ]
     },
     "execution_count": 19,
     "metadata": {},
     "output_type": "execute_result"
    }
   ],
   "source": [
    "score.sort_values(by='score',ascending=False)\n",
    "# 각 경우의 수별 score"
   ]
  }
 ],
 "metadata": {
  "kernelspec": {
   "display_name": "Python 3",
   "language": "python",
   "name": "python3"
  },
  "language_info": {
   "codemirror_mode": {
    "name": "ipython",
    "version": 3
   },
   "file_extension": ".py",
   "mimetype": "text/x-python",
   "name": "python",
   "nbconvert_exporter": "python",
   "pygments_lexer": "ipython3",
   "version": "3.7.3"
  }
 },
 "nbformat": 4,
 "nbformat_minor": 2
}
