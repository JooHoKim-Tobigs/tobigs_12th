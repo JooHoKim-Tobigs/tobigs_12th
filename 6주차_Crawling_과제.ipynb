{
 "cells": [
  {
   "cell_type": "markdown",
   "metadata": {},
   "source": [
    "# 6주차 크롤링 과제"
   ]
  },
  {
   "cell_type": "markdown",
   "metadata": {},
   "source": [
    "## 과제 1\n",
    "- ### TO - DO : Selenium을 이용한 인스타 크롤링 수도코드 작성\n",
    " - 상세 : 5,000 개의 게시글 정보 : 내용,날짜, 댓글내용, 댓글계정"
   ]
  },
  {
   "cell_type": "code",
   "execution_count": 589,
   "metadata": {},
   "outputs": [],
   "source": [
    "import selenium \n",
    "from selenium import webdriver\n",
    "import random\n",
    "from time import sleep\n",
    "import pandas as pd\n",
    "from selenium.webdriver.common.by import By\n",
    "from selenium.webdriver.support.ui import WebDriverWait\n",
    "from selenium.webdriver.support import expected_conditions as EC\n"
   ]
  },
  {
   "cell_type": "code",
   "execution_count": 3,
   "metadata": {
    "scrolled": true
   },
   "outputs": [],
   "source": [
    "post_contents=[]\n",
    "post_date=[]\n",
    "comment_contents=[]\n",
    "comment_writer=[]\n",
    "\n",
    "insta_url = \"https://www.instagram.com\" # 인스타 url \n",
    "browser = webdriver.Chrome() #브라우저 on\n",
    "browser.get(insta_url) # 접속"
   ]
  },
  {
   "cell_type": "code",
   "execution_count": null,
   "metadata": {},
   "outputs": [],
   "source": [
    "for scroll in range(1,100) : # 스크롤 한번 할때마다 50개씩 늘어난다고 가정\n",
    "    # 게시물 태그 추출\n",
    "    post_tags = browser.find_elements_by_class_name('posts_tag')\n",
    "    # 게시물 정보 추출\n",
    "    for post in post_tags :\n",
    "        post_contents.append( (post.find_element_by_tag_name('contents')).text )\n",
    "        post_date.append( (post.find_element_by_tag_name('d')).text )\n",
    "        # 게시물 클릭\n",
    "        post_button = browser.find_element_by_xpath('//*[@id=\"react-root\"]/section/main/article/div[2]/div/div[4]/div[2]')\n",
    "        post_button.click()\n",
    "        # 댓글 태그 추출\n",
    "        comment_tags= browser.find_elements_by_class_name('comments_tag')\n",
    "        # 댓글 정보 추출\n",
    "        for comment in comment_tags:\n",
    "            comment_contents.append( (comment.find_element_by_tag_name('comment_contents')).text )\n",
    "            comment_writer.append( (comment.find_element_by_tag_name('wrt')).text)\n",
    "    \n",
    "    browser.execute_script(\"window.scrollTo(0, document.body.scrollHeight);\") #스크롤 끝까지\n",
    "    sleep(random.uniform(0,1)) # 휴식"
   ]
  },
  {
   "cell_type": "markdown",
   "metadata": {},
   "source": [
    "## 과제 2\n",
    "- ### TO - DO : 다음 영화 사이트 2년치 데이터 크롤링\n",
    " - 상세 : 제목, 네티즌 평점, 평론가 평점, 누적 관객수, 누락데이터 적절한 처리, \n",
    " - 채점기준 : 모듈화, End-to-End"
   ]
  },
  {
   "cell_type": "markdown",
   "metadata": {},
   "source": [
    "### 1. 동적 크롤링 (Selenium)"
   ]
  },
  {
   "cell_type": "code",
   "execution_count": 681,
   "metadata": {},
   "outputs": [],
   "source": [
    "def daum_movie_crawler_selenium():\n",
    "    \n",
    "    #변수입력받기(다양한 방식 시도)\n",
    "    this_year=int(input('몇 년도부터 수집할까요?'))\n",
    "    for_year=int(input('지금부터 과거 몇 년치 데이터를 수집해야하나요?'))\n",
    "    \n",
    "    #리스트 생성\n",
    "    titles=[]\n",
    "    net_grade=[]\n",
    "    cri_grade=[]\n",
    "    aud_list=[]\n",
    "    \n",
    "    #브라우저 실행\n",
    "    main_url = 'https://movie.daum.net/boxoffice/yearly?year='+str(this_year)\n",
    "    browser = webdriver.Chrome()\n",
    "    browser.get(main_url)\n",
    "    reg=re.compile('\\d') #  수 추출을 위한 정규표현식    \n",
    "    \n",
    "    for times in range(for_year):\n",
    "        links=[]\n",
    "        poster_table=browser.find_elements_by_class_name('wrap_movie') # 포스터 테이블\n",
    "        exist_verify_table=browser.find_elements_by_class_name('img_g') # 정보 존재 검정용 테이블\n",
    "        \n",
    "        for poster,exist_verify in zip(poster_table,exist_verify_table):\n",
    "            \n",
    "            # 정보 담고있는 테이블\n",
    "            info_table = poster.find_element_by_tag_name('a')\n",
    "            \n",
    "            # 존재 검정용 변수\n",
    "            ex_num=exist_verify.get_attribute('src')\n",
    "            \n",
    "            # 제목 추출 \n",
    "            title = info_table.text\n",
    "            titles.append(title)\n",
    "            \n",
    "            # 검정\n",
    "            if len((str(ex_num))) <= 15: \n",
    "                net_grade.append(None)\n",
    "                cri_grade.append(None)\n",
    "                links.append(None)\n",
    "                continue\n",
    "            \n",
    "            # 평점 테이블\n",
    "            score_table= reg.findall(poster.find_element_by_class_name('info_grade').text)\n",
    "            \n",
    "            # 네티즌 평점\n",
    "            net_score = float(score_table[1])+float(score_table[3])/10\n",
    "            net_grade.append(net_score)\n",
    "            \n",
    "            # 평론가 평점\n",
    "            try :\n",
    "                cri_score = float(score_table[5])+float(score_table[7])/10\n",
    "                cri_grade.append(cri_score)\n",
    "            except Exception as e :\n",
    "                cri_grade.append(None)\n",
    "                print(e,'Error at'+str(title))\n",
    "                \n",
    "             # 링크 추출\n",
    "            link = info_table.get_attribute('href')\n",
    "            links.append(link)\n",
    "        \n",
    "        for link in links:\n",
    "            try :\n",
    "                browser.get(link) # 이동\n",
    "                aud_list.append(int(''.join(reg.findall(browser.find_element_by_id('totalAudience').text))))\n",
    "            except Exception as e :\n",
    "                aud_list.append(None)\n",
    "            \n",
    "        browser.get(main_url)\n",
    "        button=browser.find_element_by_xpath('//*[@id=\"divCalendarBox\"]/a')\n",
    "        button.click()\n",
    "            \n",
    "    data = pd.concat([pd.Series(titles),pd.Series(net_grade),pd.Series(cri_grade),pd.Series(aud_list)],axis=1)            \n",
    "    data.columns=['title','netizen_score','critic_grade','totalAudience']\n",
    "    return data\n",
    "        \n",
    "        "
   ]
  },
  {
   "cell_type": "code",
   "execution_count": 682,
   "metadata": {},
   "outputs": [
    {
     "name": "stdout",
     "output_type": "stream",
     "text": [
      "지금은 몇 년도 인가요?2019\n",
      "지금부터 과거 몇 년치 데이터를 수집해야하나요?2\n",
      "list index out of range Error at극한직업\n",
      "list index out of range Error at어벤져스: 엔드게임\n",
      "list index out of range Error at알라딘\n",
      "list index out of range Error at기생충\n",
      "list index out of range Error at스파이더맨: 파 프롬 홈\n",
      "list index out of range Error at엑시트\n",
      "list index out of range Error at캡틴 마블\n",
      "list index out of range Error at라이온 킹\n",
      "list index out of range Error at봉오동 전투\n",
      "list index out of range Error at토이 스토리 4\n",
      "list index out of range Error at돈\n",
      "list index out of range Error at악인전\n",
      "list index out of range Error at분노의 질주: 홉스&쇼\n",
      "list index out of range Error at증인\n",
      "list index out of range Error at사바하\n",
      "list index out of range Error at알리타: 배틀 엔젤\n",
      "list index out of range Error at뺑반\n",
      "list index out of range Error at주먹왕 랄프 2: 인터넷 속으로\n",
      "list index out of range Error at걸캅스\n",
      "list index out of range Error at사자\n",
      "list index out of range Error at드래곤 길들이기 3\n",
      "list index out of range Error at나의 특별한 형제\n",
      "list index out of range Error at어스\n",
      "list index out of range Error at생일\n",
      "list index out of range Error at항거:유관순 이야기\n",
      "list index out of range Error at롱 리브 더 킹: 목포 영웅\n",
      "list index out of range Error at마이펫의 이중생활 2\n",
      "list index out of range Error at존 윅 3: 파라벨룸\n",
      "list index out of range Error at나랏말싸미\n",
      "list index out of range Error at엑스맨: 다크 피닉스\n",
      "list index out of range Error at맨 인 블랙: 인터내셔널\n",
      "list index out of range Error at뽀로로 극장판 보물섬 대모험\n",
      "list index out of range Error at레드슈즈\n",
      "list index out of range Error at명탐정 피카츄\n",
      "list index out of range Error at샤잠!\n",
      "list index out of range Error at극장판 헬로카봇: 옴파로스 섬의 비밀\n",
      "list index out of range Error at이스케이프 룸\n",
      "list index out of range Error at애나벨 집으로\n",
      "list index out of range Error at글래스\n",
      "list index out of range Error at장난스런 키스\n",
      "list index out of range Error at해피 데스데이 2 유\n",
      "list index out of range Error at극장판 공룡메카드: 타이니소어의 섬\n",
      "list index out of range Error at고질라: 킹 오브 몬스터\n",
      "Message: invalid argument: 'url' must be a string\n",
      "  (Session info: chrome=76.0.3809.100)\n",
      " None에서 누적관객추출 실패\n"
     ]
    }
   ],
   "source": [
    "df_s=daum_movie_crawler_selenium()"
   ]
  },
  {
   "cell_type": "markdown",
   "metadata": {},
   "source": [
    "## 2. 정적 크롤링(Request)"
   ]
  },
  {
   "cell_type": "code",
   "execution_count": 3,
   "metadata": {},
   "outputs": [],
   "source": [
    "from time import sleep\n",
    "import re\n",
    "from tqdm import tqdm\n",
    "from random import randint\n",
    "from bs4 import BeautifulSoup as bs\n",
    "import requests\n",
    "import lxml.html"
   ]
  },
  {
   "cell_type": "code",
   "execution_count": 2,
   "metadata": {},
   "outputs": [],
   "source": [
    "def compute_score(table):\n",
    "    score = table.findAll('span',{\"class\" : 'num_grade'})\n",
    "    first=float(score[0].text)\n",
    "    second=float(score[2].text)/10\n",
    "    return (first+second)"
   ]
  },
  {
   "cell_type": "code",
   "execution_count": 687,
   "metadata": {},
   "outputs": [],
   "source": [
    "def daum_movie_crawler(start_year,end_year):\n",
    "    #추출할 데이터 리스트생성\n",
    "    titles=[]\n",
    "    net_grade=[]\n",
    "    cri_grade=[]\n",
    "    aud_list=[]\n",
    "    \n",
    "    for year in range(int(start_year),int(end_year+1)):\n",
    "        #원활한 크롤링을 위한 헤더\n",
    "        headers = {'User-Agent': 'Mozilla/5.0 (Macintosh; InteSl Mac O X 10_10_1) AppleWebKit/537.36 (KHTML, like Gecko) Chrome/39.0.2171.95 Safari/537.36'}\n",
    "        #url 입력\n",
    "        main_url = 'https://movie.daum.net/boxoffice/yearly?year='+str(year)\n",
    "        response = requests.get(main_url,headers=headers) #접속\n",
    "    \n",
    "        #테이블 분리\n",
    "        body_table = bs(response.text,'lxml')\n",
    "        poster_table = body_table.find_all('div',class_='wrap_movie') # 포스터 테이블  \n",
    "        exist_verify_table=body_table.find_all(class_='img_g') # 정보가 존재하는지 검정용 테이블\n",
    "\n",
    "        reg=re.compile('\\d') #  관객수 추출을 위한 정규표현식\n",
    "        reg2=re.compile('src.*/') # 이미지 링크가 없는경우 다른 정보도 없는 것 발견, 따라서 링크 부분의 길이가 짧으면 \n",
    "                                  # 변수를 NA값으로 채워서 용이한 df생성 의도\n",
    "    \n",
    "    \n",
    "        # 제목 , 네티즌 평점, 평론가 평점 추출\n",
    "        for poster,exist_verify in zip(poster_table,exist_verify_table):\n",
    "            # 제목 추출 \n",
    "            title = poster.find('a', class_='name_movie #title').text\n",
    "            titles.append(title)\n",
    "            # 검정\n",
    "            if len(str(reg2.findall(str(exist_verify)))) <= 15: \n",
    "                net_grade.append(None)\n",
    "                cri_grade.append(None)\n",
    "                aud_list.append(None)\n",
    "                continue\n",
    "            \n",
    "            # 네티즌 평점\n",
    "            net_grade_table = poster.find(\"span\",{\"class\":\"wrap_grade grade_netizen\"})\n",
    "            net_grade.append(compute_score(net_grade_table))\n",
    "            \n",
    "            # 평론가 평점\n",
    "            try : \n",
    "                critic_grade_table= poster.find(\"span\",{\"class\":\"wrap_grade grade_critic\"})\n",
    "                cri_grade.append(compute_score(critic_grade_table))\n",
    "            except Exception as e :\n",
    "                cri_grade.append(None)\n",
    "                print(e,'Error at {} for {}'.format(year,title))\n",
    "                \n",
    "            # 누적 관객수\n",
    "            \n",
    "            movie_id=(''.join(reg.findall(poster.find('a')['href'])))        \n",
    "            aud_url='https://movie.daum.net/moviedb/main/totalAudience.json?movieId='+movie_id # 링크 확보\n",
    "            response = requests.get(aud_url,headers=headers)\n",
    "            try : \n",
    "                aud_list.append(int(''.join(reg.findall(response.text))))\n",
    "            except Exception as e :\n",
    "                aud_list.append(None)\n",
    "                print(e,str(movie_id)+'에서 누적관객추출 실패')\n",
    "                \n",
    "            \n",
    "    data = pd.concat([pd.Series(titles),pd.Series(net_grade),pd.Series(cri_grade),pd.Series(aud_list)],axis=1)            \n",
    "    data.columns=['title','netizen_score','critic_grade','totalAudience']\n",
    "    return data"
   ]
  },
  {
   "cell_type": "code",
   "execution_count": 688,
   "metadata": {},
   "outputs": [
    {
     "name": "stdout",
     "output_type": "stream",
     "text": [
      "'NoneType' object has no attribute 'findAll' Error at 2019 for 극한직업\n",
      "'NoneType' object has no attribute 'findAll' Error at 2019 for 어벤져스: 엔드게임\n",
      "'NoneType' object has no attribute 'findAll' Error at 2019 for 알라딘\n",
      "'NoneType' object has no attribute 'findAll' Error at 2019 for 기생충\n",
      "'NoneType' object has no attribute 'findAll' Error at 2019 for 스파이더맨: 파 프롬 홈\n",
      "'NoneType' object has no attribute 'findAll' Error at 2019 for 엑시트\n",
      "'NoneType' object has no attribute 'findAll' Error at 2019 for 캡틴 마블\n",
      "'NoneType' object has no attribute 'findAll' Error at 2019 for 라이온 킹\n",
      "'NoneType' object has no attribute 'findAll' Error at 2019 for 봉오동 전투\n",
      "'NoneType' object has no attribute 'findAll' Error at 2019 for 토이 스토리 4\n",
      "'NoneType' object has no attribute 'findAll' Error at 2019 for 돈\n",
      "'NoneType' object has no attribute 'findAll' Error at 2019 for 악인전\n",
      "'NoneType' object has no attribute 'findAll' Error at 2019 for 분노의 질주: 홉스&쇼\n",
      "'NoneType' object has no attribute 'findAll' Error at 2019 for 증인\n",
      "'NoneType' object has no attribute 'findAll' Error at 2019 for 사바하\n",
      "'NoneType' object has no attribute 'findAll' Error at 2019 for 알리타: 배틀 엔젤\n",
      "'NoneType' object has no attribute 'findAll' Error at 2019 for 뺑반\n",
      "'NoneType' object has no attribute 'findAll' Error at 2019 for 주먹왕 랄프 2: 인터넷 속으로\n",
      "'NoneType' object has no attribute 'findAll' Error at 2019 for 걸캅스\n",
      "'NoneType' object has no attribute 'findAll' Error at 2019 for 사자\n",
      "'NoneType' object has no attribute 'findAll' Error at 2019 for 드래곤 길들이기 3\n",
      "'NoneType' object has no attribute 'findAll' Error at 2019 for 나의 특별한 형제\n",
      "'NoneType' object has no attribute 'findAll' Error at 2019 for 어스\n",
      "'NoneType' object has no attribute 'findAll' Error at 2019 for 생일\n",
      "'NoneType' object has no attribute 'findAll' Error at 2019 for 항거:유관순 이야기\n",
      "'NoneType' object has no attribute 'findAll' Error at 2019 for 롱 리브 더 킹: 목포 영웅\n",
      "'NoneType' object has no attribute 'findAll' Error at 2019 for 마이펫의 이중생활 2\n",
      "'NoneType' object has no attribute 'findAll' Error at 2019 for 존 윅 3: 파라벨룸\n",
      "'NoneType' object has no attribute 'findAll' Error at 2019 for 나랏말싸미\n",
      "'NoneType' object has no attribute 'findAll' Error at 2019 for 엑스맨: 다크 피닉스\n",
      "'NoneType' object has no attribute 'findAll' Error at 2019 for 맨 인 블랙: 인터내셔널\n",
      "'NoneType' object has no attribute 'findAll' Error at 2019 for 뽀로로 극장판 보물섬 대모험\n",
      "'NoneType' object has no attribute 'findAll' Error at 2019 for 레드슈즈\n",
      "'NoneType' object has no attribute 'findAll' Error at 2019 for 명탐정 피카츄\n",
      "'NoneType' object has no attribute 'findAll' Error at 2019 for 샤잠!\n",
      "'NoneType' object has no attribute 'findAll' Error at 2019 for 극장판 헬로카봇: 옴파로스 섬의 비밀\n",
      "'NoneType' object has no attribute 'findAll' Error at 2019 for 이스케이프 룸\n",
      "'NoneType' object has no attribute 'findAll' Error at 2019 for 애나벨 집으로\n",
      "'NoneType' object has no attribute 'findAll' Error at 2019 for 글래스\n",
      "'NoneType' object has no attribute 'findAll' Error at 2019 for 장난스런 키스\n",
      "'NoneType' object has no attribute 'findAll' Error at 2019 for 해피 데스데이 2 유\n",
      "'NoneType' object has no attribute 'findAll' Error at 2019 for 극장판 공룡메카드: 타이니소어의 섬\n",
      "'NoneType' object has no attribute 'findAll' Error at 2019 for 고질라: 킹 오브 몬스터\n"
     ]
    }
   ],
   "source": [
    "df=daum_movie_crawler(2018,2019)"
   ]
  },
  {
   "cell_type": "code",
   "execution_count": 697,
   "metadata": {
    "scrolled": true
   },
   "outputs": [],
   "source": [
    "df.sort_values(by='totalAudience',inplace=True,ascending=False)\n",
    "df_s.sort_values(by='totalAudience',inplace=True,ascending=False)"
   ]
  },
  {
   "cell_type": "code",
   "execution_count": 706,
   "metadata": {
    "scrolled": true
   },
   "outputs": [
    {
     "name": "stdout",
     "output_type": "stream",
     "text": [
      "<class 'pandas.core.frame.DataFrame'>\n",
      "Int64Index: 100 entries, 50 to 15\n",
      "Data columns (total 4 columns):\n",
      "title            100 non-null object\n",
      "netizen_score    99 non-null float64\n",
      "critic_grade     56 non-null float64\n",
      "totalAudience    99 non-null float64\n",
      "dtypes: float64(3), object(1)\n",
      "memory usage: 3.9+ KB\n"
     ]
    },
    {
     "data": {
      "text/plain": [
       "None"
      ]
     },
     "metadata": {},
     "output_type": "display_data"
    },
    {
     "name": "stdout",
     "output_type": "stream",
     "text": [
      "<class 'pandas.core.frame.DataFrame'>\n",
      "Int64Index: 100 entries, 0 to 65\n",
      "Data columns (total 4 columns):\n",
      "title            100 non-null object\n",
      "netizen_score    99 non-null float64\n",
      "critic_grade     56 non-null float64\n",
      "totalAudience    99 non-null float64\n",
      "dtypes: float64(3), object(1)\n",
      "memory usage: 3.9+ KB\n"
     ]
    },
    {
     "data": {
      "text/plain": [
       "None"
      ]
     },
     "metadata": {},
     "output_type": "display_data"
    }
   ],
   "source": [
    "display(df.info())\n",
    "display(df_s.info()) # 구조, 결측치 동일 \n",
    "# 결측치는 데이터타입을 float이나 int로 만들기 위해 None을 넣어주었음"
   ]
  },
  {
   "cell_type": "code",
   "execution_count": 710,
   "metadata": {},
   "outputs": [],
   "source": [
    "df.to_csv('과제.csv',index=False)"
   ]
  }
 ],
 "metadata": {
  "kernelspec": {
   "display_name": "Python 3",
   "language": "python",
   "name": "python3"
  },
  "language_info": {
   "codemirror_mode": {
    "name": "ipython",
    "version": 3
   },
   "file_extension": ".py",
   "mimetype": "text/x-python",
   "name": "python",
   "nbconvert_exporter": "python",
   "pygments_lexer": "ipython3",
   "version": "3.7.3"
  }
 },
 "nbformat": 4,
 "nbformat_minor": 2
}
