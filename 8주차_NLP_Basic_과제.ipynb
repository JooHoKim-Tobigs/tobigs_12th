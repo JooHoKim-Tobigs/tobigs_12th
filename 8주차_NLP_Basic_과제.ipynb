{
 "cells": [
  {
   "cell_type": "markdown",
   "metadata": {},
   "source": [
    "# <과제> “NLP 제대로 맛보기”\n",
    "- Step1. 관심 주제 관련 텍스트 데이터 크롤링\n",
    "- Step2. 전처리 (ex) 불용어 처리, 특수 문자 제거 등\n",
    "- Step3. 임베딩\n",
    "- Step4. 인사이트 도출 (ex) 유사도, 그래프 해석, 요약 알고리즘 등"
   ]
  },
  {
   "cell_type": "markdown",
   "metadata": {},
   "source": [
    "## First  :  Crawling"
   ]
  },
  {
   "cell_type": "code",
   "execution_count": 1,
   "metadata": {},
   "outputs": [],
   "source": [
    "import selenium \n",
    "from selenium import webdriver\n",
    "import random\n",
    "from time import sleep\n",
    "import pandas as pd\n",
    "from selenium.webdriver.common.by import By\n",
    "from selenium.webdriver.support.ui import WebDriverWait\n",
    "from selenium.webdriver.support import expected_conditions as EC\n",
    "from selenium.webdriver.common.keys import Keys\n",
    "from tqdm import tqdm"
   ]
  },
  {
   "cell_type": "code",
   "execution_count": 3,
   "metadata": {},
   "outputs": [],
   "source": [
    "# Browser 켜기\n",
    "browser = webdriver.Chrome()\n",
    "browser.get('https://everytime.kr/timetable')"
   ]
  },
  {
   "cell_type": "code",
   "execution_count": 3,
   "metadata": {},
   "outputs": [],
   "source": [
    "# login 함수 생성\n",
    "def login(id_,password):\n",
    "    browser.find_element_by_name('userid').send_keys(str(id_))\n",
    "    browser.find_element_by_name('password').send_keys(str(password))\n",
    "    browser.find_element_by_xpath('//*[@id=\"container\"]/form/p[3]/input').click()"
   ]
  },
  {
   "cell_type": "code",
   "execution_count": 12,
   "metadata": {},
   "outputs": [],
   "source": [
    "# 가끔 팝업뜨는거 닫아주기\n",
    "browser.find_element_by_xpath('//*[@id=\"container\"]/ul/li[1]').click()"
   ]
  },
  {
   "cell_type": "code",
   "execution_count": 13,
   "metadata": {},
   "outputs": [],
   "source": [
    "# 스크롤 위치 찾기\n",
    "scr1=browser.find_element_by_xpath('//*[@id=\"subjects\"]/div[2]')\n",
    "\n",
    "# 스크롤 계속 내리기 ( 매우 오래걸림 실행 X)\n",
    "for i in range(1000):\n",
    "    browser.execute_script(\"arguments[0].scrollTop = arguments[0].scrollHeight\", scr1)\n",
    "    sleep(3)"
   ]
  },
  {
   "cell_type": "code",
   "execution_count": 88,
   "metadata": {},
   "outputs": [],
   "source": [
    "# 에타 과목 정보 저장\n",
    "tables = browser.find_elements_by_tag_name(\"tr\")\n",
    "# 이 과목 평점 저장\n",
    "stars = browser.find_elements_by_class_name('star')"
   ]
  },
  {
   "cell_type": "markdown",
   "metadata": {},
   "source": [
    "### 에브리타임 과목정보 크롤링"
   ]
  },
  {
   "cell_type": "code",
   "execution_count": 69,
   "metadata": {},
   "outputs": [],
   "source": [
    "# 칼럼 이름이 html에 있길래 뽑은건데, 2번씩 중복해서 나오길래 이렇게 뽑아봄 (사용안했음 ㅎㅎ;;ㅈㅅ;;)\n",
    "cols=[]\n",
    "for i in range(0,24,2):\n",
    "    cols.append(table[2].text.split('\\n')[i])"
   ]
  },
  {
   "cell_type": "code",
   "execution_count": 96,
   "metadata": {},
   "outputs": [
    {
     "name": "stderr",
     "output_type": "stream",
     "text": [
      "100%|██████████████████████████████████████████████████████████████████████████████| 2915/2915 [01:25<00:00, 34.05it/s]\n"
     ]
    }
   ],
   "source": [
    "# 점수랑 타이틀 가져오는 코드\n",
    "scores=[]\n",
    "links=[]\n",
    "for table in tqdm (stars) :\n",
    "    scores.append(table.get_attribute('title'))\n",
    "    links.append(table.get_attribute('href'))"
   ]
  },
  {
   "cell_type": "code",
   "execution_count": null,
   "metadata": {},
   "outputs": [],
   "source": [
    "# 테이블이, 3번행부터 정보가 있고, 2918행 이후로는 의미없는 행이길래 제외\n",
    "# 테이블에서 세부정보 뽑는 코드\n",
    "\n",
    "tables=tables[3:2918]\n",
    "grades=[] # 추천학년\n",
    "categories=[] # 수업 분류(전공,교양)\n",
    "codes=[] # 과목코드\n",
    "names=[] # 수업 이름\n",
    "profs=[] # 교수 이름\n",
    "weights=[] # 학점(1,2,3)\n",
    "times=[] # 시간\n",
    "competitiors=[] # 에타 시간표에 담은인원\n",
    "\n",
    "for element in tqdm(tables):\n",
    "    splited=element.text.split(' ')\n",
    "    grades.append(splited[0])\n",
    "    categories.append(splited[1])\n",
    "    codes.append(splited[2])\n",
    "    names.append(splited[3])\n",
    "    profs.append(splited[4])\n",
    "    weights.append(splited[5])\n",
    "    try :\n",
    "        times.append(splited[8]+splited[9]+splited[10]+splited[11]+splited[12])\n",
    "    except :\n",
    "        times.append(None)\n",
    "    try :\n",
    "        competitiors.append(splited[13])\n",
    "    except :\n",
    "        competitiors.append(None)"
   ]
  },
  {
   "cell_type": "code",
   "execution_count": 267,
   "metadata": {},
   "outputs": [],
   "source": [
    "# 뽑은 리스트들을 df로 바꿔줬음\n",
    "dfs=[names,codes,scores,categories,profs,times,grades,weights,competitiors,links]\n",
    "df=pd.DataFrame()\n",
    "for cols in dfs:\n",
    "    df=pd.concat([df,pd.Series(cols)],axis=1)"
   ]
  },
  {
   "cell_type": "code",
   "execution_count": 269,
   "metadata": {},
   "outputs": [],
   "source": [
    "# 칼럼 이름 만들어줌\n",
    "df.columns=['class_name','class_code','score','category','professor','time',\n",
    "            'recommend_year','weight','competitor','link']"
   ]
  },
  {
   "cell_type": "code",
   "execution_count": 270,
   "metadata": {},
   "outputs": [],
   "source": [
    "# 아까 위에서 형식 제대로 안지켜진 데이터들 떨굼 ( 보완 방향 (!) )\n",
    "df.dropna(inplace=True)"
   ]
  },
  {
   "cell_type": "code",
   "execution_count": 298,
   "metadata": {},
   "outputs": [],
   "source": [
    "# 교수이름이 3글자 아닌 수업들 뽑아봄 : 왜냐면 그냥 인덱싱으로 한거라 형식 안지켜진건데 들어갔을 수 있음\n",
    "error_list=[]\n",
    "for i in df['professor'].unique():\n",
    "    if len(i) !=3 :\n",
    "        error_list.append(i)\n",
    "\n",
    "# 직접 보고 이름 2,4글자인 교수님들 이름 빼줌\n",
    "non_error=['박진','이화','박민','호티롱안','나강','문영','전긍','고댕','김예솔란','정철',\n",
    "                 '최웅','안준','김강','이건','사공석진','허림','오정','이민','이찬',\n",
    "                 '김명','허균','김영','이웅','임강','최영']\n",
    "\n",
    "# 제거\n",
    "for i in non_error :\n",
    "    error_list.remove(i)"
   ]
  },
  {
   "cell_type": "code",
   "execution_count": 27,
   "metadata": {},
   "outputs": [],
   "source": [
    "# 그냥 이름3자 아니거나, non error 아닌 거 다 없애버렸는데 이거 보완해야함 ( 1 )\n",
    "#df2=df.query('professor not in @error_list') \n",
    "\n",
    "# Save\n",
    "#df2.to_csv('df2.csv',index=False)\n",
    "# Load\n",
    "df2=pd.read_csv('df2.csv')"
   ]
  },
  {
   "cell_type": "code",
   "execution_count": 6,
   "metadata": {},
   "outputs": [],
   "source": [
    "# 링크 추출함, 리뷰 하나도 없는 수업은 java스크립트로 뽑혀오길래 그것도 제외\n",
    "link_list=list(df2['link'].unique())\n",
    "link_list.remove('javascript: alert(\"%EC%95%84%EC%A7%81 %EB%93%B1%EB%A1%9D%EB%90%9C %EA%B0%95%EC%9D%98%ED%8F%89%EC%9D%B4 %EC%97%86%EC%8A%B5%EB%8B%88%EB%8B%A4.\");')"
   ]
  },
  {
   "cell_type": "markdown",
   "metadata": {},
   "source": [
    "### 에브리타임 리뷰크롤링"
   ]
  },
  {
   "cell_type": "code",
   "execution_count": 3,
   "metadata": {},
   "outputs": [],
   "source": [
    "from random import randint\n",
    "from bs4 import BeautifulSoup as bs\n",
    "import requests\n",
    "import lxml.html\n",
    "import re"
   ]
  },
  {
   "cell_type": "code",
   "execution_count": 17,
   "metadata": {},
   "outputs": [],
   "source": [
    "def review_crawl(link_text):\n",
    "    ## Selenium\n",
    "    browser.get(link_text)\n",
    "    sleep(0.5) # 로딩 기다리기\n",
    "    # 리뷰 내용만 추출\n",
    "    reg=re.compile('[0-9]')\n",
    "    reviews={}\n",
    "    sleep(2) # 로딩 기다리기 \n",
    "    tb=browser.find_element_by_class_name('articles')\n",
    "    art_table=tb.find_elements_by_tag_name('article')\n",
    "\n",
    "    for element in art_table :\n",
    "        reviews[element.find_element_by_class_name('text').text]=(float(''.join(reg.findall(element.find_element_by_class_name('on').get_attribute('style'))))*0.05)\n",
    "\n",
    "    # 소스 뺴와서 파싱\n",
    "    table=bs(browser.page_source,'xml')\n",
    "    heads=table.find('div',class_='side head')\n",
    "    \n",
    "    # 제목, 교수 내용 추출\n",
    "    class_name=(heads.find('h2').text)\n",
    "    prof_name=(heads.find('span').text)\n",
    "\n",
    "    # 강의평 테이블 추출\n",
    "    articles=table.find('div',class_='side article')\n",
    "\n",
    "    # 강의평의 평균 평점 내용 추출\n",
    "    mean_score=float(articles.find('span',class_='value').text)\n",
    "\n",
    "    # 강의평 중 세부 테이블 추출\n",
    "    details=articles.find('div',class_='details')\n",
    "\n",
    "    # 강의평 중 세부 내용 추출\n",
    "    labels=details.find_all('label')\n",
    "    detail=details.find_all('span')\n",
    "    detail_type={}\n",
    "    for l,d in zip(labels,detail):\n",
    "        detail_type[str(l.text)]=d.text\n",
    "\n",
    "    review_t=pd.DataFrame.from_dict(reviews, orient='index').reset_index()\n",
    "    review_t.columns=['review','score']\n",
    "    review_t['name']=class_name\n",
    "    review_t['prof']=prof_name\n",
    "    \n",
    "    review_detail=pd.DataFrame.from_dict(detail_type,orient='index').T\n",
    "    review_detail['name']=class_name\n",
    "    review_detail['prof']=prof_name\n",
    "\n",
    "    \n",
    "    return review_t,review_detail"
   ]
  },
  {
   "cell_type": "code",
   "execution_count": null,
   "metadata": {},
   "outputs": [],
   "source": [
    "review=pd.DataFrame() # 강의평 추출 테이블\n",
    "detail=pd.DataFrame() # 과목 세부정보 추출 테이블\n",
    "\n",
    "# ↓ 가끔 안 켜고 시작하면 오류뜰 때가 있어서 그때 대비 \n",
    "browser = webdriver.Chrome()\n",
    "browser.get(link_list[0]) \n",
    "login('###','####')\n",
    "# ↑ 가끔 안 켜고 시작하면 오류뜰 때가 있어서 그때 대비 \n",
    "\n",
    "\n",
    "# 크롤링 과정 (오래걸림 실행 ㄴ)\n",
    "for link in tqdm(link_list) :\n",
    "    try:\n",
    "        r_t,r_d=review_crawl(link)\n",
    "        review=pd.concat([review,r_t])\n",
    "        detail=pd.concat([detail,r_d])\n",
    "        sleep(1)\n",
    "    except:\n",
    "        print(link , '강의평 추출 X ')"
   ]
  },
  {
   "cell_type": "code",
   "execution_count": 23,
   "metadata": {},
   "outputs": [],
   "source": [
    "#Save\n",
    "#review.to_csv('review.csv',index=False)\n",
    "#detail.to_csv('detail.csv',index=False)"
   ]
  },
  {
   "cell_type": "code",
   "execution_count": 47,
   "metadata": {},
   "outputs": [],
   "source": [
    "#Load\n",
    "review=pd.read_csv('review.csv')\n",
    "review=review.reset_index().drop('index',axis=1)"
   ]
  },
  {
   "cell_type": "markdown",
   "metadata": {},
   "source": [
    "####  현재 가지고 있는 테이블 \n",
    "테이블 1: 에브리타임 과목정보  \n",
    "테이블 2: 에브리타임 리뷰  \n",
    "테이블 3 :에브리타임 리뷰 요약    "
   ]
  },
  {
   "cell_type": "code",
   "execution_count": 933,
   "metadata": {
    "scrolled": true
   },
   "outputs": [
    {
     "data": {
      "text/html": [
       "<div>\n",
       "<style scoped>\n",
       "    .dataframe tbody tr th:only-of-type {\n",
       "        vertical-align: middle;\n",
       "    }\n",
       "\n",
       "    .dataframe tbody tr th {\n",
       "        vertical-align: top;\n",
       "    }\n",
       "\n",
       "    .dataframe thead th {\n",
       "        text-align: right;\n",
       "    }\n",
       "</style>\n",
       "<table border=\"1\" class=\"dataframe\">\n",
       "  <thead>\n",
       "    <tr style=\"text-align: right;\">\n",
       "      <th></th>\n",
       "      <th>review</th>\n",
       "      <th>score</th>\n",
       "      <th>name</th>\n",
       "      <th>prof</th>\n",
       "    </tr>\n",
       "  </thead>\n",
       "  <tbody>\n",
       "    <tr>\n",
       "      <th>0</th>\n",
       "      <td>재미있지만 나에겐 어려웠지 .. 하지만 겨수님 강의방식이 너뮤좋음</td>\n",
       "      <td>3.0</td>\n",
       "      <td>역사란무엇인가</td>\n",
       "      <td>윤은주</td>\n",
       "    </tr>\n",
       "    <tr>\n",
       "      <th>1</th>\n",
       "      <td>강의력은 좋으심 그러나 너무 암기위주라 좀 아쉬웠다</td>\n",
       "      <td>2.0</td>\n",
       "      <td>역사란무엇인가</td>\n",
       "      <td>윤은주</td>\n",
       "    </tr>\n",
       "    <tr>\n",
       "      <th>2</th>\n",
       "      <td>수업 내용이 많아서 머리아프긴 해도 재밌는 수업\\n약술형 서술형을 잘 써낼 정도로 ...</td>\n",
       "      <td>5.0</td>\n",
       "      <td>역사란무엇인가</td>\n",
       "      <td>윤은주</td>\n",
       "    </tr>\n",
       "    <tr>\n",
       "      <th>3</th>\n",
       "      <td>간혹 정치성향을 들어내시지만, 사람은 참 좋으십니다. 시험 문제 중 객관식은 모두 ...</td>\n",
       "      <td>5.0</td>\n",
       "      <td>역사란무엇인가</td>\n",
       "      <td>윤은주</td>\n",
       "    </tr>\n",
       "    <tr>\n",
       "      <th>4</th>\n",
       "      <td>교수님 열정있고 최고에요 외울거많고 꽉채워서 강의하셔서 쉴시간없습니다</td>\n",
       "      <td>4.0</td>\n",
       "      <td>역사란무엇인가</td>\n",
       "      <td>윤은주</td>\n",
       "    </tr>\n",
       "  </tbody>\n",
       "</table>\n",
       "</div>"
      ],
      "text/plain": [
       "                                              review  score     name prof\n",
       "0               재미있지만 나에겐 어려웠지 .. 하지만 겨수님 강의방식이 너뮤좋음    3.0  역사란무엇인가  윤은주\n",
       "1                       강의력은 좋으심 그러나 너무 암기위주라 좀 아쉬웠다    2.0  역사란무엇인가  윤은주\n",
       "2  수업 내용이 많아서 머리아프긴 해도 재밌는 수업\\n약술형 서술형을 잘 써낼 정도로 ...    5.0  역사란무엇인가  윤은주\n",
       "3  간혹 정치성향을 들어내시지만, 사람은 참 좋으십니다. 시험 문제 중 객관식은 모두 ...    5.0  역사란무엇인가  윤은주\n",
       "4             교수님 열정있고 최고에요 외울거많고 꽉채워서 강의하셔서 쉴시간없습니다    4.0  역사란무엇인가  윤은주"
      ]
     },
     "execution_count": 933,
     "metadata": {},
     "output_type": "execute_result"
    }
   ],
   "source": [
    "review.head()"
   ]
  },
  {
   "cell_type": "code",
   "execution_count": 934,
   "metadata": {},
   "outputs": [],
   "source": [
    "def cleanText(readData):\n",
    "    text = re.sub('[-=+,#/\\?:^$.@*\\\"※~&%ㆍ!』\\\\‘|\\(\\)\\[\\]\\<\\>`\\'…》]', ' ', readData) # 특문제거\n",
    "    text = re.sub('[^가-힣]',' ',text) # 한글 제외, + 단일 자음모음 제거 \n",
    "    return text"
   ]
  },
  {
   "cell_type": "code",
   "execution_count": 935,
   "metadata": {},
   "outputs": [],
   "source": [
    "clean=[]\n",
    "for data in review['review']:\n",
    "    clean.append(cleanText(data))"
   ]
  },
  {
   "cell_type": "code",
   "execution_count": 936,
   "metadata": {},
   "outputs": [],
   "source": [
    "review['review']=pd.Series(clean)"
   ]
  },
  {
   "cell_type": "markdown",
   "metadata": {},
   "source": [
    "----------------------"
   ]
  },
  {
   "cell_type": "markdown",
   "metadata": {},
   "source": [
    "## Second  :  Text-Mining"
   ]
  },
  {
   "cell_type": "markdown",
   "metadata": {},
   "source": [
    "## Tokenize "
   ]
  },
  {
   "cell_type": "code",
   "execution_count": 378,
   "metadata": {},
   "outputs": [],
   "source": [
    "from konlpy.tag import *\n",
    "kkma = Kkma()"
   ]
  },
  {
   "cell_type": "markdown",
   "metadata": {},
   "source": [
    " https://m.blog.naver.com/PostView.nhnblogId=wideeyed&logNo=221337575742&proxyReferer=https%3A%2F%2Fwww.google.com%2F"
   ]
  },
  {
   "cell_type": "code",
   "execution_count": 379,
   "metadata": {},
   "outputs": [
    {
     "name": "stderr",
     "output_type": "stream",
     "text": [
      "100%|████████████████████████████████████████████████████████████████████████████| 11572/11572 [11:59<00:00, 35.80it/s]\n"
     ]
    }
   ],
   "source": [
    "# 토크나이징하고, 에러난 row ( 대부분 빈 텍스트를 토크나이징 한 것 ) 찾아줌\n",
    "corpus=[] \n",
    "error=[]\n",
    "i=0\n",
    "for data in tqdm(review['review']):\n",
    "    try:\n",
    "        corpus.append(kkma.morphs(data))\n",
    "    except:\n",
    "        error.append(i)\n",
    "    i += 1"
   ]
  },
  {
   "cell_type": "code",
   "execution_count": 939,
   "metadata": {},
   "outputs": [],
   "source": [
    "error=[2568,2720,6009,6532,6589,7729,8722,10853]"
   ]
  },
  {
   "cell_type": "code",
   "execution_count": 940,
   "metadata": {
    "scrolled": true
   },
   "outputs": [
    {
     "data": {
      "text/html": [
       "<div>\n",
       "<style scoped>\n",
       "    .dataframe tbody tr th:only-of-type {\n",
       "        vertical-align: middle;\n",
       "    }\n",
       "\n",
       "    .dataframe tbody tr th {\n",
       "        vertical-align: top;\n",
       "    }\n",
       "\n",
       "    .dataframe thead th {\n",
       "        text-align: right;\n",
       "    }\n",
       "</style>\n",
       "<table border=\"1\" class=\"dataframe\">\n",
       "  <thead>\n",
       "    <tr style=\"text-align: right;\">\n",
       "      <th></th>\n",
       "      <th>review</th>\n",
       "      <th>score</th>\n",
       "      <th>name</th>\n",
       "      <th>prof</th>\n",
       "    </tr>\n",
       "  </thead>\n",
       "  <tbody>\n",
       "    <tr>\n",
       "      <th>2568</th>\n",
       "      <td>...</td>\n",
       "      <td>5.0</td>\n",
       "      <td>한국사회와문화</td>\n",
       "      <td>유양석</td>\n",
       "    </tr>\n",
       "    <tr>\n",
       "      <th>2720</th>\n",
       "      <td></td>\n",
       "      <td>2.0</td>\n",
       "      <td>생활속의스포츠</td>\n",
       "      <td>김의진</td>\n",
       "    </tr>\n",
       "    <tr>\n",
       "      <th>6009</th>\n",
       "      <td></td>\n",
       "      <td>1.0</td>\n",
       "      <td>교육학개론</td>\n",
       "      <td>이기종</td>\n",
       "    </tr>\n",
       "    <tr>\n",
       "      <th>6532</th>\n",
       "      <td></td>\n",
       "      <td>5.0</td>\n",
       "      <td>사제동행세미나</td>\n",
       "      <td>이종민</td>\n",
       "    </tr>\n",
       "    <tr>\n",
       "      <th>6589</th>\n",
       "      <td></td>\n",
       "      <td>5.0</td>\n",
       "      <td>광고와사회적이슈</td>\n",
       "      <td>고한준</td>\n",
       "    </tr>\n",
       "    <tr>\n",
       "      <th>7729</th>\n",
       "      <td></td>\n",
       "      <td>1.0</td>\n",
       "      <td>창업연계공학설계입문</td>\n",
       "      <td>김석명</td>\n",
       "    </tr>\n",
       "    <tr>\n",
       "      <th>8722</th>\n",
       "      <td></td>\n",
       "      <td>5.0</td>\n",
       "      <td>컴퓨터구조</td>\n",
       "      <td>임은진</td>\n",
       "    </tr>\n",
       "    <tr>\n",
       "      <th>10853</th>\n",
       "      <td></td>\n",
       "      <td>3.0</td>\n",
       "      <td>동역학</td>\n",
       "      <td>이동헌</td>\n",
       "    </tr>\n",
       "  </tbody>\n",
       "</table>\n",
       "</div>"
      ],
      "text/plain": [
       "                                                  review  score        name  \\\n",
       "2568                                                 ...    5.0     한국사회와문화   \n",
       "2720                                                        2.0     생활속의스포츠   \n",
       "6009                                                        1.0       교육학개론   \n",
       "6532                                                        5.0     사제동행세미나   \n",
       "6589                                                        5.0    광고와사회적이슈   \n",
       "7729                                                        1.0  창업연계공학설계입문   \n",
       "8722                                                        5.0       컴퓨터구조   \n",
       "10853                                                       3.0         동역학   \n",
       "\n",
       "      prof  \n",
       "2568   유양석  \n",
       "2720   김의진  \n",
       "6009   이기종  \n",
       "6532   이종민  \n",
       "6589   고한준  \n",
       "7729   김석명  \n",
       "8722   임은진  \n",
       "10853  이동헌  "
      ]
     },
     "metadata": {},
     "output_type": "display_data"
    }
   ],
   "source": [
    "# 에러난 친구들\n",
    "display(review.loc[error,:])\n",
    "review=review.drop(error,0) # 빈 행 삭제"
   ]
  },
  {
   "cell_type": "code",
   "execution_count": 385,
   "metadata": {},
   "outputs": [],
   "source": [
    "# save\n",
    "with open('kkma_token_0909.pickle', 'wb') as f:\n",
    "    pickle.dump(corpus, f, pickle.HIGHEST_PROTOCOL)"
   ]
  },
  {
   "cell_type": "code",
   "execution_count": 6,
   "metadata": {},
   "outputs": [],
   "source": [
    "#load\n",
    "import pickle\n",
    "with open('kkma_token_0909.pickle', 'rb') as f:\n",
    "    corpus = pickle.load(f)"
   ]
  },
  {
   "cell_type": "markdown",
   "metadata": {},
   "source": [
    "_______________ "
   ]
  },
  {
   "cell_type": "markdown",
   "metadata": {},
   "source": [
    "## Embedding"
   ]
  },
  {
   "cell_type": "code",
   "execution_count": 7,
   "metadata": {},
   "outputs": [],
   "source": [
    "from gensim.models import Word2Vec, FastText\n",
    "embd_SG= Word2Vec(corpus, size=100, window=2, min_count=10,\n",
    "                           workers=-1, iter=1000, sg=1)\n",
    "#CBOW보단 Skip - Gram의 성능이 전반적으로 낫다고들 함\n",
    "#리뷰 여러개니까, 차원 적으면 표현이 안될거라고 생각, 100차원정도 임시로 줘봤음\n",
    "#리뷰다보니까 별로 안 길어서 윈도우는 작게주고, min_count는 의미없는 단어 나오지 말라고 10정도로 줌\n",
    "# -> 이거 나중에 보완 ( 2 )"
   ]
  },
  {
   "cell_type": "code",
   "execution_count": 19,
   "metadata": {},
   "outputs": [],
   "source": [
    "# 리뷰 단위별 벡터구하기 (받은 코드가 옛날버전인듯 word2vec 모델에 그런인자가 없던데..그래서 그냥 짬)\n",
    "def get_embedding_vector(model,corpus):\n",
    "    embeding_dict={}\n",
    "    embeding_df=pd.DataFrame()\n",
    "    for w,v in zip(model.wv.index2word , model.wv.vectors):\n",
    "        embeding_dict[w]=v\n",
    "        embeding_table=(pd.DataFrame(embeding_dict).T.reset_index())\n",
    "    for words in (corpus):\n",
    "        embeding_df=pd.concat([embeding_df,\n",
    "                               embeding_table.query('@words in index').iloc[:,1:].mean()]\n",
    "                             ,axis=1 )\n",
    "    return embeding_df"
   ]
  },
  {
   "cell_type": "code",
   "execution_count": 20,
   "metadata": {
    "scrolled": true
   },
   "outputs": [
    {
     "name": "stderr",
     "output_type": "stream",
     "text": [
      "C:\\Users\\kcg99\\Anaconda3\\lib\\site-packages\\ipykernel_launcher.py:11: FutureWarning: Sorting because non-concatenation axis is not aligned. A future version\n",
      "of pandas will change to not sort by default.\n",
      "\n",
      "To accept the future behavior, pass 'sort=False'.\n",
      "\n",
      "To retain the current behavior and silence the warning, pass 'sort=True'.\n",
      "\n",
      "  # This is added back by InteractiveShellApp.init_path()\n"
     ]
    },
    {
     "name": "stdout",
     "output_type": "stream",
     "text": [
      "Wall time: 7min 26s\n"
     ]
    }
   ],
   "source": [
    "%%time\n",
    "#임베딩 벡터 추출\n",
    "embedding_vect=get_embedding_vector(embd_SG,corpus)"
   ]
  },
  {
   "cell_type": "code",
   "execution_count": 24,
   "metadata": {},
   "outputs": [],
   "source": [
    "vect=(embedding_vect.T.reset_index()).iloc[:,1:] # 데이터 프레임으로 바꿔주고\n",
    "vect.columns=['Review_Embeded'+str(x) for x in range(100)] # 칼럼이름도 달아줌\n",
    "\n",
    "# 리뷰랑 병합(Group화 해서 강의별 계산을 위함)\n",
    "review.index=range(len(review))\n",
    "df3=pd.concat([review.iloc[:,1:],vect],axis=1)\n",
    "\n",
    "# 여기다 담아놓은다음에 Merge\n",
    "feature=[]\n",
    "for col_name in (['Review_Embeded'+str(x) for x in range(100)]):\n",
    "    feature.append(df3.groupby(['name','prof'])[col_name].mean().reset_index())"
   ]
  },
  {
   "cell_type": "code",
   "execution_count": 37,
   "metadata": {},
   "outputs": [],
   "source": [
    "#Merge의 과정\n",
    "df=df2.drop(['class_code','time','link','competitor'],axis=1)\n",
    "df.rename({'class_name':'name','professor':'prof'},axis=1,inplace=True)\n",
    "\n",
    "for f in feature :\n",
    "    df =pd.merge(df, f, on=['name','prof'],how='left')\n",
    "\n",
    "df.drop_duplicates(inplace=True)\n",
    "df.dropna(inplace=True)"
   ]
  },
  {
   "cell_type": "code",
   "execution_count": 39,
   "metadata": {},
   "outputs": [],
   "source": [
    "# Skip-Gram을 이용한 인베딩 테이블 완성\n",
    "sim_df=pd.concat([df[['name','prof',]],df.iloc[:,6:]],axis=1)\n",
    "sim_df.index=[x for x in range(892)]\n",
    "\n",
    "# 나중에 사용할 테이블\n",
    "detail_table=df2[['class_name','professor','category','recommend_year','weight','score']].drop_duplicates()\n",
    "detail_table.rename({'class_name':'name','professor':'prof'},axis=1,inplace=True)"
   ]
  },
  {
   "cell_type": "code",
   "execution_count": null,
   "metadata": {},
   "outputs": [],
   "source": [
    "\"\"\"\n",
    "df3=pd.concat([df3,pd.get_dummies(df3['category'])],axis=1)\n",
    "df3=pd.concat([df3,pd.get_dummies(df3['recommend_year'])],axis=1)\n",
    "\n",
    "df3.drop(['category','recommend_year'],axis=1,inplace=True)\n",
    "\n",
    "df3=pd.concat([df3[['name','prof','score']],df3.iloc[:,3:]],axis=1)\n",
    "df3['weight']=df3['weight'].astype(int)\n",
    "\n",
    "\"\"\"\n"
   ]
  },
  {
   "cell_type": "markdown",
   "metadata": {},
   "source": [
    "## Similarlity"
   ]
  },
  {
   "cell_type": "code",
   "execution_count": 44,
   "metadata": {},
   "outputs": [],
   "source": [
    "from numpy import dot\n",
    "from numpy.linalg import norm\n",
    "import numpy as np\n",
    "\n",
    "#코사인 유사도 계산 함수\n",
    "def cos_sim(A, B): \n",
    "       return dot(A, B)/(norm(A)*norm(B))\n",
    "\n",
    "#다른 모든 행과 유사도 계산 함수\n",
    "def find_similar(input_name,input_prof,df):\n",
    "    input_lecture=df.query('name == @input_name & prof == @input_prof')\n",
    "    rest_lecture=df.query('name != @input_name | prof != @input_prof')\n",
    "    output=rest_lecture.iloc[:,:2]\n",
    "    output['similar']=''\n",
    "    for i in range(len(rest_lecture)):\n",
    "        output.iloc[i,2]= cos_sim(input_lecture.iloc[:,2:],rest_lecture.iloc[i,2:])\n",
    "    output = pd.merge(output, detail_table, on=['name','prof'],how='left')\n",
    "    output = output.sort_values('similar',ascending=False)\n",
    "    return output"
   ]
  },
  {
   "cell_type": "code",
   "execution_count": 45,
   "metadata": {},
   "outputs": [
    {
     "data": {
      "text/html": [
       "<div>\n",
       "<style scoped>\n",
       "    .dataframe tbody tr th:only-of-type {\n",
       "        vertical-align: middle;\n",
       "    }\n",
       "\n",
       "    .dataframe tbody tr th {\n",
       "        vertical-align: top;\n",
       "    }\n",
       "\n",
       "    .dataframe thead th {\n",
       "        text-align: right;\n",
       "    }\n",
       "</style>\n",
       "<table border=\"1\" class=\"dataframe\">\n",
       "  <thead>\n",
       "    <tr style=\"text-align: right;\">\n",
       "      <th></th>\n",
       "      <th>name</th>\n",
       "      <th>prof</th>\n",
       "      <th>similar</th>\n",
       "      <th>category</th>\n",
       "      <th>recommend_year</th>\n",
       "      <th>weight</th>\n",
       "      <th>score</th>\n",
       "    </tr>\n",
       "  </thead>\n",
       "  <tbody>\n",
       "    <tr>\n",
       "      <th>738</th>\n",
       "      <td>경제학개론</td>\n",
       "      <td>유은나</td>\n",
       "      <td>[0.9296383760575444]</td>\n",
       "      <td>전공선택</td>\n",
       "      <td>1</td>\n",
       "      <td>3</td>\n",
       "      <td>4.67</td>\n",
       "    </tr>\n",
       "    <tr>\n",
       "      <th>16</th>\n",
       "      <td>시민정신과사회봉사</td>\n",
       "      <td>여현철</td>\n",
       "      <td>[0.9253792534243485]</td>\n",
       "      <td>핵심교양</td>\n",
       "      <td>1-4</td>\n",
       "      <td>3</td>\n",
       "      <td>4.19</td>\n",
       "    </tr>\n",
       "    <tr>\n",
       "      <th>48</th>\n",
       "      <td>미디어와공동체</td>\n",
       "      <td>김성준</td>\n",
       "      <td>[0.901716117828681]</td>\n",
       "      <td>핵심교양</td>\n",
       "      <td>1-4</td>\n",
       "      <td>3</td>\n",
       "      <td>4.02</td>\n",
       "    </tr>\n",
       "    <tr>\n",
       "      <th>902</th>\n",
       "      <td>글쓰기(공학인증)</td>\n",
       "      <td>노영근</td>\n",
       "      <td>[0.8949482251001085]</td>\n",
       "      <td>기초교양</td>\n",
       "      <td>1</td>\n",
       "      <td>3</td>\n",
       "      <td>3.70</td>\n",
       "    </tr>\n",
       "    <tr>\n",
       "      <th>80</th>\n",
       "      <td>세계역사의이해</td>\n",
       "      <td>고재백</td>\n",
       "      <td>[0.8926219292275788]</td>\n",
       "      <td>핵심교양</td>\n",
       "      <td>1-4</td>\n",
       "      <td>3</td>\n",
       "      <td>4.34</td>\n",
       "    </tr>\n",
       "  </tbody>\n",
       "</table>\n",
       "</div>"
      ],
      "text/plain": [
       "          name prof               similar category recommend_year weight  \\\n",
       "738      경제학개론  유은나  [0.9296383760575444]     전공선택              1      3   \n",
       "16   시민정신과사회봉사  여현철  [0.9253792534243485]     핵심교양            1-4      3   \n",
       "48     미디어와공동체  김성준   [0.901716117828681]     핵심교양            1-4      3   \n",
       "902  글쓰기(공학인증)  노영근  [0.8949482251001085]     기초교양              1      3   \n",
       "80     세계역사의이해  고재백  [0.8926219292275788]     핵심교양            1-4      3   \n",
       "\n",
       "     score  \n",
       "738   4.67  \n",
       "16    4.19  \n",
       "48    4.02  \n",
       "902   3.70  \n",
       "80    4.34  "
      ]
     },
     "execution_count": 45,
     "metadata": {},
     "output_type": "execute_result"
    }
   ],
   "source": [
    "# 내가 들었던 수업중에 교수님이 (사람)좋았던 수업\n",
    "find_similar('문명과세계화의도전','안현상',sim_df)[:5] # 경제학개론 확인"
   ]
  },
  {
   "cell_type": "code",
   "execution_count": 49,
   "metadata": {},
   "outputs": [
    {
     "data": {
      "text/html": [
       "<div>\n",
       "<style scoped>\n",
       "    .dataframe tbody tr th:only-of-type {\n",
       "        vertical-align: middle;\n",
       "    }\n",
       "\n",
       "    .dataframe tbody tr th {\n",
       "        vertical-align: top;\n",
       "    }\n",
       "\n",
       "    .dataframe thead th {\n",
       "        text-align: right;\n",
       "    }\n",
       "</style>\n",
       "<table border=\"1\" class=\"dataframe\">\n",
       "  <thead>\n",
       "    <tr style=\"text-align: right;\">\n",
       "      <th></th>\n",
       "      <th>review</th>\n",
       "    </tr>\n",
       "  </thead>\n",
       "  <tbody>\n",
       "    <tr>\n",
       "      <th>2569</th>\n",
       "      <td>수업자료 나올거 같은것들 외으면 됨 성적 잘주시는듯. 약술형시험인데 그냥 프린트 그...</td>\n",
       "    </tr>\n",
       "    <tr>\n",
       "      <th>2570</th>\n",
       "      <td>세계사의 굵직한 흐름들을 스토리텔링으로 알려주셔서 쉽게 맥을 잡을 수 있다.\\n중간...</td>\n",
       "    </tr>\n",
       "    <tr>\n",
       "      <th>2571</th>\n",
       "      <td>갓갓이라는 말이 맞음 ㅠ 과제업고 조별로 활동하는것도 없고 한학기내내 교수님강의와 ...</td>\n",
       "    </tr>\n",
       "    <tr>\n",
       "      <th>2572</th>\n",
       "      <td>암기에 자신있으신 분들 무조건 들으시길... 시험 하루전날에 죽고싶은거 빼면 정말 ...</td>\n",
       "    </tr>\n",
       "    <tr>\n",
       "      <th>2573</th>\n",
       "      <td>교수님이 진~~~~~~~~짜 천사... 시험은 솔직히 암기 잘 하는 사람이 유리함 ...</td>\n",
       "    </tr>\n",
       "  </tbody>\n",
       "</table>\n",
       "</div>"
      ],
      "text/plain": [
       "                                                 review\n",
       "2569  수업자료 나올거 같은것들 외으면 됨 성적 잘주시는듯. 약술형시험인데 그냥 프린트 그...\n",
       "2570  세계사의 굵직한 흐름들을 스토리텔링으로 알려주셔서 쉽게 맥을 잡을 수 있다.\\n중간...\n",
       "2571  갓갓이라는 말이 맞음 ㅠ 과제업고 조별로 활동하는것도 없고 한학기내내 교수님강의와 ...\n",
       "2572  암기에 자신있으신 분들 무조건 들으시길... 시험 하루전날에 죽고싶은거 빼면 정말 ...\n",
       "2573  교수님이 진~~~~~~~~짜 천사... 시험은 솔직히 암기 잘 하는 사람이 유리함 ..."
      ]
     },
     "metadata": {},
     "output_type": "display_data"
    },
    {
     "data": {
      "text/html": [
       "<div>\n",
       "<style scoped>\n",
       "    .dataframe tbody tr th:only-of-type {\n",
       "        vertical-align: middle;\n",
       "    }\n",
       "\n",
       "    .dataframe tbody tr th {\n",
       "        vertical-align: top;\n",
       "    }\n",
       "\n",
       "    .dataframe thead th {\n",
       "        text-align: right;\n",
       "    }\n",
       "</style>\n",
       "<table border=\"1\" class=\"dataframe\">\n",
       "  <thead>\n",
       "    <tr style=\"text-align: right;\">\n",
       "      <th></th>\n",
       "      <th>review</th>\n",
       "    </tr>\n",
       "  </thead>\n",
       "  <tbody>\n",
       "    <tr>\n",
       "      <th>9427</th>\n",
       "      <td>이 교수님을 배정으로 받으셨다면 박수먼저 드립니다.\\n교수님 성격 좋으시고 알려주시...</td>\n",
       "    </tr>\n",
       "    <tr>\n",
       "      <th>9428</th>\n",
       "      <td>정말정말 강의력 최고십니다\\n또 교수님께 경제학 배우고 싶어요\\n다만 과제는 굉장히...</td>\n",
       "    </tr>\n",
       "    <tr>\n",
       "      <th>9429</th>\n",
       "      <td>교수님 최고입니다ㅜㅜ 자기소개는 조금 의문이었지만 좋아요</td>\n",
       "    </tr>\n",
       "    <tr>\n",
       "      <th>9430</th>\n",
       "      <td>강제배정으로 들었는데 강제배정해준 학교에게 고마웠던 수업. 강의 듣기 전에 경제에 ...</td>\n",
       "    </tr>\n",
       "    <tr>\n",
       "      <th>9431</th>\n",
       "      <td>유은나 교수님 짱이에요 꼭 들으세요. 진짜 잘 가르치시고 친절하세요</td>\n",
       "    </tr>\n",
       "  </tbody>\n",
       "</table>\n",
       "</div>"
      ],
      "text/plain": [
       "                                                 review\n",
       "9427  이 교수님을 배정으로 받으셨다면 박수먼저 드립니다.\\n교수님 성격 좋으시고 알려주시...\n",
       "9428  정말정말 강의력 최고십니다\\n또 교수님께 경제학 배우고 싶어요\\n다만 과제는 굉장히...\n",
       "9429                    교수님 최고입니다ㅜㅜ 자기소개는 조금 의문이었지만 좋아요\n",
       "9430  강제배정으로 들었는데 강제배정해준 학교에게 고마웠던 수업. 강의 듣기 전에 경제에 ...\n",
       "9431              유은나 교수님 짱이에요 꼭 들으세요. 진짜 잘 가르치시고 친절하세요"
      ]
     },
     "metadata": {},
     "output_type": "display_data"
    }
   ],
   "source": [
    "# 강의는 썩 재미없었지만 교수님이 열정 넘치고 엄청 좋은 분이었음, 유은나 교수님의 경제학 개론도 대체적으로 비슷한 평가\n",
    "display(review.query('name==\"문명과세계화의도전\" & prof ==\"안현상\"')[['review']][:5])\n",
    "display(review.query('name==\"경제학개론\" & prof ==\"유은나\"')[['review']][:5]) "
   ]
  },
  {
   "cell_type": "code",
   "execution_count": 50,
   "metadata": {
    "scrolled": true
   },
   "outputs": [
    {
     "data": {
      "text/html": [
       "<div>\n",
       "<style scoped>\n",
       "    .dataframe tbody tr th:only-of-type {\n",
       "        vertical-align: middle;\n",
       "    }\n",
       "\n",
       "    .dataframe tbody tr th {\n",
       "        vertical-align: top;\n",
       "    }\n",
       "\n",
       "    .dataframe thead th {\n",
       "        text-align: right;\n",
       "    }\n",
       "</style>\n",
       "<table border=\"1\" class=\"dataframe\">\n",
       "  <thead>\n",
       "    <tr style=\"text-align: right;\">\n",
       "      <th></th>\n",
       "      <th>name</th>\n",
       "      <th>prof</th>\n",
       "      <th>similar</th>\n",
       "      <th>category</th>\n",
       "      <th>recommend_year</th>\n",
       "      <th>weight</th>\n",
       "      <th>score</th>\n",
       "    </tr>\n",
       "  </thead>\n",
       "  <tbody>\n",
       "    <tr>\n",
       "      <th>113</th>\n",
       "      <td>영화듣기</td>\n",
       "      <td>노윤아</td>\n",
       "      <td>[0.9394146710621524]</td>\n",
       "      <td>자유교양</td>\n",
       "      <td>1-4</td>\n",
       "      <td>2</td>\n",
       "      <td>3.82</td>\n",
       "    </tr>\n",
       "    <tr>\n",
       "      <th>108</th>\n",
       "      <td>영화독해</td>\n",
       "      <td>임미진</td>\n",
       "      <td>[0.9330671486226814]</td>\n",
       "      <td>자유교양</td>\n",
       "      <td>1-4</td>\n",
       "      <td>2</td>\n",
       "      <td>3.08</td>\n",
       "    </tr>\n",
       "    <tr>\n",
       "      <th>79</th>\n",
       "      <td>세계역사의이해</td>\n",
       "      <td>윤은주</td>\n",
       "      <td>[0.9165696466232842]</td>\n",
       "      <td>핵심교양</td>\n",
       "      <td>1-4</td>\n",
       "      <td>3</td>\n",
       "      <td>4.30</td>\n",
       "    </tr>\n",
       "    <tr>\n",
       "      <th>109</th>\n",
       "      <td>영화독해</td>\n",
       "      <td>김혜정</td>\n",
       "      <td>[0.9130228554471296]</td>\n",
       "      <td>자유교양</td>\n",
       "      <td>1-4</td>\n",
       "      <td>2</td>\n",
       "      <td>3.67</td>\n",
       "    </tr>\n",
       "    <tr>\n",
       "      <th>105</th>\n",
       "      <td>영상을통한영어</td>\n",
       "      <td>서지영</td>\n",
       "      <td>[0.8992512418012921]</td>\n",
       "      <td>자유교양</td>\n",
       "      <td>1-4</td>\n",
       "      <td>2</td>\n",
       "      <td>4.23</td>\n",
       "    </tr>\n",
       "  </tbody>\n",
       "</table>\n",
       "</div>"
      ],
      "text/plain": [
       "        name prof               similar category recommend_year weight  score\n",
       "113     영화듣기  노윤아  [0.9394146710621524]     자유교양            1-4      2   3.82\n",
       "108     영화독해  임미진  [0.9330671486226814]     자유교양            1-4      2   3.08\n",
       "79   세계역사의이해  윤은주  [0.9165696466232842]     핵심교양            1-4      3   4.30\n",
       "109     영화독해  김혜정  [0.9130228554471296]     자유교양            1-4      2   3.67\n",
       "105  영상을통한영어  서지영  [0.8992512418012921]     자유교양            1-4      2   4.23"
      ]
     },
     "metadata": {},
     "output_type": "display_data"
    }
   ],
   "source": [
    "# 외우기만 해서 맘에 안들었던 수업, 영화시리즈 제외하고 한문과 문화 확인\n",
    "display(find_similar('영화작문','이지현',sim_df)[:5]) "
   ]
  },
  {
   "cell_type": "code",
   "execution_count": 51,
   "metadata": {},
   "outputs": [
    {
     "data": {
      "text/html": [
       "<div>\n",
       "<style scoped>\n",
       "    .dataframe tbody tr th:only-of-type {\n",
       "        vertical-align: middle;\n",
       "    }\n",
       "\n",
       "    .dataframe tbody tr th {\n",
       "        vertical-align: top;\n",
       "    }\n",
       "\n",
       "    .dataframe thead th {\n",
       "        text-align: right;\n",
       "    }\n",
       "</style>\n",
       "<table border=\"1\" class=\"dataframe\">\n",
       "  <thead>\n",
       "    <tr style=\"text-align: right;\">\n",
       "      <th></th>\n",
       "      <th>review</th>\n",
       "    </tr>\n",
       "  </thead>\n",
       "  <tbody>\n",
       "    <tr>\n",
       "      <th>3641</th>\n",
       "      <td>수업시간에 강조하신 문장들을 철저히 암기만 한다면 영어울렁증이 있어도 에이플 가능합...</td>\n",
       "    </tr>\n",
       "    <tr>\n",
       "      <th>3642</th>\n",
       "      <td>암기가 중요한 수업입니다. 그러나 영화 자체를 반복해서 자주 보고 대사 위주 약간의...</td>\n",
       "    </tr>\n",
       "    <tr>\n",
       "      <th>3643</th>\n",
       "      <td>자기가 영어를 잘한다, 암기에 문제 없다. 그러면 무조건 A+ 받아갑니다. 4년 내...</td>\n",
       "    </tr>\n",
       "    <tr>\n",
       "      <th>3644</th>\n",
       "      <td>외국인반 들었는데 엄청 쉬웠어요. 한국어를 못해도 시험 잘 볼 듯. 100명중에서 ...</td>\n",
       "    </tr>\n",
       "    <tr>\n",
       "      <th>3645</th>\n",
       "      <td>생각보다 학점따기 어렵습니다 ㅠㅠ\\n열심히 하는 사람도 많구요 암기 싫어하시는 분 ...</td>\n",
       "    </tr>\n",
       "  </tbody>\n",
       "</table>\n",
       "</div>"
      ],
      "text/plain": [
       "                                                 review\n",
       "3641  수업시간에 강조하신 문장들을 철저히 암기만 한다면 영어울렁증이 있어도 에이플 가능합...\n",
       "3642  암기가 중요한 수업입니다. 그러나 영화 자체를 반복해서 자주 보고 대사 위주 약간의...\n",
       "3643  자기가 영어를 잘한다, 암기에 문제 없다. 그러면 무조건 A+ 받아갑니다. 4년 내...\n",
       "3644  외국인반 들었는데 엄청 쉬웠어요. 한국어를 못해도 시험 잘 볼 듯. 100명중에서 ...\n",
       "3645  생각보다 학점따기 어렵습니다 ㅠㅠ\\n열심히 하는 사람도 많구요 암기 싫어하시는 분 ..."
      ]
     },
     "metadata": {},
     "output_type": "display_data"
    },
    {
     "data": {
      "text/html": [
       "<div>\n",
       "<style scoped>\n",
       "    .dataframe tbody tr th:only-of-type {\n",
       "        vertical-align: middle;\n",
       "    }\n",
       "\n",
       "    .dataframe tbody tr th {\n",
       "        vertical-align: top;\n",
       "    }\n",
       "\n",
       "    .dataframe thead th {\n",
       "        text-align: right;\n",
       "    }\n",
       "</style>\n",
       "<table border=\"1\" class=\"dataframe\">\n",
       "  <thead>\n",
       "    <tr style=\"text-align: right;\">\n",
       "      <th></th>\n",
       "      <th>review</th>\n",
       "    </tr>\n",
       "  </thead>\n",
       "  <tbody>\n",
       "    <tr>\n",
       "      <th>1142</th>\n",
       "      <td>첫 핵교수업에 한문수업이라고해서 걱정을 많이했었는데 한자 하나하나 뜻과 음을 다 설...</td>\n",
       "    </tr>\n",
       "    <tr>\n",
       "      <th>1143</th>\n",
       "      <td>전형적인 문과대 시험방식과 수업 스타일이 맞는다면 높은 학점 기대 가능 수업의 유용...</td>\n",
       "    </tr>\n",
       "    <tr>\n",
       "      <th>1144</th>\n",
       "      <td>역사나 옛날이야기 좋아하시는 분들 재밌게 들을 수 있음. 과제는 많진 않은데 귀찮음...</td>\n",
       "    </tr>\n",
       "    <tr>\n",
       "      <th>1145</th>\n",
       "      <td>쁠 안채워줌 중국인 완전 많음 진짜 많음 과제 귀찮음</td>\n",
       "    </tr>\n",
       "    <tr>\n",
       "      <th>1146</th>\n",
       "      <td>처음 접하는 사람들도 어렵지 않게 잘 설명해주시고 영상자료나 사진자료로 강의 주제를...</td>\n",
       "    </tr>\n",
       "  </tbody>\n",
       "</table>\n",
       "</div>"
      ],
      "text/plain": [
       "                                                 review\n",
       "1142  첫 핵교수업에 한문수업이라고해서 걱정을 많이했었는데 한자 하나하나 뜻과 음을 다 설...\n",
       "1143  전형적인 문과대 시험방식과 수업 스타일이 맞는다면 높은 학점 기대 가능 수업의 유용...\n",
       "1144  역사나 옛날이야기 좋아하시는 분들 재밌게 들을 수 있음. 과제는 많진 않은데 귀찮음...\n",
       "1145                      쁠 안채워줌 중국인 완전 많음 진짜 많음 과제 귀찮음\n",
       "1146  처음 접하는 사람들도 어렵지 않게 잘 설명해주시고 영상자료나 사진자료로 강의 주제를..."
      ]
     },
     "metadata": {},
     "output_type": "display_data"
    }
   ],
   "source": [
    "# 암기라는 키워드 자주등장, 차이점은 교수님 칭찬이 많음 ㅎ; 평점차인듯\n",
    "display(review.query('name==\"영화작문\" & prof ==\"이지현\"')[['review']][:5])\n",
    "display(review.query('name==\"한문과문화\" & prof ==\"이규일\"')[['review']][:5]) \n"
   ]
  },
  {
   "cell_type": "markdown",
   "metadata": {},
   "source": [
    "## Pre-Trained Embedding"
   ]
  },
  {
   "cell_type": "code",
   "execution_count": 52,
   "metadata": {},
   "outputs": [],
   "source": [
    "from gensim.models import FastText"
   ]
  },
  {
   "cell_type": "code",
   "execution_count": 53,
   "metadata": {},
   "outputs": [
    {
     "name": "stderr",
     "output_type": "stream",
     "text": [
      "C:\\Users\\kcg99\\Anaconda3\\lib\\site-packages\\ipykernel_launcher.py:1: DeprecationWarning: Call to deprecated `load_fasttext_format` (use load_facebook_vectors (to use pretrained embeddings) or load_facebook_model (to continue training with the loaded full model, more RAM) instead).\n",
      "  \"\"\"Entry point for launching an IPython kernel.\n"
     ]
    },
    {
     "name": "stdout",
     "output_type": "stream",
     "text": [
      "Wall time: 3min 52s\n"
     ]
    }
   ],
   "source": [
    "%%time\n",
    "model = FastText.load_fasttext_format('D:/fasttext/wiki.ko.bin')\n",
    "# Pre-triainde vector를 사용해보고 싶은데, 커뮤니티 리뷰다 보니까 별 이상한 단어랑 줄임말,오타들이 다있음\n",
    "# -> 그래서 일반적 word2vec모델에선 사용이 안되것 같음\n",
    "#   -> 근데 FastText는 corpus에 없는 단어들도 사용 가능 + Noise에 강한모델\n",
    "#      -> 따라서 FastText를 이용한 Pre_Trained Vector 사용 시도"
   ]
  },
  {
   "cell_type": "code",
   "execution_count": 54,
   "metadata": {},
   "outputs": [
    {
     "name": "stderr",
     "output_type": "stream",
     "text": [
      "C:\\Users\\kcg99\\Anaconda3\\lib\\site-packages\\ipykernel_launcher.py:3: DeprecationWarning: Call to deprecated `__getitem__` (Method will be removed in 4.0.0, use self.wv.__getitem__() instead).\n",
      "  This is separate from the ipykernel package so we can avoid doing imports until\n"
     ]
    }
   ],
   "source": [
    "fatx_vec=[] # 문장별 임베딩\n",
    "for words in corpus:\n",
    "    fatx_vec.append(model[words].mean(axis=0))"
   ]
  },
  {
   "cell_type": "code",
   "execution_count": 55,
   "metadata": {},
   "outputs": [],
   "source": [
    "fatx_emd=pd.DataFrame() # 임베딩한 벡터를 데이터프레임으로 만들어줌\n",
    "for vecs in (fatx_vec):\n",
    "    fatx_emd=pd.concat([fatx_emd,pd.DataFrame(vecs)],axis=1)\n",
    "\n",
    "#벡터 데이터프레임 전처리    \n",
    "fatx_emd=fatx_emd.T\n",
    "fatx_emd.index=range(len(fatx_emd))\n",
    "fatx_emd.columns=['Review_ft_Embeded'+str(x) for x in range(300)]\n",
    "\n",
    "#그룹바이 하기위해 달아줌\n",
    "fatx_df=pd.concat([review[['name','prof']],fatx_emd],axis=1)"
   ]
  },
  {
   "cell_type": "code",
   "execution_count": 57,
   "metadata": {},
   "outputs": [],
   "source": [
    "# 강의별 임베딩 평균값 생성\n",
    "feature=[]\n",
    "for col_name in (['Review_ft_Embeded'+str(x) for x in range(300)]):\n",
    "    feature.append(fatx_df.groupby(['name','prof'])[col_name].mean().reset_index())"
   ]
  },
  {
   "cell_type": "code",
   "execution_count": 58,
   "metadata": {},
   "outputs": [],
   "source": [
    "# 중복값 제거\n",
    "fatx_df=fatx_df.iloc[:,:2].drop_duplicates()"
   ]
  },
  {
   "cell_type": "code",
   "execution_count": 59,
   "metadata": {},
   "outputs": [],
   "source": [
    "# 평균값과 강의명 병합\n",
    "for f in feature :\n",
    "    fatx_df =pd.merge(fatx_df, f, on=['name','prof'],how='left')"
   ]
  },
  {
   "cell_type": "code",
   "execution_count": 60,
   "metadata": {},
   "outputs": [],
   "source": [
    "# 임베딩 테이블 완성\n",
    "fatx_df.dropna(inplace=True)"
   ]
  },
  {
   "cell_type": "code",
   "execution_count": 61,
   "metadata": {},
   "outputs": [
    {
     "data": {
      "text/html": [
       "<div>\n",
       "<style scoped>\n",
       "    .dataframe tbody tr th:only-of-type {\n",
       "        vertical-align: middle;\n",
       "    }\n",
       "\n",
       "    .dataframe tbody tr th {\n",
       "        vertical-align: top;\n",
       "    }\n",
       "\n",
       "    .dataframe thead th {\n",
       "        text-align: right;\n",
       "    }\n",
       "</style>\n",
       "<table border=\"1\" class=\"dataframe\">\n",
       "  <thead>\n",
       "    <tr style=\"text-align: right;\">\n",
       "      <th></th>\n",
       "      <th>name</th>\n",
       "      <th>prof</th>\n",
       "      <th>similar</th>\n",
       "      <th>category</th>\n",
       "      <th>recommend_year</th>\n",
       "      <th>weight</th>\n",
       "      <th>score</th>\n",
       "    </tr>\n",
       "  </thead>\n",
       "  <tbody>\n",
       "    <tr>\n",
       "      <th>735</th>\n",
       "      <td>경제학개론</td>\n",
       "      <td>유은나</td>\n",
       "      <td>[0.9988283144631275]</td>\n",
       "      <td>전공선택</td>\n",
       "      <td>1</td>\n",
       "      <td>3</td>\n",
       "      <td>4.67</td>\n",
       "    </tr>\n",
       "    <tr>\n",
       "      <th>80</th>\n",
       "      <td>세계역사의이해</td>\n",
       "      <td>고재백</td>\n",
       "      <td>[0.998548050556071]</td>\n",
       "      <td>핵심교양</td>\n",
       "      <td>1-4</td>\n",
       "      <td>3</td>\n",
       "      <td>4.34</td>\n",
       "    </tr>\n",
       "    <tr>\n",
       "      <th>123</th>\n",
       "      <td>맑시즘의이해</td>\n",
       "      <td>김경래</td>\n",
       "      <td>[0.9978231463359574]</td>\n",
       "      <td>자유교양</td>\n",
       "      <td>1-4</td>\n",
       "      <td>2</td>\n",
       "      <td>4.14</td>\n",
       "    </tr>\n",
       "    <tr>\n",
       "      <th>16</th>\n",
       "      <td>시민정신과사회봉사</td>\n",
       "      <td>여현철</td>\n",
       "      <td>[0.9977997396624142]</td>\n",
       "      <td>핵심교양</td>\n",
       "      <td>1-4</td>\n",
       "      <td>3</td>\n",
       "      <td>4.19</td>\n",
       "    </tr>\n",
       "    <tr>\n",
       "      <th>119</th>\n",
       "      <td>동아시아근대사와인물</td>\n",
       "      <td>류미나</td>\n",
       "      <td>[0.9977124303865662]</td>\n",
       "      <td>자유교양</td>\n",
       "      <td>1-4</td>\n",
       "      <td>2</td>\n",
       "      <td>3.60</td>\n",
       "    </tr>\n",
       "  </tbody>\n",
       "</table>\n",
       "</div>"
      ],
      "text/plain": [
       "           name prof               similar category recommend_year weight  \\\n",
       "735       경제학개론  유은나  [0.9988283144631275]     전공선택              1      3   \n",
       "80      세계역사의이해  고재백   [0.998548050556071]     핵심교양            1-4      3   \n",
       "123      맑시즘의이해  김경래  [0.9978231463359574]     자유교양            1-4      2   \n",
       "16    시민정신과사회봉사  여현철  [0.9977997396624142]     핵심교양            1-4      3   \n",
       "119  동아시아근대사와인물  류미나  [0.9977124303865662]     자유교양            1-4      2   \n",
       "\n",
       "     score  \n",
       "735   4.67  \n",
       "80    4.34  \n",
       "123   4.14  \n",
       "16    4.19  \n",
       "119   3.60  "
      ]
     },
     "metadata": {},
     "output_type": "display_data"
    },
    {
     "data": {
      "text/html": [
       "<div>\n",
       "<style scoped>\n",
       "    .dataframe tbody tr th:only-of-type {\n",
       "        vertical-align: middle;\n",
       "    }\n",
       "\n",
       "    .dataframe tbody tr th {\n",
       "        vertical-align: top;\n",
       "    }\n",
       "\n",
       "    .dataframe thead th {\n",
       "        text-align: right;\n",
       "    }\n",
       "</style>\n",
       "<table border=\"1\" class=\"dataframe\">\n",
       "  <thead>\n",
       "    <tr style=\"text-align: right;\">\n",
       "      <th></th>\n",
       "      <th>name</th>\n",
       "      <th>prof</th>\n",
       "      <th>similar</th>\n",
       "      <th>category</th>\n",
       "      <th>recommend_year</th>\n",
       "      <th>weight</th>\n",
       "      <th>score</th>\n",
       "    </tr>\n",
       "  </thead>\n",
       "  <tbody>\n",
       "    <tr>\n",
       "      <th>738</th>\n",
       "      <td>경제학개론</td>\n",
       "      <td>유은나</td>\n",
       "      <td>[0.9296383760575444]</td>\n",
       "      <td>전공선택</td>\n",
       "      <td>1</td>\n",
       "      <td>3</td>\n",
       "      <td>4.67</td>\n",
       "    </tr>\n",
       "    <tr>\n",
       "      <th>16</th>\n",
       "      <td>시민정신과사회봉사</td>\n",
       "      <td>여현철</td>\n",
       "      <td>[0.9253792534243485]</td>\n",
       "      <td>핵심교양</td>\n",
       "      <td>1-4</td>\n",
       "      <td>3</td>\n",
       "      <td>4.19</td>\n",
       "    </tr>\n",
       "    <tr>\n",
       "      <th>48</th>\n",
       "      <td>미디어와공동체</td>\n",
       "      <td>김성준</td>\n",
       "      <td>[0.901716117828681]</td>\n",
       "      <td>핵심교양</td>\n",
       "      <td>1-4</td>\n",
       "      <td>3</td>\n",
       "      <td>4.02</td>\n",
       "    </tr>\n",
       "    <tr>\n",
       "      <th>902</th>\n",
       "      <td>글쓰기(공학인증)</td>\n",
       "      <td>노영근</td>\n",
       "      <td>[0.8949482251001085]</td>\n",
       "      <td>기초교양</td>\n",
       "      <td>1</td>\n",
       "      <td>3</td>\n",
       "      <td>3.70</td>\n",
       "    </tr>\n",
       "    <tr>\n",
       "      <th>80</th>\n",
       "      <td>세계역사의이해</td>\n",
       "      <td>고재백</td>\n",
       "      <td>[0.8926219292275788]</td>\n",
       "      <td>핵심교양</td>\n",
       "      <td>1-4</td>\n",
       "      <td>3</td>\n",
       "      <td>4.34</td>\n",
       "    </tr>\n",
       "  </tbody>\n",
       "</table>\n",
       "</div>"
      ],
      "text/plain": [
       "          name prof               similar category recommend_year weight  \\\n",
       "738      경제학개론  유은나  [0.9296383760575444]     전공선택              1      3   \n",
       "16   시민정신과사회봉사  여현철  [0.9253792534243485]     핵심교양            1-4      3   \n",
       "48     미디어와공동체  김성준   [0.901716117828681]     핵심교양            1-4      3   \n",
       "902  글쓰기(공학인증)  노영근  [0.8949482251001085]     기초교양              1      3   \n",
       "80     세계역사의이해  고재백  [0.8926219292275788]     핵심교양            1-4      3   \n",
       "\n",
       "     score  \n",
       "738   4.67  \n",
       "16    4.19  \n",
       "48    4.02  \n",
       "902   3.70  \n",
       "80    4.34  "
      ]
     },
     "metadata": {},
     "output_type": "display_data"
    },
    {
     "data": {
      "text/html": [
       "<div>\n",
       "<style scoped>\n",
       "    .dataframe tbody tr th:only-of-type {\n",
       "        vertical-align: middle;\n",
       "    }\n",
       "\n",
       "    .dataframe tbody tr th {\n",
       "        vertical-align: top;\n",
       "    }\n",
       "\n",
       "    .dataframe thead th {\n",
       "        text-align: right;\n",
       "    }\n",
       "</style>\n",
       "<table border=\"1\" class=\"dataframe\">\n",
       "  <thead>\n",
       "    <tr style=\"text-align: right;\">\n",
       "      <th></th>\n",
       "      <th>name</th>\n",
       "      <th>prof</th>\n",
       "      <th>similar</th>\n",
       "      <th>category</th>\n",
       "      <th>recommend_year</th>\n",
       "      <th>weight</th>\n",
       "      <th>score</th>\n",
       "    </tr>\n",
       "  </thead>\n",
       "  <tbody>\n",
       "    <tr>\n",
       "      <th>108</th>\n",
       "      <td>영화독해</td>\n",
       "      <td>임미진</td>\n",
       "      <td>[0.998631855646347]</td>\n",
       "      <td>자유교양</td>\n",
       "      <td>1-4</td>\n",
       "      <td>2</td>\n",
       "      <td>3.08</td>\n",
       "    </tr>\n",
       "    <tr>\n",
       "      <th>113</th>\n",
       "      <td>영화듣기</td>\n",
       "      <td>노윤아</td>\n",
       "      <td>[0.9981571576633029]</td>\n",
       "      <td>자유교양</td>\n",
       "      <td>1-4</td>\n",
       "      <td>2</td>\n",
       "      <td>3.82</td>\n",
       "    </tr>\n",
       "    <tr>\n",
       "      <th>109</th>\n",
       "      <td>영화독해</td>\n",
       "      <td>김혜정</td>\n",
       "      <td>[0.9978252653663491]</td>\n",
       "      <td>자유교양</td>\n",
       "      <td>1-4</td>\n",
       "      <td>2</td>\n",
       "      <td>3.67</td>\n",
       "    </tr>\n",
       "    <tr>\n",
       "      <th>58</th>\n",
       "      <td>시민사회와정치</td>\n",
       "      <td>김학량</td>\n",
       "      <td>[0.9977450449617042]</td>\n",
       "      <td>핵심교양</td>\n",
       "      <td>1-4</td>\n",
       "      <td>3</td>\n",
       "      <td>3.48</td>\n",
       "    </tr>\n",
       "    <tr>\n",
       "      <th>119</th>\n",
       "      <td>동아시아근대사와인물</td>\n",
       "      <td>류미나</td>\n",
       "      <td>[0.9977199706578582]</td>\n",
       "      <td>자유교양</td>\n",
       "      <td>1-4</td>\n",
       "      <td>2</td>\n",
       "      <td>3.60</td>\n",
       "    </tr>\n",
       "  </tbody>\n",
       "</table>\n",
       "</div>"
      ],
      "text/plain": [
       "           name prof               similar category recommend_year weight  \\\n",
       "108        영화독해  임미진   [0.998631855646347]     자유교양            1-4      2   \n",
       "113        영화듣기  노윤아  [0.9981571576633029]     자유교양            1-4      2   \n",
       "109        영화독해  김혜정  [0.9978252653663491]     자유교양            1-4      2   \n",
       "58      시민사회와정치  김학량  [0.9977450449617042]     핵심교양            1-4      3   \n",
       "119  동아시아근대사와인물  류미나  [0.9977199706578582]     자유교양            1-4      2   \n",
       "\n",
       "     score  \n",
       "108   3.08  \n",
       "113   3.82  \n",
       "109   3.67  \n",
       "58    3.48  \n",
       "119   3.60  "
      ]
     },
     "metadata": {},
     "output_type": "display_data"
    },
    {
     "data": {
      "text/html": [
       "<div>\n",
       "<style scoped>\n",
       "    .dataframe tbody tr th:only-of-type {\n",
       "        vertical-align: middle;\n",
       "    }\n",
       "\n",
       "    .dataframe tbody tr th {\n",
       "        vertical-align: top;\n",
       "    }\n",
       "\n",
       "    .dataframe thead th {\n",
       "        text-align: right;\n",
       "    }\n",
       "</style>\n",
       "<table border=\"1\" class=\"dataframe\">\n",
       "  <thead>\n",
       "    <tr style=\"text-align: right;\">\n",
       "      <th></th>\n",
       "      <th>name</th>\n",
       "      <th>prof</th>\n",
       "      <th>similar</th>\n",
       "      <th>category</th>\n",
       "      <th>recommend_year</th>\n",
       "      <th>weight</th>\n",
       "      <th>score</th>\n",
       "    </tr>\n",
       "  </thead>\n",
       "  <tbody>\n",
       "    <tr>\n",
       "      <th>113</th>\n",
       "      <td>영화듣기</td>\n",
       "      <td>노윤아</td>\n",
       "      <td>[0.9394146710621524]</td>\n",
       "      <td>자유교양</td>\n",
       "      <td>1-4</td>\n",
       "      <td>2</td>\n",
       "      <td>3.82</td>\n",
       "    </tr>\n",
       "    <tr>\n",
       "      <th>108</th>\n",
       "      <td>영화독해</td>\n",
       "      <td>임미진</td>\n",
       "      <td>[0.9330671486226814]</td>\n",
       "      <td>자유교양</td>\n",
       "      <td>1-4</td>\n",
       "      <td>2</td>\n",
       "      <td>3.08</td>\n",
       "    </tr>\n",
       "    <tr>\n",
       "      <th>79</th>\n",
       "      <td>세계역사의이해</td>\n",
       "      <td>윤은주</td>\n",
       "      <td>[0.9165696466232842]</td>\n",
       "      <td>핵심교양</td>\n",
       "      <td>1-4</td>\n",
       "      <td>3</td>\n",
       "      <td>4.30</td>\n",
       "    </tr>\n",
       "    <tr>\n",
       "      <th>109</th>\n",
       "      <td>영화독해</td>\n",
       "      <td>김혜정</td>\n",
       "      <td>[0.9130228554471296]</td>\n",
       "      <td>자유교양</td>\n",
       "      <td>1-4</td>\n",
       "      <td>2</td>\n",
       "      <td>3.67</td>\n",
       "    </tr>\n",
       "    <tr>\n",
       "      <th>105</th>\n",
       "      <td>영상을통한영어</td>\n",
       "      <td>서지영</td>\n",
       "      <td>[0.8992512418012921]</td>\n",
       "      <td>자유교양</td>\n",
       "      <td>1-4</td>\n",
       "      <td>2</td>\n",
       "      <td>4.23</td>\n",
       "    </tr>\n",
       "  </tbody>\n",
       "</table>\n",
       "</div>"
      ],
      "text/plain": [
       "        name prof               similar category recommend_year weight  score\n",
       "113     영화듣기  노윤아  [0.9394146710621524]     자유교양            1-4      2   3.82\n",
       "108     영화독해  임미진  [0.9330671486226814]     자유교양            1-4      2   3.08\n",
       "79   세계역사의이해  윤은주  [0.9165696466232842]     핵심교양            1-4      3   4.30\n",
       "109     영화독해  김혜정  [0.9130228554471296]     자유교양            1-4      2   3.67\n",
       "105  영상을통한영어  서지영  [0.8992512418012921]     자유교양            1-4      2   4.23"
      ]
     },
     "metadata": {},
     "output_type": "display_data"
    }
   ],
   "source": [
    "display(find_similar('문명과세계화의도전','안현상',fatx_df)[:5])\n",
    "display(find_similar('문명과세계화의도전','안현상',sim_df)[:5])\n",
    "\n",
    "display(find_similar('영화작문','이지현',fatx_df)[:5])\n",
    "display(find_similar('영화작문','이지현',sim_df)[:5])\n",
    "# 결과가 다름 : 수업 분야가 비슷한것들끼리 조금더 잘 뽑은 느낌 (내 주관 + 내가 알고있는 평가)\n",
    "# 가중치를 줘서 앙상블하는 것도 괜찮지 않을까?"
   ]
  },
  {
   "cell_type": "markdown",
   "metadata": {},
   "source": [
    "### 개선방안\n",
    " 1) 강의평은 학생이 주관적으로 쓰는것, 게다가 온라인커뮤니티상이라 대충쓰는 경우가 많으며, 에타는 리뷰가 적어서 그게 잘 걸러지지도 않음  \n",
    "   > 수업계획서를 크롤링해서, 내용이 비슷한것과, 교수님 성향이 비슷한 걸 나눠줄 수 있지 않을까?  \n",
    "   \n",
    "   \n",
    " 2) 머신러닝 모델링을 진행 안했음\n",
    "   > 이를 이용해 평점에 어떤게 가장 영향을 많이 미치는 지 알 수 있었을텐데 ( 교수 피드백용으로 사용 할 수 있지 않을까?)\n",
    "   \n",
    " 3) 디테일 테이블이랑 병합을 할 수 있음\n",
    "   > 이를 통해 유사도 말고도, 다양한 방법으로 필터링 할 수 있을텐데, 구현해야할 듯"
   ]
  },
  {
   "cell_type": "markdown",
   "metadata": {},
   "source": [
    "관련 링크:  \n",
    " 1) https://ratsgo.github.io/natural%20language%20processing/2017/03/08/word2vec/  \n",
    " 2) https://fasttext.cc/docs/en/pretrained-vectors.html  \n",
    " 3) https://byeongkijeong.github.io/fastText/  \n",
    " 4) https://ratsgo.github.io/from%20frequency%20to%20semantics/2017/03/11/embedding/\n",
    " \n",
    " 1) word2vec의 전반적 사용법    \n",
    " 2) fasttext pre-trained-vectors 구한곳  \n",
    " 3) 그거 사용법 찾은곳   \n",
    " 4) 임베딩의 전반적 정보 얻은곳"
   ]
  },
  {
   "cell_type": "code",
   "execution_count": null,
   "metadata": {},
   "outputs": [],
   "source": [
    "\"\"\"### 전처리 해보려고 했으나 과정이 너무 번거로워서 나중에 Develop \n",
    "\n",
    "error_index=df.query('professor in @error_list').index #\n",
    "\n",
    "error_index.astype(int)\n",
    "\n",
    "error_table=[]\n",
    "for i in error_index:\n",
    "    error_table.append(tables[i].text)\n",
    "\n",
    "#### 에러의 유형 :\n",
    "1) 팀팀class의 제목명이 길어서 오류 ( 팀팀class에 대한 분석은 우리task에 별로 맞지 않는듯 ) -> 제거    \n",
    "2) 강의이름이 영어라 강의 제목에 띄어쓰기가 들어감  \n",
    "3) 외국인 교수라 교수 이름란에 띄어쓰기가 들어감\n",
    "\n",
    "import re\n",
    "error_team= re.compile('팀팀Class')\n",
    "error_english = re.compile('[a-zA-Z]')\n",
    "\n",
    "#### 팀팀삭제\n",
    "\n",
    "error_table2=[]\n",
    "for table in error_table :\n",
    "    if len(error_team.findall(table)) == 0 :\n",
    "        error_table2.append(table)\n",
    "\n",
    "#### 영어제목 수정\n",
    "\n",
    "error_eng=[]\n",
    "error_table3=[]\n",
    "for table in error_table2:\n",
    "    if len(error_english.findall(table)) < 5:\n",
    "        error_table3.append(table)\n",
    "    else :\n",
    "        error_eng.append(table)\n",
    "\n",
    "error_eng[8]\n",
    "\n",
    "reg_kor=re.compile('[가-힣]')\n",
    "\n",
    "eng_title=[]\n",
    "for element in error_eng:\n",
    "    valid_chr=''.join(element.split(' ')[3:])\n",
    "    point=(reg_kor.search(valid_chr)).start()\n",
    "    if len(valid_chr[:point]) >= 1:\n",
    "        eng_title.append(valid_chr[:point])\n",
    "    else \n",
    "\n",
    "eng_title\n",
    "\n",
    "### 전처리 해보려고 했으나 과정이 너무 번거로워서 나중에 Develop \n",
    "\"\"\""
   ]
  }
 ],
 "metadata": {
  "kernelspec": {
   "display_name": "Python 3",
   "language": "python",
   "name": "python3"
  },
  "language_info": {
   "codemirror_mode": {
    "name": "ipython",
    "version": 3
   },
   "file_extension": ".py",
   "mimetype": "text/x-python",
   "name": "python",
   "nbconvert_exporter": "python",
   "pygments_lexer": "ipython3",
   "version": "3.7.3"
  }
 },
 "nbformat": 4,
 "nbformat_minor": 2
}
