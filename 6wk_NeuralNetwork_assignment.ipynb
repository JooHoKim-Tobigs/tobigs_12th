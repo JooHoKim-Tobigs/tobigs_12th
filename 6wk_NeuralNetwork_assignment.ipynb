{
 "cells": [
  {
   "cell_type": "markdown",
   "metadata": {},
   "source": [
    "### Matrix Shape 정리\n",
    "$ X == (N,D) $  \n",
    "$ W_1 == (D,H) $  \n",
    "$ b_1 == (H,) $  \n",
    "$ H == (N,H) $  \n",
    "$ A == (N,H) $  \n",
    "$ W_2 == (H,C) $  \n",
    "$ b_2 == (C,) $  \n",
    "$ S == (N,C) $  \n",
    "$ P == (N,C) $  "
   ]
  },
  {
   "cell_type": "markdown",
   "metadata": {},
   "source": [
    "### Matrix 미분 정리  \n",
    "$ H = XW + b\\qquad  (N, H) = (N, D) \\times (D, H) + (H,) $  \n",
    "$ L = f(H) $  \n",
    "$ {\\partial L \\over \\partial W} = X^T {\\partial L \\over \\partial H} = {\\partial H \\over \\partial W} \\times {\\partial L \\over \\partial H}$  \n",
    "$ {\\partial L \\over \\partial X} = {\\partial L \\over \\partial H} W^T = {\\partial L \\over \\partial H} \\times {\\partial H \\over \\partial X}$  \n",
    "$ {\\partial L \\over \\partial b} = 1*{\\partial L \\over \\partial H}  $  "
   ]
  },
  {
   "cell_type": "markdown",
   "metadata": {},
   "source": [
    "### 2 Layers Chain Rule 정리  \n",
    "##### Forward\n",
    "$ H = XW_1 + b_1$  \n",
    "$ A = ReLU(H) $  \n",
    "$ S = AW_2 + b_2 $  \n",
    "$ P = Softmax(S) $    \n",
    "$ L = -LogLikelihood(P) $  \n",
    "##### Backward  \n",
    "$ {\\partial L \\over \\partial S} = P-T $ : T는 Label  \n",
    "$ {\\partial L \\over \\partial W_2} = {\\partial S \\over \\partial W_2}{\\partial L \\over \\partial S} = A^T(P-T) $  \n",
    "$ {\\partial L \\over \\partial b_2} = 1 * {\\partial L \\over \\partial S} = P-T $  \n",
    "$ {\\partial L \\over \\partial A} = {\\partial L \\over \\partial S}{\\partial S \\over \\partial A} = (P-T)W_2 $  \n",
    "\n",
    "$ {\\partial L \\over \\partial H} = {\\partial A \\over \\partial H} * {\\partial L \\over \\partial A} $  \n",
    "$ {\\partial L \\over \\partial W_1} = {\\partial H \\over \\partial W_1}{\\partial L \\over \\partial H} = X {\\partial L \\over \\partial H}  $  \n",
    "$ {\\partial L \\over \\partial b_1} = {\\partial L \\over \\partial H} $  "
   ]
  },
  {
   "cell_type": "markdown",
   "metadata": {},
   "source": [
    "### Softmax - Cross Entropy Error미분  \n",
    "<img src=\"img/fig a-5.png\">"
   ]
  },
  {
   "cell_type": "markdown",
   "metadata": {},
   "source": [
    "### 데이터 Load  \n",
    "cifar-10 데이터를 불러옵니다.  \n",
    "프레임워크 내 자체적으로 데이터를 로드할 수 있지만, \n",
    "이렇게도 데이터 로드가 가능합니다!  \n",
    "32  32  3 차원의 데이터를 3072 차원으로 바뀌는 것 까지 드릴게요."
   ]
  },
  {
   "cell_type": "code",
   "execution_count": 1,
   "metadata": {},
   "outputs": [],
   "source": [
    "from load_cifar_10 import *\n",
    "import numpy as np\n",
    "from Model import TwoLayerNet"
   ]
  },
  {
   "cell_type": "code",
   "execution_count": 2,
   "metadata": {},
   "outputs": [],
   "source": [
    "cifar_10_dir = 'cifar-10-batches-py'\n",
    "\n",
    "train_data, train_filenames, train_labels, test_data, test_filenames, test_labels, label_names = \\\n",
    "load_cifar_10_data(cifar_10_dir)\n",
    "\n",
    "def Processing_data(train, test):\n",
    "    #change dtype\n",
    "    train = np.array(train, dtype=np.float64)\n",
    "    test = np.array(test, dtype=np.float64)\n",
    "    \n",
    "    #Reshaping\n",
    "    train = np.reshape(train, (train.shape[0], -1))\n",
    "    test = np.reshape(test, (test.shape[0], -1))\n",
    "    \n",
    "    #Normalizing\n",
    "    mean_image = np.mean(train, axis = 0)\n",
    "    #print(train.dtype)\n",
    "    train -= mean_image\n",
    "    test -= mean_image\n",
    "    \n",
    "    return train, test"
   ]
  },
  {
   "cell_type": "code",
   "execution_count": 3,
   "metadata": {},
   "outputs": [],
   "source": [
    "train_data, test_data = Processing_data(train_data, test_data)"
   ]
  },
  {
   "cell_type": "code",
   "execution_count": 4,
   "metadata": {},
   "outputs": [
    {
     "name": "stdout",
     "output_type": "stream",
     "text": [
      "(50000, 3072)\n",
      "(50000,)\n",
      "(10000, 3072)\n",
      "(10000,)\n"
     ]
    }
   ],
   "source": [
    "print(train_data.shape)\n",
    "print(train_labels.shape)\n",
    "print(test_data.shape)\n",
    "print(test_labels.shape)"
   ]
  },
  {
   "cell_type": "markdown",
   "metadata": {},
   "source": [
    "너무 많으니까 5000개, 1000개만 사용합시다!"
   ]
  },
  {
   "cell_type": "code",
   "execution_count": 5,
   "metadata": {},
   "outputs": [],
   "source": [
    "train_data = train_data[:5000]\n",
    "train_labels = train_labels[:5000]\n",
    "test_data = test_data[:1000]\n",
    "test_labels = test_labels[:1000]"
   ]
  },
  {
   "cell_type": "markdown",
   "metadata": {},
   "source": [
    "### 데이터 확인  \n",
    "실제 데이터가 어떻게 생겼는지는 한번 확인해보세요!"
   ]
  },
  {
   "cell_type": "code",
   "execution_count": 6,
   "metadata": {},
   "outputs": [
    {
     "data": {
      "text/plain": [
       "array([[ -71.71074,  -74.05614,  -69.5538 , ...,   -3.63908,  -33.8503 ,\n",
       "         -42.38186],\n",
       "       [  23.28926,   40.94386,   54.4462 , ...,   16.36092,    7.1497 ,\n",
       "          29.61814],\n",
       "       [ 124.28926,  118.94386,  122.4462 , ...,  -46.63908,  -39.8503 ,\n",
       "         -30.38186],\n",
       "       ...,\n",
       "       [  36.28926,   26.94386,   12.4462 , ...,  -84.63908,  -47.8503 ,\n",
       "         -30.38186],\n",
       "       [  23.28926,   15.94386,   -7.5538 , ...,   67.36092,  121.1497 ,\n",
       "          -0.38186],\n",
       "       [ -85.71074, -104.05614, -111.5538 , ...,   29.36092,   16.1497 ,\n",
       "         -14.38186]])"
      ]
     },
     "execution_count": 6,
     "metadata": {},
     "output_type": "execute_result"
    }
   ],
   "source": [
    "train_data"
   ]
  },
  {
   "cell_type": "markdown",
   "metadata": {},
   "source": [
    "### 하이퍼파라미터 설정  \n",
    "하이퍼파라미터를 설정하겠습니다.  \n",
    "hidden_size, epoch_size, batch_size, learning_rate 등은 전부 하이퍼 파라미터이니 바꿔서 해보세요."
   ]
  },
  {
   "cell_type": "code",
   "execution_count": 7,
   "metadata": {},
   "outputs": [],
   "source": [
    "import pandas as pd\n",
    "from Model import *"
   ]
  },
  {
   "cell_type": "code",
   "execution_count": 8,
   "metadata": {},
   "outputs": [],
   "source": [
    "input_size = 32 * 32 * 3\n",
    "output_size = 10\n",
    "N = train_data.shape[0]\n",
    "\n",
    "hidden_sizes = [30,50,70]\n",
    "epoch_sizes = [20,50,70]\n",
    "batch_sizes = [10,50,70,100]\n",
    "learning_rates =[0.0001,0.0005,0.001]\n"
   ]
  },
  {
   "cell_type": "code",
   "execution_count": 9,
   "metadata": {},
   "outputs": [],
   "source": [
    "from itertools import product\n",
    "items = [hidden_sizes,epoch_sizes,batch_sizes,learning_rates]\n",
    "params=list(product(*items))"
   ]
  },
  {
   "cell_type": "markdown",
   "metadata": {},
   "source": [
    "### 모델 만들기  \n",
    "input_size, hidden_size, output_size는 데이터에 맞게 잘 설정해주세요.  \n",
    "Model.py를 완성시켜주세요."
   ]
  },
  {
   "cell_type": "code",
   "execution_count": 10,
   "metadata": {},
   "outputs": [],
   "source": [
    "scores=[]\n",
    "for param in params:\n",
    "    hidden_size,epoch_size,batch_size,learning_rate=param\n",
    "    nn = TwoLayerNet(input_size=input_size, hidden_size=hidden_size, output_size=output_size)\n",
    "    \n",
    "    history = {'val_acc': [],'val_loss': []} #기록해서 그림 그리자!\n",
    "    for i in range(epoch_size):\n",
    "        for j in range(N//batch_size):\n",
    "            batch_mask = np.random.choice(N, batch_size)\n",
    "            x_batch = train_data[batch_mask]\n",
    "            t_batch = train_labels[batch_mask]\n",
    "            nn.backward(x_batch, t_batch) # 가중치 갱신\n",
    "        history[\"val_acc\"].append(nn.accuracy(test_data, test_labels))\n",
    "        history[\"val_loss\"].append(nn.forward(test_data, test_labels))\n",
    "    min_loss = min(pd.Series(history['val_loss']))\n",
    "    scores.append([param,min_loss])\n",
    "    \n",
    "    #if i % 10 == 0:\n",
    "    #    print(i, \"test accuracy :\", nn.accuracy(test_data, test_labels))\n",
    "    #    print(i, \"test loss     :\", nn.forward(test_data, test_labels))"
   ]
  },
  {
   "cell_type": "code",
   "execution_count": 17,
   "metadata": {},
   "outputs": [
    {
     "data": {
      "text/plain": [
       "[[(30, 20, 10, 0.0001), -2.302458058671149],\n",
       " [(30, 20, 10, 0.0005), -2.3024732639213488],\n",
       " [(30, 20, 10, 0.001), -2.302470754174422],\n",
       " [(30, 20, 50, 0.0001), -2.3025740737285965],\n",
       " [(30, 20, 50, 0.0005), -2.302569914295045],\n",
       " [(30, 20, 50, 0.001), -2.3025598534342135],\n",
       " [(30, 20, 70, 0.0001), -2.3025801281756557],\n",
       " [(30, 20, 70, 0.0005), -2.30257983007194],\n",
       " [(30, 20, 70, 0.001), -2.302562886132621],\n",
       " [(30, 20, 100, 0.0001), -2.3025759242079946],\n",
       " [(30, 20, 100, 0.0005), -2.3025694414858764],\n",
       " [(30, 20, 100, 0.001), -2.3025842926657853],\n",
       " [(30, 50, 10, 0.0001), -2.3024390683724816],\n",
       " [(30, 50, 10, 0.0005), -2.3024864714935562],\n",
       " [(30, 50, 10, 0.001), -2.302535340642036],\n",
       " [(30, 50, 50, 0.0001), -2.3025621173701447],\n",
       " [(30, 50, 50, 0.0005), -2.302565780740282],\n",
       " [(30, 50, 50, 0.001), -2.3025774493481017],\n",
       " [(30, 50, 70, 0.0001), -2.3025764274348854],\n",
       " [(30, 50, 70, 0.0005), -2.3025536060479297],\n",
       " [(30, 50, 70, 0.001), -2.302564066844525],\n",
       " [(30, 50, 100, 0.0001), -2.3025609961095297],\n",
       " [(30, 50, 100, 0.0005), -2.302582197460858],\n",
       " [(30, 50, 100, 0.001), -2.3025813255109173],\n",
       " [(30, 70, 10, 0.0001), -2.3024782177053122],\n",
       " [(30, 70, 10, 0.0005), -2.3024381975318424],\n",
       " [(30, 70, 10, 0.001), -2.3024968791200155],\n",
       " [(30, 70, 50, 0.0001), -2.3025716121277218],\n",
       " [(30, 70, 50, 0.0005), -2.3025669144649146],\n",
       " [(30, 70, 50, 0.001), -2.302574076062288],\n",
       " [(30, 70, 70, 0.0001), -2.302592827647807],\n",
       " [(30, 70, 70, 0.0005), -2.3025637980921037],\n",
       " [(30, 70, 70, 0.001), -2.3025759480410004],\n",
       " [(30, 70, 100, 0.0001), -2.302582438751721],\n",
       " [(30, 70, 100, 0.0005), -2.3025578642162765],\n",
       " [(30, 70, 100, 0.001), -2.302578654690671],\n",
       " [(50, 20, 10, 0.0001), -2.3023518190401036],\n",
       " [(50, 20, 10, 0.0005), -2.302386496279788],\n",
       " [(50, 20, 10, 0.001), -2.3023781451871574],\n",
       " [(50, 20, 50, 0.0001), -2.302564430113467],\n",
       " [(50, 20, 50, 0.0005), -2.302563049463974],\n",
       " [(50, 20, 50, 0.001), -2.3025571442527606],\n",
       " [(50, 20, 70, 0.0001), -2.30257619625379],\n",
       " [(50, 20, 70, 0.0005), -2.3025659388592374],\n",
       " [(50, 20, 70, 0.001), -2.302578598860163],\n",
       " [(50, 20, 100, 0.0001), -2.302585126843128],\n",
       " [(50, 20, 100, 0.0005), -2.302558446252615],\n",
       " [(50, 20, 100, 0.001), -2.302575464741162],\n",
       " [(50, 50, 10, 0.0001), -2.302435497576494],\n",
       " [(50, 50, 10, 0.0005), -2.302392557185357],\n",
       " [(50, 50, 10, 0.001), -2.3024775819123544],\n",
       " [(50, 50, 50, 0.0001), -2.3025708955677153],\n",
       " [(50, 50, 50, 0.0005), -2.3025549602761006],\n",
       " [(50, 50, 50, 0.001), -2.3025779282261425],\n",
       " [(50, 50, 70, 0.0001), -2.302575928529988],\n",
       " [(50, 50, 70, 0.0005), -2.302563806971637],\n",
       " [(50, 50, 70, 0.001), -2.3025649175000784],\n",
       " [(50, 50, 100, 0.0001), -2.3025914831626495],\n",
       " [(50, 50, 100, 0.0005), -2.30256451063347],\n",
       " [(50, 50, 100, 0.001), -2.302577313245706],\n",
       " [(50, 70, 10, 0.0001), -2.302392653518586],\n",
       " [(50, 70, 10, 0.0005), -2.3024246283128784],\n",
       " [(50, 70, 10, 0.001), -2.3024318174145755],\n",
       " [(50, 70, 50, 0.0001), -2.302552419423077],\n",
       " [(50, 70, 50, 0.0005), -2.302543393743212],\n",
       " [(50, 70, 50, 0.001), -2.302536952402213],\n",
       " [(50, 70, 70, 0.0001), -2.30256162136587],\n",
       " [(50, 70, 70, 0.0005), -2.3025704395762787],\n",
       " [(50, 70, 70, 0.001), -2.3025851946535716],\n",
       " [(50, 70, 100, 0.0001), -2.3025740116424327],\n",
       " [(50, 70, 100, 0.0005), -2.3025871300016876],\n",
       " [(50, 70, 100, 0.001), -2.3025567130011515],\n",
       " [(70, 20, 10, 0.0001), -2.302305138726395],\n",
       " [(70, 20, 10, 0.0005), -2.302371392416486],\n",
       " [(70, 20, 10, 0.001), -2.302338630603651],\n",
       " [(70, 20, 50, 0.0001), -2.3025558787002836],\n",
       " [(70, 20, 50, 0.0005), -2.3025532037452403],\n",
       " [(70, 20, 50, 0.001), -2.302531338802991],\n",
       " [(70, 20, 70, 0.0001), -2.3025514812233854],\n",
       " [(70, 20, 70, 0.0005), -2.3025902464688914],\n",
       " [(70, 20, 70, 0.001), -2.3025309107924214],\n",
       " [(70, 20, 100, 0.0001), -2.3025704052391345],\n",
       " [(70, 20, 100, 0.0005), -2.3025657430115936],\n",
       " [(70, 20, 100, 0.001), -2.302541303496868],\n",
       " [(70, 50, 10, 0.0001), -2.3022606483200305],\n",
       " [(70, 50, 10, 0.0005), -2.3023567291345226],\n",
       " [(70, 50, 10, 0.001), -2.3024110935402318],\n",
       " [(70, 50, 50, 0.0001), -2.3025468383057603],\n",
       " [(70, 50, 50, 0.0005), -2.3025444491673115],\n",
       " [(70, 50, 50, 0.001), -2.3025328590084575],\n",
       " [(70, 50, 70, 0.0001), -2.3025569704347864],\n",
       " [(70, 50, 70, 0.0005), -2.3025392916603358],\n",
       " [(70, 50, 70, 0.001), -2.3025726142962846],\n",
       " [(70, 50, 100, 0.0001), -2.302556986001641],\n",
       " [(70, 50, 100, 0.0005), -2.3025607822358505],\n",
       " [(70, 50, 100, 0.001), -2.3025786593780913],\n",
       " [(70, 70, 10, 0.0001), -2.3023463673472135],\n",
       " [(70, 70, 10, 0.0005), -2.3023499581917477],\n",
       " [(70, 70, 10, 0.001), -2.302367868347233],\n",
       " [(70, 70, 50, 0.0001), -2.3025300574621412],\n",
       " [(70, 70, 50, 0.0005), -2.3025368597651275],\n",
       " [(70, 70, 50, 0.001), -2.3025688198825427],\n",
       " [(70, 70, 70, 0.0001), -2.302547835204074],\n",
       " [(70, 70, 70, 0.0005), -2.3025460692463127],\n",
       " [(70, 70, 70, 0.001), -2.302577566539044],\n",
       " [(70, 70, 100, 0.0001), -2.302602527703992],\n",
       " [(70, 70, 100, 0.0005), -2.3025797969333563],\n",
       " [(70, 70, 100, 0.001), -2.3025495984837794]]"
      ]
     },
     "execution_count": 17,
     "metadata": {},
     "output_type": "execute_result"
    }
   ],
   "source": [
    "for i in scores"
   ]
  },
  {
   "cell_type": "markdown",
   "metadata": {},
   "source": [
    "### 그림 그리기"
   ]
  },
  {
   "cell_type": "code",
   "execution_count": 11,
   "metadata": {},
   "outputs": [
    {
     "data": {
      "image/png": "[encoded data removed]",
      "text/plain": [
       "<Figure size 432x288 with 2 Axes>"
      ]
     },
     "metadata": {
      "needs_background": "light"
     },
     "output_type": "display_data"
    }
   ],
   "source": [
    "fig = plt.figure()\n",
    "ax_acc = fig.add_subplot(111)\n",
    "\n",
    "ax_acc.plot(range(epoch_size), history['val_acc'], label='정확도(%)', color='darkred')\n",
    "#plt.text(3, 14.7, \"<----------------정확도(%)\", verticalalignment='top', horizontalalignment='right')\n",
    "plt.xlabel('epochs')\n",
    "plt.ylabel('Validation Accuracy(%)')\n",
    "ax_acc.grid(linestyle='--', color='lavender')\n",
    "ax_loss = ax_acc.twinx()\n",
    "ax_loss.plot(range(epoch_size), history['val_loss'], label='오차', color='darkblue')\n",
    "#plt.text(3, 2.2, \"<----------------오차\", verticalalignment='top', horizontalalignment='left')\n",
    "plt.ylabel('Validation Error')\n",
    "ax_loss.yaxis.tick_right()\n",
    "ax_loss.grid(linestyle='--', color='lavender')\n",
    "\n",
    "# 그래프 표시\n",
    "plt.show()"
   ]
  },
  {
   "cell_type": "code",
   "execution_count": null,
   "metadata": {},
   "outputs": [],
   "source": []
  }
 ],
 "metadata": {
  "kernelspec": {
   "display_name": "Python 3",
   "language": "python",
   "name": "python3"
  },
  "language_info": {
   "codemirror_mode": {
    "name": "ipython",
    "version": 3
   },
   "file_extension": ".py",
   "mimetype": "text/x-python",
   "name": "python",
   "nbconvert_exporter": "python",
   "pygments_lexer": "ipython3",
   "version": "3.7.3"
  }
 },
 "nbformat": 4,
 "nbformat_minor": 2
}
