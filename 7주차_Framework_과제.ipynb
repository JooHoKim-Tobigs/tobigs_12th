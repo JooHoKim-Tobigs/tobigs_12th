{
 "cells": [
  {
   "cell_type": "markdown",
   "metadata": {},
   "source": [
    "## Assignment 1 : \n",
    "- Fashion-MNIST Dataset으로 MLP를 자유롭게 구현해보세요.\n",
    "- PyTorch, TensorFlow 선택 자유\n",
    "- Data 파일을 따로 드리지 않습니다. Dataset과 관련된 모듈을 활용하여 직접 해보시길 바랍니다.\n",
    "- 공개된 코드를 사용하셔도 좋습니다. 이 경우 출처를 밝혀 주시기 바랍니다."
   ]
  },
  {
   "cell_type": "markdown",
   "metadata": {},
   "source": [
    "### 1 :  PyTorch"
   ]
  },
  {
   "cell_type": "code",
   "execution_count": 1,
   "metadata": {},
   "outputs": [],
   "source": [
    "import time\n",
    "import numpy as np\n",
    "from torchvision import datasets\n",
    "from torchvision import transforms\n",
    "from torch.utils.data import DataLoader\n",
    "import torch.nn.functional as F\n",
    "import torch\n",
    "\n",
    "\n",
    "if torch.cuda.is_available():\n",
    "    torch.backends.cudnn.deterministic = True"
   ]
  },
  {
   "cell_type": "code",
   "execution_count": 2,
   "metadata": {},
   "outputs": [
    {
     "data": {
      "text/plain": [
       "0"
      ]
     },
     "execution_count": 2,
     "metadata": {},
     "output_type": "execute_result"
    }
   ],
   "source": [
    "torch.cuda.current_device()"
   ]
  },
  {
   "cell_type": "code",
   "execution_count": 3,
   "metadata": {},
   "outputs": [
    {
     "data": {
      "text/plain": [
       "True"
      ]
     },
     "execution_count": 3,
     "metadata": {},
     "output_type": "execute_result"
    }
   ],
   "source": [
    "torch.cuda.is_available()"
   ]
  },
  {
   "cell_type": "markdown",
   "metadata": {},
   "source": [
    "### 1 - 1 : Data"
   ]
  },
  {
   "cell_type": "code",
   "execution_count": 4,
   "metadata": {},
   "outputs": [],
   "source": [
    "# transforms : 데이터 로더에서 가져온 것들을 변환 (Pytorch는 텐서기준으로 돌아감)\n",
    "transform = transforms.Compose([transforms.ToTensor(),\n",
    "                                transforms.Normalize((0.5,),(0.5,))])"
   ]
  },
  {
   "cell_type": "code",
   "execution_count": 5,
   "metadata": {},
   "outputs": [],
   "source": [
    "trainset = datasets.FashionMNIST('~/.pytorch/F_MNIST_data/', download=True, train=True,transform=transform )\n",
    "trainloader = torch.utils.data.DataLoader(trainset, batch_size=64, shuffle=True)\n",
    "\n",
    "testset = datasets.FashionMNIST('~/.pytorch/F_MNIST_data/', download=True, train=False, transform=transform)\n",
    "testloader = torch.utils.data.DataLoader(testset, batch_size=64, shuffle=True)"
   ]
  },
  {
   "cell_type": "code",
   "execution_count": 6,
   "metadata": {
    "scrolled": true
   },
   "outputs": [
    {
     "name": "stdout",
     "output_type": "stream",
     "text": [
      "Image batch dimensions: torch.Size([64, 1, 28, 28])\n",
      "Image label dimensions: torch.Size([64])\n"
     ]
    }
   ],
   "source": [
    "# Checking the dataset\n",
    "for image, label in trainloader:\n",
    "    \n",
    "    print('Image batch dimensions:', image.shape)\n",
    "    print('Image label dimensions:', label.shape)\n",
    "    break"
   ]
  },
  {
   "cell_type": "markdown",
   "metadata": {},
   "source": [
    "______________________________________________________"
   ]
  },
  {
   "cell_type": "markdown",
   "metadata": {},
   "source": [
    " ###  1 - 2 : Modeling"
   ]
  },
  {
   "cell_type": "code",
   "execution_count": 7,
   "metadata": {},
   "outputs": [
    {
     "data": {
      "text/plain": [
       "'\\nevice = torch.device(\"cuda:0\" if torch.cuda.is_available() else \"cpu\")\\n\\n# Hyperparameters\\nrandom_seed = 1\\nlearning_rate = 0.1\\nnum_epochs = 10\\n\\n# Architecture\\nnum_features = 784\\nnum_hidden_1 = 128\\nnum_hidden_2 = 256\\nnum_classes = 10'"
      ]
     },
     "execution_count": 7,
     "metadata": {},
     "output_type": "execute_result"
    }
   ],
   "source": [
    "# Device # 1회\n",
    "\"\"\"\n",
    "evice = torch.device(\"cuda:0\" if torch.cuda.is_available() else \"cpu\")\n",
    "\n",
    "# Hyperparameters\n",
    "random_seed = 1\n",
    "learning_rate = 0.1\n",
    "num_epochs = 10\n",
    "\n",
    "# Architecture\n",
    "num_features = 784\n",
    "num_hidden_1 = 128\n",
    "num_hidden_2 = 256\n",
    "num_classes = 10\"\"\""
   ]
  },
  {
   "cell_type": "code",
   "execution_count": 8,
   "metadata": {},
   "outputs": [],
   "source": [
    "# Device # 2회\n",
    "device = torch.device(\"cuda:0\" if torch.cuda.is_available() else \"cpu\")\n",
    "\n",
    "# Hyperparameters\n",
    "random_seed = 1\n",
    "learning_rate = 0.05\n",
    "num_epochs = 20\n",
    "\n",
    "# Architecture\n",
    "num_features = 784\n",
    "num_hidden_1 = 392\n",
    "num_hidden_2 = 128\n",
    "num_classes = 10"
   ]
  },
  {
   "cell_type": "markdown",
   "metadata": {},
   "source": [
    "_______________________________________"
   ]
  },
  {
   "cell_type": "code",
   "execution_count": 9,
   "metadata": {},
   "outputs": [],
   "source": [
    "class MultilayerPerceptron(torch.nn.Module):\n",
    "\n",
    "    def __init__(self, num_features, num_classes):\n",
    "        # torch.nn.Module 상속\n",
    "        super(MultilayerPerceptron, self).__init__()\n",
    "        \n",
    "        # Architecture\n",
    "        # num_features = 784\n",
    "        # num_hidden_1 = 128\n",
    "        # num_hidden_2 = 256\n",
    "        # num_classes = 10\n",
    "        \n",
    "        ### 1st hidden layer\n",
    "        self.linear_1 = torch.nn.Linear(num_features, num_hidden_1)\n",
    "        \n",
    "        # The following two lines are not necessary, \n",
    "        # but used here to demonstrate how to access the weights\n",
    "        # and use a different weight initialization.\n",
    "        # By default, PyTorch uses Xavier/Glorot initialization, which\n",
    "        # should usually be preferred.\n",
    "        \n",
    "        #detach \n",
    "        # -> 이유 : 텐서는 계산할 때 마다 Gradient를 저장\n",
    "        #         : 근데 weight 초기화할 때 연산도 저장하므로 그 부분을 잡아줘야됨\n",
    "        #         : detac를 이용해 이를 달성\n",
    "        self.linear_1.weight.detach().normal_(0.0, 0.1)\n",
    "        self.linear_1.bias.detach().zero_()\n",
    "        \n",
    "        \n",
    "        ### 2nd hidden layer\n",
    "        self.linear_2 = torch.nn.Linear(num_hidden_1, num_hidden_2)\n",
    "        self.linear_2.weight.detach().normal_(0.0, 0.1)\n",
    "        self.linear_2.bias.detach().zero_()\n",
    "        \n",
    "        ### Output layer\n",
    "        self.linear_out = torch.nn.Linear(num_hidden_2, num_classes)\n",
    "        self.linear_out.weight.detach().normal_(0.0, 0.1)\n",
    "        self.linear_out.bias.detach().zero_()\n",
    "        # 여기까지는 output이 10개로만 나오는 과정\n",
    "        \n",
    "    def forward(self, x):\n",
    "        out = self.linear_1(x)\n",
    "        out = F.relu(out)\n",
    "        out = self.linear_2(out)\n",
    "        out = F.relu(out)\n",
    "        logits = self.linear_out(out) # 10개짜리 weight를 logits 으로 설정\n",
    "        probas = F.log_softmax(logits, dim=1) # 로그 소프트맥스 사용 \n",
    "        return logits, probas "
   ]
  },
  {
   "cell_type": "markdown",
   "metadata": {},
   "source": [
    "### 1 - 3 : Training & Evaluation"
   ]
  },
  {
   "cell_type": "code",
   "execution_count": 10,
   "metadata": {},
   "outputs": [],
   "source": [
    "# 만든 모델을 전달    \n",
    "torch.manual_seed(random_seed)\n",
    "model = MultilayerPerceptron(num_features=num_features,\n",
    "                             num_classes=num_classes)\n",
    "\n",
    "model = model.to(device)\n",
    "\n",
    "optimizer = torch.optim.SGD(model.parameters(), lr=learning_rate)  "
   ]
  },
  {
   "cell_type": "code",
   "execution_count": 11,
   "metadata": {},
   "outputs": [],
   "source": [
    "# 평가용 함수 생성\n",
    "def compute_accuracy(net, data_loader):\n",
    "    net.eval() # 평가\n",
    "    correct_pred, num_examples = 0, 0\n",
    "    with torch.no_grad():\n",
    "        for features, targets in data_loader:\n",
    "            features = features.view(-1, 28*28).to(device)\n",
    "            targets = targets.to(device)\n",
    "            logits, probas = net(features)\n",
    "            _, predicted_labels = torch.max(probas, 1)\n",
    "            num_examples += targets.size(0)\n",
    "            correct_pred += (predicted_labels == targets).sum()\n",
    "        return correct_pred.float()/num_examples * 100    "
   ]
  },
  {
   "cell_type": "code",
   "execution_count": 12,
   "metadata": {},
   "outputs": [
    {
     "name": "stdout",
     "output_type": "stream",
     "text": [
      "Epoch: 001/020 | Batch 000/938 | Cost: 5.7238\n",
      "Epoch: 001/020 | Batch 050/938 | Cost: 0.7195\n",
      "Epoch: 001/020 | Batch 100/938 | Cost: 0.7185\n",
      "Epoch: 001/020 | Batch 150/938 | Cost: 0.6616\n",
      "Epoch: 001/020 | Batch 200/938 | Cost: 0.6694\n",
      "Epoch: 001/020 | Batch 250/938 | Cost: 0.5746\n",
      "Epoch: 001/020 | Batch 300/938 | Cost: 0.5576\n",
      "Epoch: 001/020 | Batch 350/938 | Cost: 0.5404\n",
      "Epoch: 001/020 | Batch 400/938 | Cost: 0.4358\n",
      "Epoch: 001/020 | Batch 450/938 | Cost: 0.6530\n",
      "Epoch: 001/020 | Batch 500/938 | Cost: 0.5639\n",
      "Epoch: 001/020 | Batch 550/938 | Cost: 0.7213\n",
      "Epoch: 001/020 | Batch 600/938 | Cost: 0.4188\n",
      "Epoch: 001/020 | Batch 650/938 | Cost: 0.4574\n",
      "Epoch: 001/020 | Batch 700/938 | Cost: 0.3208\n",
      "Epoch: 001/020 | Batch 750/938 | Cost: 0.3109\n",
      "Epoch: 001/020 | Batch 800/938 | Cost: 0.2543\n",
      "Epoch: 001/020 | Batch 850/938 | Cost: 0.5386\n",
      "Epoch: 001/020 | Batch 900/938 | Cost: 0.2129\n",
      "Epoch: 001/020 training accuracy: 85.59%\n",
      "Time elapsed: 0.44 min\n",
      "Epoch: 002/020 | Batch 000/938 | Cost: 0.3591\n",
      "Epoch: 002/020 | Batch 050/938 | Cost: 0.3187\n",
      "Epoch: 002/020 | Batch 100/938 | Cost: 0.2065\n",
      "Epoch: 002/020 | Batch 150/938 | Cost: 0.5906\n",
      "Epoch: 002/020 | Batch 200/938 | Cost: 0.3964\n",
      "Epoch: 002/020 | Batch 250/938 | Cost: 0.4423\n",
      "Epoch: 002/020 | Batch 300/938 | Cost: 0.3597\n",
      "Epoch: 002/020 | Batch 350/938 | Cost: 0.4626\n",
      "Epoch: 002/020 | Batch 400/938 | Cost: 0.3499\n",
      "Epoch: 002/020 | Batch 450/938 | Cost: 0.6028\n",
      "Epoch: 002/020 | Batch 500/938 | Cost: 0.4373\n",
      "Epoch: 002/020 | Batch 550/938 | Cost: 0.3744\n",
      "Epoch: 002/020 | Batch 600/938 | Cost: 0.3114\n",
      "Epoch: 002/020 | Batch 650/938 | Cost: 0.3217\n",
      "Epoch: 002/020 | Batch 700/938 | Cost: 0.4676\n",
      "Epoch: 002/020 | Batch 750/938 | Cost: 0.5944\n",
      "Epoch: 002/020 | Batch 800/938 | Cost: 0.3674\n",
      "Epoch: 002/020 | Batch 850/938 | Cost: 0.3424\n",
      "Epoch: 002/020 | Batch 900/938 | Cost: 0.3553\n",
      "Epoch: 002/020 training accuracy: 87.55%\n",
      "Time elapsed: 0.89 min\n",
      "Epoch: 003/020 | Batch 000/938 | Cost: 0.3187\n",
      "Epoch: 003/020 | Batch 050/938 | Cost: 0.4181\n",
      "Epoch: 003/020 | Batch 100/938 | Cost: 0.4654\n",
      "Epoch: 003/020 | Batch 150/938 | Cost: 0.3529\n",
      "Epoch: 003/020 | Batch 200/938 | Cost: 0.0964\n",
      "Epoch: 003/020 | Batch 250/938 | Cost: 0.4515\n",
      "Epoch: 003/020 | Batch 300/938 | Cost: 0.3063\n",
      "Epoch: 003/020 | Batch 350/938 | Cost: 0.3401\n",
      "Epoch: 003/020 | Batch 400/938 | Cost: 0.2246\n",
      "Epoch: 003/020 | Batch 450/938 | Cost: 0.4624\n",
      "Epoch: 003/020 | Batch 500/938 | Cost: 0.2946\n",
      "Epoch: 003/020 | Batch 550/938 | Cost: 0.1633\n",
      "Epoch: 003/020 | Batch 600/938 | Cost: 0.4636\n",
      "Epoch: 003/020 | Batch 650/938 | Cost: 0.4273\n",
      "Epoch: 003/020 | Batch 700/938 | Cost: 0.3325\n",
      "Epoch: 003/020 | Batch 750/938 | Cost: 0.4204\n",
      "Epoch: 003/020 | Batch 800/938 | Cost: 0.3639\n",
      "Epoch: 003/020 | Batch 850/938 | Cost: 0.2189\n",
      "Epoch: 003/020 | Batch 900/938 | Cost: 0.1886\n",
      "Epoch: 003/020 training accuracy: 88.49%\n",
      "Time elapsed: 1.38 min\n",
      "Epoch: 004/020 | Batch 000/938 | Cost: 0.2054\n",
      "Epoch: 004/020 | Batch 050/938 | Cost: 0.4057\n",
      "Epoch: 004/020 | Batch 100/938 | Cost: 0.2304\n",
      "Epoch: 004/020 | Batch 150/938 | Cost: 0.3560\n",
      "Epoch: 004/020 | Batch 200/938 | Cost: 0.2183\n",
      "Epoch: 004/020 | Batch 250/938 | Cost: 0.2779\n",
      "Epoch: 004/020 | Batch 300/938 | Cost: 0.3648\n",
      "Epoch: 004/020 | Batch 350/938 | Cost: 0.2265\n",
      "Epoch: 004/020 | Batch 400/938 | Cost: 0.2627\n",
      "Epoch: 004/020 | Batch 450/938 | Cost: 0.3910\n",
      "Epoch: 004/020 | Batch 500/938 | Cost: 0.3251\n",
      "Epoch: 004/020 | Batch 550/938 | Cost: 0.2694\n",
      "Epoch: 004/020 | Batch 600/938 | Cost: 0.2230\n",
      "Epoch: 004/020 | Batch 650/938 | Cost: 0.3407\n",
      "Epoch: 004/020 | Batch 700/938 | Cost: 0.3512\n",
      "Epoch: 004/020 | Batch 750/938 | Cost: 0.2575\n",
      "Epoch: 004/020 | Batch 800/938 | Cost: 0.2762\n",
      "Epoch: 004/020 | Batch 850/938 | Cost: 0.1923\n",
      "Epoch: 004/020 | Batch 900/938 | Cost: 0.3299\n",
      "Epoch: 004/020 training accuracy: 89.48%\n",
      "Time elapsed: 1.91 min\n",
      "Epoch: 005/020 | Batch 000/938 | Cost: 0.3129\n",
      "Epoch: 005/020 | Batch 050/938 | Cost: 0.2232\n",
      "Epoch: 005/020 | Batch 100/938 | Cost: 0.2622\n",
      "Epoch: 005/020 | Batch 150/938 | Cost: 0.3530\n",
      "Epoch: 005/020 | Batch 200/938 | Cost: 0.4063\n",
      "Epoch: 005/020 | Batch 250/938 | Cost: 0.4077\n",
      "Epoch: 005/020 | Batch 300/938 | Cost: 0.4083\n",
      "Epoch: 005/020 | Batch 350/938 | Cost: 0.2426\n",
      "Epoch: 005/020 | Batch 400/938 | Cost: 0.3498\n",
      "Epoch: 005/020 | Batch 450/938 | Cost: 0.1658\n",
      "Epoch: 005/020 | Batch 500/938 | Cost: 0.2365\n",
      "Epoch: 005/020 | Batch 550/938 | Cost: 0.2117\n",
      "Epoch: 005/020 | Batch 600/938 | Cost: 0.2677\n",
      "Epoch: 005/020 | Batch 650/938 | Cost: 0.2893\n",
      "Epoch: 005/020 | Batch 700/938 | Cost: 0.2672\n",
      "Epoch: 005/020 | Batch 750/938 | Cost: 0.3526\n",
      "Epoch: 005/020 | Batch 800/938 | Cost: 0.2495\n",
      "Epoch: 005/020 | Batch 850/938 | Cost: 0.1793\n",
      "Epoch: 005/020 | Batch 900/938 | Cost: 0.2345\n",
      "Epoch: 005/020 training accuracy: 89.92%\n",
      "Time elapsed: 2.42 min\n",
      "Epoch: 006/020 | Batch 000/938 | Cost: 0.4872\n",
      "Epoch: 006/020 | Batch 050/938 | Cost: 0.2165\n",
      "Epoch: 006/020 | Batch 100/938 | Cost: 0.1709\n",
      "Epoch: 006/020 | Batch 150/938 | Cost: 0.3123\n",
      "Epoch: 006/020 | Batch 200/938 | Cost: 0.2427\n",
      "Epoch: 006/020 | Batch 250/938 | Cost: 0.2468\n",
      "Epoch: 006/020 | Batch 300/938 | Cost: 0.2378\n",
      "Epoch: 006/020 | Batch 350/938 | Cost: 0.3043\n",
      "Epoch: 006/020 | Batch 400/938 | Cost: 0.2710\n",
      "Epoch: 006/020 | Batch 450/938 | Cost: 0.2279\n",
      "Epoch: 006/020 | Batch 500/938 | Cost: 0.2341\n",
      "Epoch: 006/020 | Batch 550/938 | Cost: 0.3106\n",
      "Epoch: 006/020 | Batch 600/938 | Cost: 0.2632\n",
      "Epoch: 006/020 | Batch 650/938 | Cost: 0.3267\n",
      "Epoch: 006/020 | Batch 700/938 | Cost: 0.2821\n",
      "Epoch: 006/020 | Batch 750/938 | Cost: 0.2881\n",
      "Epoch: 006/020 | Batch 800/938 | Cost: 0.3361\n",
      "Epoch: 006/020 | Batch 850/938 | Cost: 0.2815\n",
      "Epoch: 006/020 | Batch 900/938 | Cost: 0.1396\n",
      "Epoch: 006/020 training accuracy: 89.80%\n",
      "Time elapsed: 2.94 min\n",
      "Epoch: 007/020 | Batch 000/938 | Cost: 0.3409\n",
      "Epoch: 007/020 | Batch 050/938 | Cost: 0.1783\n",
      "Epoch: 007/020 | Batch 100/938 | Cost: 0.3786\n",
      "Epoch: 007/020 | Batch 150/938 | Cost: 0.1903\n",
      "Epoch: 007/020 | Batch 200/938 | Cost: 0.3337\n",
      "Epoch: 007/020 | Batch 250/938 | Cost: 0.3865\n",
      "Epoch: 007/020 | Batch 300/938 | Cost: 0.2890\n",
      "Epoch: 007/020 | Batch 350/938 | Cost: 0.3673\n",
      "Epoch: 007/020 | Batch 400/938 | Cost: 0.2227\n",
      "Epoch: 007/020 | Batch 450/938 | Cost: 0.1819\n",
      "Epoch: 007/020 | Batch 500/938 | Cost: 0.1987\n",
      "Epoch: 007/020 | Batch 550/938 | Cost: 0.2837\n",
      "Epoch: 007/020 | Batch 600/938 | Cost: 0.2208\n",
      "Epoch: 007/020 | Batch 650/938 | Cost: 0.2434\n",
      "Epoch: 007/020 | Batch 700/938 | Cost: 0.1631\n",
      "Epoch: 007/020 | Batch 750/938 | Cost: 0.2218\n",
      "Epoch: 007/020 | Batch 800/938 | Cost: 0.2880\n",
      "Epoch: 007/020 | Batch 850/938 | Cost: 0.1534\n",
      "Epoch: 007/020 | Batch 900/938 | Cost: 0.1935\n",
      "Epoch: 007/020 training accuracy: 91.47%\n",
      "Time elapsed: 3.44 min\n",
      "Epoch: 008/020 | Batch 000/938 | Cost: 0.3067\n",
      "Epoch: 008/020 | Batch 050/938 | Cost: 0.2686\n",
      "Epoch: 008/020 | Batch 100/938 | Cost: 0.3104\n",
      "Epoch: 008/020 | Batch 150/938 | Cost: 0.3275\n",
      "Epoch: 008/020 | Batch 200/938 | Cost: 0.3317\n",
      "Epoch: 008/020 | Batch 250/938 | Cost: 0.3936\n",
      "Epoch: 008/020 | Batch 300/938 | Cost: 0.2710\n",
      "Epoch: 008/020 | Batch 350/938 | Cost: 0.1347\n",
      "Epoch: 008/020 | Batch 400/938 | Cost: 0.1174\n",
      "Epoch: 008/020 | Batch 450/938 | Cost: 0.1619\n",
      "Epoch: 008/020 | Batch 500/938 | Cost: 0.1652\n",
      "Epoch: 008/020 | Batch 550/938 | Cost: 0.2911\n",
      "Epoch: 008/020 | Batch 600/938 | Cost: 0.2540\n",
      "Epoch: 008/020 | Batch 650/938 | Cost: 0.1917\n",
      "Epoch: 008/020 | Batch 700/938 | Cost: 0.2383\n",
      "Epoch: 008/020 | Batch 750/938 | Cost: 0.2311\n",
      "Epoch: 008/020 | Batch 800/938 | Cost: 0.2093\n",
      "Epoch: 008/020 | Batch 850/938 | Cost: 0.1599\n",
      "Epoch: 008/020 | Batch 900/938 | Cost: 0.3127\n",
      "Epoch: 008/020 training accuracy: 91.44%\n",
      "Time elapsed: 3.95 min\n",
      "Epoch: 009/020 | Batch 000/938 | Cost: 0.0988\n",
      "Epoch: 009/020 | Batch 050/938 | Cost: 0.0929\n",
      "Epoch: 009/020 | Batch 100/938 | Cost: 0.2056\n",
      "Epoch: 009/020 | Batch 150/938 | Cost: 0.2392\n",
      "Epoch: 009/020 | Batch 200/938 | Cost: 0.3026\n",
      "Epoch: 009/020 | Batch 250/938 | Cost: 0.1345\n",
      "Epoch: 009/020 | Batch 300/938 | Cost: 0.3442\n",
      "Epoch: 009/020 | Batch 350/938 | Cost: 0.2583\n",
      "Epoch: 009/020 | Batch 400/938 | Cost: 0.1647\n",
      "Epoch: 009/020 | Batch 450/938 | Cost: 0.2027\n",
      "Epoch: 009/020 | Batch 500/938 | Cost: 0.1933\n",
      "Epoch: 009/020 | Batch 550/938 | Cost: 0.2052\n",
      "Epoch: 009/020 | Batch 600/938 | Cost: 0.2474\n",
      "Epoch: 009/020 | Batch 650/938 | Cost: 0.3528\n",
      "Epoch: 009/020 | Batch 700/938 | Cost: 0.2755\n",
      "Epoch: 009/020 | Batch 750/938 | Cost: 0.1274\n",
      "Epoch: 009/020 | Batch 800/938 | Cost: 0.1421\n",
      "Epoch: 009/020 | Batch 850/938 | Cost: 0.2756\n",
      "Epoch: 009/020 | Batch 900/938 | Cost: 0.2318\n",
      "Epoch: 009/020 training accuracy: 91.98%\n",
      "Time elapsed: 4.45 min\n",
      "Epoch: 010/020 | Batch 000/938 | Cost: 0.1968\n",
      "Epoch: 010/020 | Batch 050/938 | Cost: 0.1801\n",
      "Epoch: 010/020 | Batch 100/938 | Cost: 0.2245\n",
      "Epoch: 010/020 | Batch 150/938 | Cost: 0.1992\n",
      "Epoch: 010/020 | Batch 200/938 | Cost: 0.1607\n",
      "Epoch: 010/020 | Batch 250/938 | Cost: 0.1120\n",
      "Epoch: 010/020 | Batch 300/938 | Cost: 0.2634\n",
      "Epoch: 010/020 | Batch 350/938 | Cost: 0.1149\n",
      "Epoch: 010/020 | Batch 400/938 | Cost: 0.2123\n",
      "Epoch: 010/020 | Batch 450/938 | Cost: 0.2435\n",
      "Epoch: 010/020 | Batch 500/938 | Cost: 0.1636\n",
      "Epoch: 010/020 | Batch 550/938 | Cost: 0.1609\n",
      "Epoch: 010/020 | Batch 600/938 | Cost: 0.2333\n",
      "Epoch: 010/020 | Batch 650/938 | Cost: 0.3429\n",
      "Epoch: 010/020 | Batch 700/938 | Cost: 0.2694\n",
      "Epoch: 010/020 | Batch 750/938 | Cost: 0.3440\n",
      "Epoch: 010/020 | Batch 800/938 | Cost: 0.2799\n",
      "Epoch: 010/020 | Batch 850/938 | Cost: 0.2492\n",
      "Epoch: 010/020 | Batch 900/938 | Cost: 0.3311\n",
      "Epoch: 010/020 training accuracy: 92.18%\n",
      "Time elapsed: 4.94 min\n",
      "Epoch: 011/020 | Batch 000/938 | Cost: 0.1407\n",
      "Epoch: 011/020 | Batch 050/938 | Cost: 0.1616\n",
      "Epoch: 011/020 | Batch 100/938 | Cost: 0.1547\n",
      "Epoch: 011/020 | Batch 150/938 | Cost: 0.2966\n",
      "Epoch: 011/020 | Batch 200/938 | Cost: 0.2694\n",
      "Epoch: 011/020 | Batch 250/938 | Cost: 0.1845\n",
      "Epoch: 011/020 | Batch 300/938 | Cost: 0.2197\n",
      "Epoch: 011/020 | Batch 350/938 | Cost: 0.1255\n",
      "Epoch: 011/020 | Batch 400/938 | Cost: 0.2787\n",
      "Epoch: 011/020 | Batch 450/938 | Cost: 0.1501\n",
      "Epoch: 011/020 | Batch 500/938 | Cost: 0.2920\n",
      "Epoch: 011/020 | Batch 550/938 | Cost: 0.1576\n",
      "Epoch: 011/020 | Batch 600/938 | Cost: 0.1568\n",
      "Epoch: 011/020 | Batch 650/938 | Cost: 0.1254\n",
      "Epoch: 011/020 | Batch 700/938 | Cost: 0.2615\n",
      "Epoch: 011/020 | Batch 750/938 | Cost: 0.2333\n",
      "Epoch: 011/020 | Batch 800/938 | Cost: 0.2303\n",
      "Epoch: 011/020 | Batch 850/938 | Cost: 0.1482\n",
      "Epoch: 011/020 | Batch 900/938 | Cost: 0.2236\n",
      "Epoch: 011/020 training accuracy: 92.99%\n",
      "Time elapsed: 5.46 min\n",
      "Epoch: 012/020 | Batch 000/938 | Cost: 0.2307\n",
      "Epoch: 012/020 | Batch 050/938 | Cost: 0.1148\n",
      "Epoch: 012/020 | Batch 100/938 | Cost: 0.1144\n",
      "Epoch: 012/020 | Batch 150/938 | Cost: 0.2444\n",
      "Epoch: 012/020 | Batch 200/938 | Cost: 0.1661\n",
      "Epoch: 012/020 | Batch 250/938 | Cost: 0.1476\n",
      "Epoch: 012/020 | Batch 300/938 | Cost: 0.1445\n",
      "Epoch: 012/020 | Batch 350/938 | Cost: 0.2569\n",
      "Epoch: 012/020 | Batch 400/938 | Cost: 0.1862\n",
      "Epoch: 012/020 | Batch 450/938 | Cost: 0.1379\n",
      "Epoch: 012/020 | Batch 500/938 | Cost: 0.0964\n",
      "Epoch: 012/020 | Batch 550/938 | Cost: 0.3508\n",
      "Epoch: 012/020 | Batch 600/938 | Cost: 0.1708\n",
      "Epoch: 012/020 | Batch 650/938 | Cost: 0.2659\n",
      "Epoch: 012/020 | Batch 700/938 | Cost: 0.1055\n",
      "Epoch: 012/020 | Batch 750/938 | Cost: 0.2192\n",
      "Epoch: 012/020 | Batch 800/938 | Cost: 0.2316\n",
      "Epoch: 012/020 | Batch 850/938 | Cost: 0.2657\n",
      "Epoch: 012/020 | Batch 900/938 | Cost: 0.3002\n",
      "Epoch: 012/020 training accuracy: 93.13%\n",
      "Time elapsed: 5.95 min\n",
      "Epoch: 013/020 | Batch 000/938 | Cost: 0.2112\n",
      "Epoch: 013/020 | Batch 050/938 | Cost: 0.2014\n",
      "Epoch: 013/020 | Batch 100/938 | Cost: 0.1239\n",
      "Epoch: 013/020 | Batch 150/938 | Cost: 0.3295\n",
      "Epoch: 013/020 | Batch 200/938 | Cost: 0.1774\n",
      "Epoch: 013/020 | Batch 250/938 | Cost: 0.2523\n",
      "Epoch: 013/020 | Batch 300/938 | Cost: 0.2241\n",
      "Epoch: 013/020 | Batch 350/938 | Cost: 0.1170\n",
      "Epoch: 013/020 | Batch 400/938 | Cost: 0.2938\n",
      "Epoch: 013/020 | Batch 450/938 | Cost: 0.1917\n",
      "Epoch: 013/020 | Batch 500/938 | Cost: 0.1089\n",
      "Epoch: 013/020 | Batch 550/938 | Cost: 0.1105\n",
      "Epoch: 013/020 | Batch 600/938 | Cost: 0.2086\n",
      "Epoch: 013/020 | Batch 650/938 | Cost: 0.2345\n",
      "Epoch: 013/020 | Batch 700/938 | Cost: 0.2728\n",
      "Epoch: 013/020 | Batch 750/938 | Cost: 0.2066\n",
      "Epoch: 013/020 | Batch 800/938 | Cost: 0.2802\n",
      "Epoch: 013/020 | Batch 850/938 | Cost: 0.1716\n",
      "Epoch: 013/020 | Batch 900/938 | Cost: 0.2314\n",
      "Epoch: 013/020 training accuracy: 92.89%\n",
      "Time elapsed: 6.45 min\n",
      "Epoch: 014/020 | Batch 000/938 | Cost: 0.1417\n",
      "Epoch: 014/020 | Batch 050/938 | Cost: 0.0702\n",
      "Epoch: 014/020 | Batch 100/938 | Cost: 0.3639\n",
      "Epoch: 014/020 | Batch 150/938 | Cost: 0.1603\n",
      "Epoch: 014/020 | Batch 200/938 | Cost: 0.1165\n",
      "Epoch: 014/020 | Batch 250/938 | Cost: 0.1817\n",
      "Epoch: 014/020 | Batch 300/938 | Cost: 0.1799\n",
      "Epoch: 014/020 | Batch 350/938 | Cost: 0.2330\n",
      "Epoch: 014/020 | Batch 400/938 | Cost: 0.1789\n",
      "Epoch: 014/020 | Batch 450/938 | Cost: 0.2327\n",
      "Epoch: 014/020 | Batch 500/938 | Cost: 0.2040\n",
      "Epoch: 014/020 | Batch 550/938 | Cost: 0.2732\n",
      "Epoch: 014/020 | Batch 600/938 | Cost: 0.1740\n",
      "Epoch: 014/020 | Batch 650/938 | Cost: 0.2578\n",
      "Epoch: 014/020 | Batch 700/938 | Cost: 0.2453\n",
      "Epoch: 014/020 | Batch 750/938 | Cost: 0.3075\n",
      "Epoch: 014/020 | Batch 800/938 | Cost: 0.1052\n",
      "Epoch: 014/020 | Batch 850/938 | Cost: 0.1924\n",
      "Epoch: 014/020 | Batch 900/938 | Cost: 0.1605\n",
      "Epoch: 014/020 training accuracy: 93.13%\n",
      "Time elapsed: 6.94 min\n",
      "Epoch: 015/020 | Batch 000/938 | Cost: 0.2756\n",
      "Epoch: 015/020 | Batch 050/938 | Cost: 0.2025\n",
      "Epoch: 015/020 | Batch 100/938 | Cost: 0.1243\n",
      "Epoch: 015/020 | Batch 150/938 | Cost: 0.1575\n",
      "Epoch: 015/020 | Batch 200/938 | Cost: 0.1097\n",
      "Epoch: 015/020 | Batch 250/938 | Cost: 0.1561\n",
      "Epoch: 015/020 | Batch 300/938 | Cost: 0.1751\n",
      "Epoch: 015/020 | Batch 350/938 | Cost: 0.0822\n",
      "Epoch: 015/020 | Batch 400/938 | Cost: 0.1485\n",
      "Epoch: 015/020 | Batch 450/938 | Cost: 0.0765\n",
      "Epoch: 015/020 | Batch 500/938 | Cost: 0.2484\n",
      "Epoch: 015/020 | Batch 550/938 | Cost: 0.1373\n",
      "Epoch: 015/020 | Batch 600/938 | Cost: 0.2819\n",
      "Epoch: 015/020 | Batch 650/938 | Cost: 0.1910\n",
      "Epoch: 015/020 | Batch 700/938 | Cost: 0.1455\n",
      "Epoch: 015/020 | Batch 750/938 | Cost: 0.0857\n",
      "Epoch: 015/020 | Batch 800/938 | Cost: 0.1755\n",
      "Epoch: 015/020 | Batch 850/938 | Cost: 0.1240\n",
      "Epoch: 015/020 | Batch 900/938 | Cost: 0.1322\n",
      "Epoch: 015/020 training accuracy: 94.60%\n",
      "Time elapsed: 7.46 min\n",
      "Epoch: 016/020 | Batch 000/938 | Cost: 0.1411\n",
      "Epoch: 016/020 | Batch 050/938 | Cost: 0.0911\n",
      "Epoch: 016/020 | Batch 100/938 | Cost: 0.1253\n",
      "Epoch: 016/020 | Batch 150/938 | Cost: 0.1634\n",
      "Epoch: 016/020 | Batch 200/938 | Cost: 0.2125\n",
      "Epoch: 016/020 | Batch 250/938 | Cost: 0.0506\n",
      "Epoch: 016/020 | Batch 300/938 | Cost: 0.3482\n",
      "Epoch: 016/020 | Batch 350/938 | Cost: 0.2297\n",
      "Epoch: 016/020 | Batch 400/938 | Cost: 0.1841\n",
      "Epoch: 016/020 | Batch 450/938 | Cost: 0.3299\n",
      "Epoch: 016/020 | Batch 500/938 | Cost: 0.1320\n",
      "Epoch: 016/020 | Batch 550/938 | Cost: 0.0747\n",
      "Epoch: 016/020 | Batch 600/938 | Cost: 0.2226\n",
      "Epoch: 016/020 | Batch 650/938 | Cost: 0.1854\n",
      "Epoch: 016/020 | Batch 700/938 | Cost: 0.1857\n",
      "Epoch: 016/020 | Batch 750/938 | Cost: 0.1565\n",
      "Epoch: 016/020 | Batch 800/938 | Cost: 0.1307\n",
      "Epoch: 016/020 | Batch 850/938 | Cost: 0.1175\n",
      "Epoch: 016/020 | Batch 900/938 | Cost: 0.1744\n",
      "Epoch: 016/020 training accuracy: 94.19%\n",
      "Time elapsed: 8.01 min\n",
      "Epoch: 017/020 | Batch 000/938 | Cost: 0.1882\n",
      "Epoch: 017/020 | Batch 050/938 | Cost: 0.1243\n",
      "Epoch: 017/020 | Batch 100/938 | Cost: 0.1451\n",
      "Epoch: 017/020 | Batch 150/938 | Cost: 0.1305\n",
      "Epoch: 017/020 | Batch 200/938 | Cost: 0.0539\n",
      "Epoch: 017/020 | Batch 250/938 | Cost: 0.0900\n",
      "Epoch: 017/020 | Batch 300/938 | Cost: 0.1334\n",
      "Epoch: 017/020 | Batch 350/938 | Cost: 0.3257\n",
      "Epoch: 017/020 | Batch 400/938 | Cost: 0.3079\n",
      "Epoch: 017/020 | Batch 450/938 | Cost: 0.1134\n",
      "Epoch: 017/020 | Batch 500/938 | Cost: 0.1272\n",
      "Epoch: 017/020 | Batch 550/938 | Cost: 0.1410\n",
      "Epoch: 017/020 | Batch 600/938 | Cost: 0.1038\n",
      "Epoch: 017/020 | Batch 650/938 | Cost: 0.0855\n",
      "Epoch: 017/020 | Batch 700/938 | Cost: 0.1217\n",
      "Epoch: 017/020 | Batch 750/938 | Cost: 0.1880\n",
      "Epoch: 017/020 | Batch 800/938 | Cost: 0.2927\n",
      "Epoch: 017/020 | Batch 850/938 | Cost: 0.1637\n",
      "Epoch: 017/020 | Batch 900/938 | Cost: 0.2051\n",
      "Epoch: 017/020 training accuracy: 94.36%\n",
      "Time elapsed: 8.61 min\n",
      "Epoch: 018/020 | Batch 000/938 | Cost: 0.1010\n",
      "Epoch: 018/020 | Batch 050/938 | Cost: 0.0704\n",
      "Epoch: 018/020 | Batch 100/938 | Cost: 0.0665\n",
      "Epoch: 018/020 | Batch 150/938 | Cost: 0.2245\n",
      "Epoch: 018/020 | Batch 200/938 | Cost: 0.1353\n",
      "Epoch: 018/020 | Batch 250/938 | Cost: 0.1790\n",
      "Epoch: 018/020 | Batch 300/938 | Cost: 0.0902\n",
      "Epoch: 018/020 | Batch 350/938 | Cost: 0.1194\n"
     ]
    },
    {
     "name": "stdout",
     "output_type": "stream",
     "text": [
      "Epoch: 018/020 | Batch 400/938 | Cost: 0.0865\n",
      "Epoch: 018/020 | Batch 450/938 | Cost: 0.0771\n",
      "Epoch: 018/020 | Batch 500/938 | Cost: 0.1079\n",
      "Epoch: 018/020 | Batch 550/938 | Cost: 0.1499\n",
      "Epoch: 018/020 | Batch 600/938 | Cost: 0.0542\n",
      "Epoch: 018/020 | Batch 650/938 | Cost: 0.2162\n",
      "Epoch: 018/020 | Batch 700/938 | Cost: 0.1602\n",
      "Epoch: 018/020 | Batch 750/938 | Cost: 0.2136\n",
      "Epoch: 018/020 | Batch 800/938 | Cost: 0.2707\n",
      "Epoch: 018/020 | Batch 850/938 | Cost: 0.1536\n",
      "Epoch: 018/020 | Batch 900/938 | Cost: 0.2091\n",
      "Epoch: 018/020 training accuracy: 94.65%\n",
      "Time elapsed: 9.19 min\n",
      "Epoch: 019/020 | Batch 000/938 | Cost: 0.0852\n",
      "Epoch: 019/020 | Batch 050/938 | Cost: 0.1218\n",
      "Epoch: 019/020 | Batch 100/938 | Cost: 0.0736\n",
      "Epoch: 019/020 | Batch 150/938 | Cost: 0.0808\n",
      "Epoch: 019/020 | Batch 200/938 | Cost: 0.3758\n",
      "Epoch: 019/020 | Batch 250/938 | Cost: 0.2614\n",
      "Epoch: 019/020 | Batch 300/938 | Cost: 0.1794\n",
      "Epoch: 019/020 | Batch 350/938 | Cost: 0.1066\n",
      "Epoch: 019/020 | Batch 400/938 | Cost: 0.1797\n",
      "Epoch: 019/020 | Batch 450/938 | Cost: 0.1652\n",
      "Epoch: 019/020 | Batch 500/938 | Cost: 0.1791\n",
      "Epoch: 019/020 | Batch 550/938 | Cost: 0.1599\n",
      "Epoch: 019/020 | Batch 600/938 | Cost: 0.1778\n",
      "Epoch: 019/020 | Batch 650/938 | Cost: 0.1713\n",
      "Epoch: 019/020 | Batch 700/938 | Cost: 0.1129\n",
      "Epoch: 019/020 | Batch 750/938 | Cost: 0.1427\n",
      "Epoch: 019/020 | Batch 800/938 | Cost: 0.1970\n",
      "Epoch: 019/020 | Batch 850/938 | Cost: 0.1753\n",
      "Epoch: 019/020 | Batch 900/938 | Cost: 0.1760\n",
      "Epoch: 019/020 training accuracy: 95.41%\n",
      "Time elapsed: 9.77 min\n",
      "Epoch: 020/020 | Batch 000/938 | Cost: 0.0653\n",
      "Epoch: 020/020 | Batch 050/938 | Cost: 0.1717\n",
      "Epoch: 020/020 | Batch 100/938 | Cost: 0.1600\n",
      "Epoch: 020/020 | Batch 150/938 | Cost: 0.2064\n",
      "Epoch: 020/020 | Batch 200/938 | Cost: 0.1179\n",
      "Epoch: 020/020 | Batch 250/938 | Cost: 0.2887\n",
      "Epoch: 020/020 | Batch 300/938 | Cost: 0.0666\n",
      "Epoch: 020/020 | Batch 350/938 | Cost: 0.0880\n",
      "Epoch: 020/020 | Batch 400/938 | Cost: 0.0919\n",
      "Epoch: 020/020 | Batch 450/938 | Cost: 0.1380\n",
      "Epoch: 020/020 | Batch 500/938 | Cost: 0.0668\n",
      "Epoch: 020/020 | Batch 550/938 | Cost: 0.0761\n",
      "Epoch: 020/020 | Batch 600/938 | Cost: 0.2647\n",
      "Epoch: 020/020 | Batch 650/938 | Cost: 0.1875\n",
      "Epoch: 020/020 | Batch 700/938 | Cost: 0.1141\n",
      "Epoch: 020/020 | Batch 750/938 | Cost: 0.1627\n",
      "Epoch: 020/020 | Batch 800/938 | Cost: 0.1744\n",
      "Epoch: 020/020 | Batch 850/938 | Cost: 0.1547\n",
      "Epoch: 020/020 | Batch 900/938 | Cost: 0.0847\n",
      "Epoch: 020/020 training accuracy: 94.92%\n",
      "Time elapsed: 10.34 min\n",
      "Total Training Time: 10.34 min\n"
     ]
    }
   ],
   "source": [
    "start_time = time.time()\n",
    "for epoch in range(num_epochs):\n",
    "    model.train()\n",
    "    for batch_idx, (features, targets) in enumerate(trainloader):\n",
    "        \n",
    "        features = features.view(-1, 28*28).to(device)\n",
    "        targets = targets.to(device)\n",
    "            \n",
    "        ### FORWARD AND BACK PROP\n",
    "        logits, probas = model(features)\n",
    "        cost = F.cross_entropy(probas, targets)\n",
    "        optimizer.zero_grad()\n",
    "        \n",
    "        cost.backward()\n",
    "        \n",
    "        ### UPDATE MODEL PARAMETERS\n",
    "        optimizer.step()\n",
    "        \n",
    "        ### LOGGING\n",
    "        if not batch_idx % 50:\n",
    "            print ('Epoch: %03d/%03d | Batch %03d/%03d | Cost: %.4f' \n",
    "                   %(epoch+1, num_epochs, batch_idx, \n",
    "                     len(trainloader), cost))\n",
    "\n",
    "    with torch.set_grad_enabled(False):\n",
    "        print('Epoch: %03d/%03d training accuracy: %.2f%%' % (\n",
    "              epoch+1, num_epochs, \n",
    "              compute_accuracy(model, trainloader)))\n",
    "        \n",
    "    print('Time elapsed: %.2f min' % ((time.time() - start_time)/60))\n",
    "    \n",
    "print('Total Training Time: %.2f min' % ((time.time() - start_time)/60))"
   ]
  },
  {
   "cell_type": "markdown",
   "metadata": {},
   "source": [
    "- version1 : Epoch 10 lr:0.1 : 89.90%\n",
    "- version2 : Epoch 20 lr:0.05 : 94.92%"
   ]
  },
  {
   "cell_type": "markdown",
   "metadata": {},
   "source": [
    "## 2: Tensorflow(Keras)"
   ]
  },
  {
   "cell_type": "code",
   "execution_count": 13,
   "metadata": {},
   "outputs": [
    {
     "name": "stderr",
     "output_type": "stream",
     "text": [
      "C:\\Users\\kcg99\\Anaconda3\\lib\\site-packages\\dask\\config.py:168: YAMLLoadWarning: calling yaml.load() without Loader=... is deprecated, as the default Loader is unsafe. Please read https://msg.pyyaml.org/load for full details.\n",
      "  data = yaml.load(f.read()) or {}\n",
      "Using TensorFlow backend.\n"
     ]
    }
   ],
   "source": [
    "import tensorflow as tf\n",
    "from tensorflow import keras\n",
    "import numpy as np\n",
    "import matplotlib.pyplot as plt\n",
    "from tensorflow.examples.tutorials.mnist import input_data\n",
    "from keras import models\n",
    "from keras import layers\n",
    "from keras.layers import Flatten\n",
    "from keras import regularizers"
   ]
  },
  {
   "cell_type": "markdown",
   "metadata": {},
   "source": [
    "### 2 -1 : Data"
   ]
  },
  {
   "cell_type": "code",
   "execution_count": 14,
   "metadata": {},
   "outputs": [],
   "source": [
    "fashion_mnist = keras.datasets.fashion_mnist\n",
    "(train_images, train_labels), (test_images, test_labels) = fashion_mnist.load_data()"
   ]
  },
  {
   "cell_type": "code",
   "execution_count": 15,
   "metadata": {},
   "outputs": [
    {
     "data": {
      "text/plain": [
       "(60000,)"
      ]
     },
     "metadata": {},
     "output_type": "display_data"
    },
    {
     "data": {
      "text/plain": [
       "(60000, 10)"
      ]
     },
     "metadata": {},
     "output_type": "display_data"
    }
   ],
   "source": [
    "from keras.utils import to_categorical\n",
    "display(train_labels.shape)\n",
    "categorical_labels = to_categorical(train_labels, num_classes=None)\n",
    "categorical_test_labels = to_categorical(test_labels, num_classes=None)\n",
    "\n",
    "display(categorical_labels.shape)"
   ]
  },
  {
   "cell_type": "code",
   "execution_count": 16,
   "metadata": {},
   "outputs": [
    {
     "name": "stdout",
     "output_type": "stream",
     "text": [
      "1.0 0.0\n",
      "1.0 0.0\n"
     ]
    }
   ],
   "source": [
    "train_images = train_images/255\n",
    "test_images = test_images/255\n",
    "print(train_images[0].max(), train_images[0].min())\n",
    "print(test_images[0].max(), test_images[0].min())"
   ]
  },
  {
   "cell_type": "code",
   "execution_count": 17,
   "metadata": {},
   "outputs": [],
   "source": [
    "train_images=(train_images-0.5)/0.5 # normalization\n",
    "test_images=(test_images-0.5)/0.5"
   ]
  },
  {
   "cell_type": "code",
   "execution_count": 18,
   "metadata": {},
   "outputs": [],
   "source": [
    "train_images=train_images.round(4)\n",
    "test_images=test_images.round(4)"
   ]
  },
  {
   "cell_type": "markdown",
   "metadata": {},
   "source": [
    "### 2 - 2 : Modeling"
   ]
  },
  {
   "cell_type": "code",
   "execution_count": 19,
   "metadata": {},
   "outputs": [
    {
     "name": "stderr",
     "output_type": "stream",
     "text": [
      "WARNING: Logging before flag parsing goes to stderr.\n",
      "W0903 21:42:56.393280 20656 deprecation_wrapper.py:119] From C:\\Users\\kcg99\\Anaconda3\\lib\\site-packages\\keras\\backend\\tensorflow_backend.py:74: The name tf.get_default_graph is deprecated. Please use tf.compat.v1.get_default_graph instead.\n",
      "\n",
      "W0903 21:42:56.401262 20656 deprecation_wrapper.py:119] From C:\\Users\\kcg99\\Anaconda3\\lib\\site-packages\\keras\\backend\\tensorflow_backend.py:517: The name tf.placeholder is deprecated. Please use tf.compat.v1.placeholder instead.\n",
      "\n",
      "W0903 21:42:56.423202 20656 deprecation_wrapper.py:119] From C:\\Users\\kcg99\\Anaconda3\\lib\\site-packages\\keras\\backend\\tensorflow_backend.py:4115: The name tf.random_normal is deprecated. Please use tf.random.normal instead.\n",
      "\n"
     ]
    },
    {
     "name": "stdout",
     "output_type": "stream",
     "text": [
      "_________________________________________________________________\n",
      "Layer (type)                 Output Shape              Param #   \n",
      "=================================================================\n",
      "flatten_1 (Flatten)          (None, 784)               0         \n",
      "_________________________________________________________________\n",
      "dense_1 (Dense)              (None, 128)               100480    \n",
      "_________________________________________________________________\n",
      "dense_2 (Dense)              (None, 256)               33024     \n",
      "_________________________________________________________________\n",
      "dense_3 (Dense)              (None, 10)                2570      \n",
      "=================================================================\n",
      "Total params: 136,074\n",
      "Trainable params: 136,074\n",
      "Non-trainable params: 0\n",
      "_________________________________________________________________\n"
     ]
    }
   ],
   "source": [
    "from keras import models\n",
    "from keras import layers\n",
    "from keras.optimizers import *\n",
    "from keras.layers import Flatten\n",
    "from keras import regularizers\n",
    "from keras.callbacks import EarlyStopping\n",
    "from keras import initializers\n",
    "\n",
    "model1 = models.Sequential()\n",
    "model1.add(layers.Flatten(input_shape=(28, 28))),\n",
    "model1.add(layers.Dense(128, activation='relu', input_shape=(28,28), kernel_initializer = initializers.RandomNormal(mean=0.0, stddev=0.1, seed=None)))\n",
    "model1.add(layers.Dense(256, activation='relu', kernel_initializer = initializers.RandomNormal(mean=0.0, stddev=0.1, seed=None)))\n",
    "model1.add(layers.Dense(10, activation='softmax',kernel_initializer = initializers.RandomNormal(mean=0.0, stddev=0.1, seed=None)))\n",
    "\n",
    "model1.summary()"
   ]
  },
  {
   "cell_type": "markdown",
   "metadata": {},
   "source": [
    "### 2 - 3 : Training & Evaluation"
   ]
  },
  {
   "cell_type": "code",
   "execution_count": 20,
   "metadata": {
    "scrolled": true
   },
   "outputs": [
    {
     "name": "stderr",
     "output_type": "stream",
     "text": [
      "W0903 21:42:56.563827 20656 deprecation_wrapper.py:119] From C:\\Users\\kcg99\\Anaconda3\\lib\\site-packages\\keras\\optimizers.py:790: The name tf.train.Optimizer is deprecated. Please use tf.compat.v1.train.Optimizer instead.\n",
      "\n",
      "W0903 21:42:56.578784 20656 deprecation_wrapper.py:119] From C:\\Users\\kcg99\\Anaconda3\\lib\\site-packages\\keras\\backend\\tensorflow_backend.py:3295: The name tf.log is deprecated. Please use tf.math.log instead.\n",
      "\n",
      "W0903 21:42:56.766284 20656 deprecation.py:323] From C:\\Users\\kcg99\\Anaconda3\\lib\\site-packages\\tensorflow\\python\\ops\\math_grad.py:1250: add_dispatch_support.<locals>.wrapper (from tensorflow.python.ops.array_ops) is deprecated and will be removed in a future version.\n",
      "Instructions for updating:\n",
      "Use tf.where in 2.0, which has the same broadcast rule as np.where\n",
      "W0903 21:42:56.873000 20656 deprecation_wrapper.py:119] From C:\\Users\\kcg99\\Anaconda3\\lib\\site-packages\\keras\\backend\\tensorflow_backend.py:986: The name tf.assign_add is deprecated. Please use tf.compat.v1.assign_add instead.\n",
      "\n"
     ]
    },
    {
     "name": "stdout",
     "output_type": "stream",
     "text": [
      "Epoch 1/20\n",
      "60000/60000 [==============================] - ETA: 6:56 - loss: 4.3244 - acc: 0.078 - ETA: 32s - loss: 1.8589 - acc: 0.443 - ETA: 18s - loss: 1.4040 - acc: 0.56 - ETA: 13s - loss: 1.2077 - acc: 0.61 - ETA: 10s - loss: 1.0906 - acc: 0.64 - ETA: 9s - loss: 1.0355 - acc: 0.6572 - ETA: 8s - loss: 0.9823 - acc: 0.669 - ETA: 7s - loss: 0.9328 - acc: 0.683 - ETA: 6s - loss: 0.8939 - acc: 0.693 - ETA: 6s - loss: 0.8594 - acc: 0.704 - ETA: 5s - loss: 0.8346 - acc: 0.710 - ETA: 5s - loss: 0.8116 - acc: 0.716 - ETA: 5s - loss: 0.7924 - acc: 0.721 - ETA: 4s - loss: 0.7797 - acc: 0.724 - ETA: 4s - loss: 0.7675 - acc: 0.729 - ETA: 4s - loss: 0.7497 - acc: 0.734 - ETA: 4s - loss: 0.7373 - acc: 0.739 - ETA: 4s - loss: 0.7283 - acc: 0.741 - ETA: 3s - loss: 0.7184 - acc: 0.744 - ETA: 3s - loss: 0.7083 - acc: 0.746 - ETA: 3s - loss: 0.7011 - acc: 0.749 - ETA: 3s - loss: 0.6916 - acc: 0.752 - ETA: 3s - loss: 0.6855 - acc: 0.754 - ETA: 3s - loss: 0.6799 - acc: 0.756 - ETA: 3s - loss: 0.6741 - acc: 0.758 - ETA: 3s - loss: 0.6676 - acc: 0.760 - ETA: 2s - loss: 0.6619 - acc: 0.762 - ETA: 2s - loss: 0.6553 - acc: 0.764 - ETA: 2s - loss: 0.6498 - acc: 0.766 - ETA: 2s - loss: 0.6433 - acc: 0.768 - ETA: 2s - loss: 0.6371 - acc: 0.770 - ETA: 2s - loss: 0.6337 - acc: 0.771 - ETA: 2s - loss: 0.6300 - acc: 0.772 - ETA: 2s - loss: 0.6254 - acc: 0.774 - ETA: 2s - loss: 0.6226 - acc: 0.775 - ETA: 2s - loss: 0.6203 - acc: 0.776 - ETA: 2s - loss: 0.6175 - acc: 0.777 - ETA: 2s - loss: 0.6134 - acc: 0.778 - ETA: 1s - loss: 0.6111 - acc: 0.779 - ETA: 1s - loss: 0.6067 - acc: 0.780 - ETA: 1s - loss: 0.6041 - acc: 0.781 - ETA: 1s - loss: 0.6001 - acc: 0.783 - ETA: 1s - loss: 0.5970 - acc: 0.785 - ETA: 1s - loss: 0.5934 - acc: 0.786 - ETA: 1s - loss: 0.5923 - acc: 0.786 - ETA: 1s - loss: 0.5890 - acc: 0.787 - ETA: 1s - loss: 0.5848 - acc: 0.789 - ETA: 1s - loss: 0.5813 - acc: 0.790 - ETA: 1s - loss: 0.5796 - acc: 0.791 - ETA: 1s - loss: 0.5774 - acc: 0.791 - ETA: 1s - loss: 0.5763 - acc: 0.792 - ETA: 1s - loss: 0.5746 - acc: 0.792 - ETA: 1s - loss: 0.5724 - acc: 0.793 - ETA: 0s - loss: 0.5699 - acc: 0.794 - ETA: 0s - loss: 0.5674 - acc: 0.795 - ETA: 0s - loss: 0.5652 - acc: 0.796 - ETA: 0s - loss: 0.5639 - acc: 0.796 - ETA: 0s - loss: 0.5620 - acc: 0.797 - ETA: 0s - loss: 0.5602 - acc: 0.798 - ETA: 0s - loss: 0.5577 - acc: 0.799 - ETA: 0s - loss: 0.5553 - acc: 0.800 - ETA: 0s - loss: 0.5533 - acc: 0.800 - ETA: 0s - loss: 0.5513 - acc: 0.801 - ETA: 0s - loss: 0.5503 - acc: 0.801 - ETA: 0s - loss: 0.5496 - acc: 0.802 - ETA: 0s - loss: 0.5474 - acc: 0.802 - ETA: 0s - loss: 0.5458 - acc: 0.803 - ETA: 0s - loss: 0.5438 - acc: 0.804 - ETA: 0s - loss: 0.5418 - acc: 0.804 - 4s 67us/step - loss: 0.5408 - acc: 0.8049\n",
      "Epoch 2/20\n",
      "60000/60000 [==============================] - ETA: 7s - loss: 0.4059 - acc: 0.812 - ETA: 3s - loss: 0.4426 - acc: 0.839 - ETA: 3s - loss: 0.4376 - acc: 0.842 - ETA: 3s - loss: 0.4412 - acc: 0.841 - ETA: 3s - loss: 0.4469 - acc: 0.833 - ETA: 3s - loss: 0.4350 - acc: 0.839 - ETA: 3s - loss: 0.4311 - acc: 0.841 - ETA: 3s - loss: 0.4256 - acc: 0.841 - ETA: 3s - loss: 0.4275 - acc: 0.842 - ETA: 3s - loss: 0.4223 - acc: 0.845 - ETA: 3s - loss: 0.4233 - acc: 0.845 - ETA: 2s - loss: 0.4202 - acc: 0.844 - ETA: 2s - loss: 0.4210 - acc: 0.844 - ETA: 2s - loss: 0.4178 - acc: 0.845 - ETA: 2s - loss: 0.4152 - acc: 0.845 - ETA: 2s - loss: 0.4185 - acc: 0.843 - ETA: 2s - loss: 0.4167 - acc: 0.844 - ETA: 2s - loss: 0.4158 - acc: 0.845 - ETA: 2s - loss: 0.4153 - acc: 0.845 - ETA: 2s - loss: 0.4158 - acc: 0.845 - ETA: 2s - loss: 0.4135 - acc: 0.846 - ETA: 2s - loss: 0.4120 - acc: 0.847 - ETA: 2s - loss: 0.4130 - acc: 0.847 - ETA: 2s - loss: 0.4138 - acc: 0.847 - ETA: 2s - loss: 0.4138 - acc: 0.847 - ETA: 2s - loss: 0.4125 - acc: 0.847 - ETA: 2s - loss: 0.4134 - acc: 0.847 - ETA: 2s - loss: 0.4125 - acc: 0.848 - ETA: 2s - loss: 0.4099 - acc: 0.849 - ETA: 1s - loss: 0.4097 - acc: 0.849 - ETA: 1s - loss: 0.4097 - acc: 0.849 - ETA: 1s - loss: 0.4107 - acc: 0.848 - ETA: 1s - loss: 0.4111 - acc: 0.848 - ETA: 1s - loss: 0.4098 - acc: 0.849 - ETA: 1s - loss: 0.4102 - acc: 0.849 - ETA: 1s - loss: 0.4085 - acc: 0.850 - ETA: 1s - loss: 0.4085 - acc: 0.850 - ETA: 1s - loss: 0.4086 - acc: 0.850 - ETA: 1s - loss: 0.4075 - acc: 0.850 - ETA: 1s - loss: 0.4072 - acc: 0.850 - ETA: 1s - loss: 0.4070 - acc: 0.850 - ETA: 1s - loss: 0.4081 - acc: 0.850 - ETA: 1s - loss: 0.4072 - acc: 0.850 - ETA: 1s - loss: 0.4059 - acc: 0.851 - ETA: 1s - loss: 0.4062 - acc: 0.850 - ETA: 1s - loss: 0.4065 - acc: 0.850 - ETA: 1s - loss: 0.4055 - acc: 0.850 - ETA: 1s - loss: 0.4061 - acc: 0.850 - ETA: 1s - loss: 0.4055 - acc: 0.850 - ETA: 0s - loss: 0.4053 - acc: 0.850 - ETA: 0s - loss: 0.4055 - acc: 0.850 - ETA: 0s - loss: 0.4048 - acc: 0.850 - ETA: 0s - loss: 0.4038 - acc: 0.851 - ETA: 0s - loss: 0.4027 - acc: 0.852 - ETA: 0s - loss: 0.4025 - acc: 0.852 - ETA: 0s - loss: 0.4022 - acc: 0.852 - ETA: 0s - loss: 0.4020 - acc: 0.852 - ETA: 0s - loss: 0.4001 - acc: 0.853 - ETA: 0s - loss: 0.4006 - acc: 0.852 - ETA: 0s - loss: 0.3999 - acc: 0.853 - ETA: 0s - loss: 0.3996 - acc: 0.853 - ETA: 0s - loss: 0.3987 - acc: 0.853 - ETA: 0s - loss: 0.3987 - acc: 0.853 - ETA: 0s - loss: 0.3980 - acc: 0.853 - ETA: 0s - loss: 0.3976 - acc: 0.854 - ETA: 0s - loss: 0.3966 - acc: 0.854 - ETA: 0s - loss: 0.3958 - acc: 0.855 - ETA: 0s - loss: 0.3960 - acc: 0.855 - 4s 58us/step - loss: 0.3958 - acc: 0.8551\n",
      "Epoch 3/20\n",
      "60000/60000 [==============================] - ETA: 7s - loss: 0.2474 - acc: 0.890 - ETA: 3s - loss: 0.3837 - acc: 0.861 - ETA: 3s - loss: 0.3870 - acc: 0.863 - ETA: 3s - loss: 0.3758 - acc: 0.864 - ETA: 3s - loss: 0.3750 - acc: 0.864 - ETA: 3s - loss: 0.3704 - acc: 0.864 - ETA: 3s - loss: 0.3650 - acc: 0.867 - ETA: 3s - loss: 0.3607 - acc: 0.867 - ETA: 3s - loss: 0.3610 - acc: 0.867 - ETA: 2s - loss: 0.3572 - acc: 0.869 - ETA: 2s - loss: 0.3586 - acc: 0.868 - ETA: 2s - loss: 0.3586 - acc: 0.868 - ETA: 2s - loss: 0.3608 - acc: 0.868 - ETA: 2s - loss: 0.3626 - acc: 0.867 - ETA: 2s - loss: 0.3622 - acc: 0.867 - ETA: 2s - loss: 0.3627 - acc: 0.867 - ETA: 2s - loss: 0.3600 - acc: 0.868 - ETA: 2s - loss: 0.3570 - acc: 0.869 - ETA: 2s - loss: 0.3593 - acc: 0.868 - ETA: 2s - loss: 0.3578 - acc: 0.868 - ETA: 2s - loss: 0.3582 - acc: 0.868 - ETA: 1s - loss: 0.3569 - acc: 0.869 - ETA: 1s - loss: 0.3586 - acc: 0.868 - ETA: 1s - loss: 0.3599 - acc: 0.867 - ETA: 1s - loss: 0.3630 - acc: 0.866 - ETA: 1s - loss: 0.3629 - acc: 0.866 - ETA: 1s - loss: 0.3623 - acc: 0.867 - ETA: 1s - loss: 0.3615 - acc: 0.867 - ETA: 1s - loss: 0.3594 - acc: 0.867 - ETA: 0s - loss: 0.3588 - acc: 0.867 - ETA: 0s - loss: 0.3597 - acc: 0.867 - ETA: 0s - loss: 0.3580 - acc: 0.868 - ETA: 0s - loss: 0.3581 - acc: 0.868 - ETA: 0s - loss: 0.3580 - acc: 0.869 - ETA: 0s - loss: 0.3569 - acc: 0.869 - ETA: 0s - loss: 0.3564 - acc: 0.869 - ETA: 0s - loss: 0.3559 - acc: 0.869 - ETA: 0s - loss: 0.3561 - acc: 0.869 - ETA: 0s - loss: 0.3557 - acc: 0.869 - ETA: 0s - loss: 0.3554 - acc: 0.869 - ETA: 0s - loss: 0.3552 - acc: 0.869 - ETA: 0s - loss: 0.3550 - acc: 0.870 - ETA: 0s - loss: 0.3547 - acc: 0.870 - ETA: 0s - loss: 0.3540 - acc: 0.870 - 2s 38us/step - loss: 0.3550 - acc: 0.8699\n",
      "Epoch 4/20\n",
      "60000/60000 [==============================] - ETA: 6s - loss: 0.1997 - acc: 0.906 - ETA: 3s - loss: 0.3042 - acc: 0.885 - ETA: 3s - loss: 0.3076 - acc: 0.887 - ETA: 3s - loss: 0.3331 - acc: 0.877 - ETA: 3s - loss: 0.3311 - acc: 0.878 - ETA: 3s - loss: 0.3293 - acc: 0.877 - ETA: 3s - loss: 0.3291 - acc: 0.876 - ETA: 3s - loss: 0.3329 - acc: 0.877 - ETA: 3s - loss: 0.3323 - acc: 0.877 - ETA: 2s - loss: 0.3300 - acc: 0.877 - ETA: 2s - loss: 0.3302 - acc: 0.876 - ETA: 2s - loss: 0.3246 - acc: 0.878 - ETA: 2s - loss: 0.3245 - acc: 0.879 - ETA: 2s - loss: 0.3232 - acc: 0.879 - ETA: 2s - loss: 0.3215 - acc: 0.880 - ETA: 2s - loss: 0.3211 - acc: 0.879 - ETA: 2s - loss: 0.3222 - acc: 0.879 - ETA: 2s - loss: 0.3243 - acc: 0.879 - ETA: 2s - loss: 0.3263 - acc: 0.878 - ETA: 2s - loss: 0.3258 - acc: 0.879 - ETA: 2s - loss: 0.3277 - acc: 0.878 - ETA: 2s - loss: 0.3269 - acc: 0.878 - ETA: 2s - loss: 0.3283 - acc: 0.877 - ETA: 2s - loss: 0.3290 - acc: 0.877 - ETA: 2s - loss: 0.3294 - acc: 0.876 - ETA: 2s - loss: 0.3308 - acc: 0.876 - ETA: 2s - loss: 0.3296 - acc: 0.876 - ETA: 2s - loss: 0.3296 - acc: 0.876 - ETA: 2s - loss: 0.3295 - acc: 0.876 - ETA: 1s - loss: 0.3291 - acc: 0.877 - ETA: 1s - loss: 0.3289 - acc: 0.877 - ETA: 1s - loss: 0.3271 - acc: 0.878 - ETA: 1s - loss: 0.3279 - acc: 0.878 - ETA: 1s - loss: 0.3281 - acc: 0.877 - ETA: 1s - loss: 0.3283 - acc: 0.878 - ETA: 1s - loss: 0.3279 - acc: 0.878 - ETA: 1s - loss: 0.3286 - acc: 0.877 - ETA: 1s - loss: 0.3281 - acc: 0.878 - ETA: 1s - loss: 0.3288 - acc: 0.878 - ETA: 1s - loss: 0.3279 - acc: 0.878 - ETA: 1s - loss: 0.3280 - acc: 0.878 - ETA: 1s - loss: 0.3271 - acc: 0.878 - ETA: 1s - loss: 0.3276 - acc: 0.878 - ETA: 1s - loss: 0.3278 - acc: 0.878 - ETA: 1s - loss: 0.3280 - acc: 0.878 - ETA: 1s - loss: 0.3282 - acc: 0.878 - ETA: 1s - loss: 0.3293 - acc: 0.878 - ETA: 0s - loss: 0.3292 - acc: 0.878 - ETA: 0s - loss: 0.3287 - acc: 0.878 - ETA: 0s - loss: 0.3291 - acc: 0.877 - ETA: 0s - loss: 0.3290 - acc: 0.878 - ETA: 0s - loss: 0.3294 - acc: 0.878 - ETA: 0s - loss: 0.3293 - acc: 0.878 - ETA: 0s - loss: 0.3290 - acc: 0.878 - ETA: 0s - loss: 0.3291 - acc: 0.878 - ETA: 0s - loss: 0.3285 - acc: 0.878 - ETA: 0s - loss: 0.3297 - acc: 0.877 - ETA: 0s - loss: 0.3294 - acc: 0.878 - ETA: 0s - loss: 0.3294 - acc: 0.878 - ETA: 0s - loss: 0.3290 - acc: 0.878 - ETA: 0s - loss: 0.3292 - acc: 0.878 - ETA: 0s - loss: 0.3288 - acc: 0.878 - ETA: 0s - loss: 0.3288 - acc: 0.878 - ETA: 0s - loss: 0.3290 - acc: 0.878 - ETA: 0s - loss: 0.3287 - acc: 0.878 - 3s 56us/step - loss: 0.3289 - acc: 0.8782\n",
      "Epoch 5/20\n",
      "60000/60000 [==============================] - ETA: 3s - loss: 0.2424 - acc: 0.890 - ETA: 1s - loss: 0.2969 - acc: 0.891 - ETA: 1s - loss: 0.2941 - acc: 0.890 - ETA: 1s - loss: 0.3084 - acc: 0.885 - ETA: 1s - loss: 0.3125 - acc: 0.884 - ETA: 1s - loss: 0.3110 - acc: 0.885 - ETA: 1s - loss: 0.3097 - acc: 0.884 - ETA: 1s - loss: 0.3091 - acc: 0.884 - ETA: 1s - loss: 0.3075 - acc: 0.884 - ETA: 1s - loss: 0.3063 - acc: 0.884 - ETA: 1s - loss: 0.3059 - acc: 0.884 - ETA: 1s - loss: 0.3075 - acc: 0.884 - ETA: 1s - loss: 0.3077 - acc: 0.885 - ETA: 0s - loss: 0.3096 - acc: 0.884 - ETA: 0s - loss: 0.3099 - acc: 0.884 - ETA: 0s - loss: 0.3103 - acc: 0.884 - ETA: 0s - loss: 0.3114 - acc: 0.884 - ETA: 0s - loss: 0.3123 - acc: 0.883 - ETA: 0s - loss: 0.3108 - acc: 0.884 - ETA: 0s - loss: 0.3106 - acc: 0.884 - ETA: 0s - loss: 0.3110 - acc: 0.883 - ETA: 0s - loss: 0.3099 - acc: 0.884 - ETA: 0s - loss: 0.3095 - acc: 0.884 - ETA: 0s - loss: 0.3105 - acc: 0.884 - ETA: 0s - loss: 0.3112 - acc: 0.884 - ETA: 0s - loss: 0.3112 - acc: 0.884 - ETA: 0s - loss: 0.3121 - acc: 0.883 - ETA: 0s - loss: 0.3124 - acc: 0.883 - ETA: 0s - loss: 0.3123 - acc: 0.883 - ETA: 0s - loss: 0.3120 - acc: 0.883 - ETA: 0s - loss: 0.3120 - acc: 0.884 - ETA: 0s - loss: 0.3119 - acc: 0.884 - ETA: 0s - loss: 0.3125 - acc: 0.883 - ETA: 0s - loss: 0.3124 - acc: 0.883 - ETA: 0s - loss: 0.3125 - acc: 0.883 - ETA: 0s - loss: 0.3120 - acc: 0.883 - ETA: 0s - loss: 0.3114 - acc: 0.884 - ETA: 0s - loss: 0.3109 - acc: 0.884 - ETA: 0s - loss: 0.3114 - acc: 0.884 - ETA: 0s - loss: 0.3107 - acc: 0.884 - ETA: 0s - loss: 0.3113 - acc: 0.884 - ETA: 0s - loss: 0.3113 - acc: 0.884 - ETA: 0s - loss: 0.3110 - acc: 0.884 - ETA: 0s - loss: 0.3107 - acc: 0.884 - ETA: 0s - loss: 0.3102 - acc: 0.884 - ETA: 0s - loss: 0.3102 - acc: 0.884 - ETA: 0s - loss: 0.3104 - acc: 0.884 - 2s 40us/step - loss: 0.3103 - acc: 0.8847\n",
      "Epoch 6/20\n",
      "60000/60000 [==============================] - ETA: 6s - loss: 0.3541 - acc: 0.890 - ETA: 3s - loss: 0.2828 - acc: 0.895 - ETA: 3s - loss: 0.2803 - acc: 0.896 - ETA: 3s - loss: 0.2701 - acc: 0.897 - ETA: 3s - loss: 0.2806 - acc: 0.893 - ETA: 3s - loss: 0.2809 - acc: 0.893 - ETA: 3s - loss: 0.2798 - acc: 0.894 - ETA: 3s - loss: 0.2838 - acc: 0.894 - ETA: 3s - loss: 0.2894 - acc: 0.891 - ETA: 3s - loss: 0.2939 - acc: 0.890 - ETA: 3s - loss: 0.2926 - acc: 0.892 - ETA: 2s - loss: 0.2947 - acc: 0.892 - ETA: 2s - loss: 0.2940 - acc: 0.893 - ETA: 2s - loss: 0.2939 - acc: 0.894 - ETA: 2s - loss: 0.2957 - acc: 0.893 - ETA: 2s - loss: 0.2954 - acc: 0.893 - ETA: 2s - loss: 0.2949 - acc: 0.893 - ETA: 2s - loss: 0.2929 - acc: 0.893 - ETA: 2s - loss: 0.2938 - acc: 0.892 - ETA: 2s - loss: 0.2917 - acc: 0.893 - ETA: 2s - loss: 0.2904 - acc: 0.893 - ETA: 2s - loss: 0.2904 - acc: 0.893 - ETA: 2s - loss: 0.2901 - acc: 0.893 - ETA: 2s - loss: 0.2894 - acc: 0.894 - ETA: 2s - loss: 0.2875 - acc: 0.894 - ETA: 2s - loss: 0.2881 - acc: 0.894 - ETA: 2s - loss: 0.2888 - acc: 0.893 - ETA: 2s - loss: 0.2892 - acc: 0.893 - ETA: 2s - loss: 0.2908 - acc: 0.893 - ETA: 1s - loss: 0.2898 - acc: 0.893 - ETA: 1s - loss: 0.2899 - acc: 0.893 - ETA: 1s - loss: 0.2898 - acc: 0.893 - ETA: 1s - loss: 0.2890 - acc: 0.893 - ETA: 1s - loss: 0.2900 - acc: 0.893 - ETA: 1s - loss: 0.2899 - acc: 0.893 - ETA: 1s - loss: 0.2897 - acc: 0.893 - ETA: 1s - loss: 0.2898 - acc: 0.893 - ETA: 1s - loss: 0.2895 - acc: 0.893 - ETA: 1s - loss: 0.2897 - acc: 0.893 - ETA: 1s - loss: 0.2900 - acc: 0.893 - ETA: 1s - loss: 0.2897 - acc: 0.893 - ETA: 1s - loss: 0.2910 - acc: 0.892 - ETA: 1s - loss: 0.2913 - acc: 0.892 - ETA: 0s - loss: 0.2911 - acc: 0.892 - ETA: 0s - loss: 0.2914 - acc: 0.892 - ETA: 0s - loss: 0.2914 - acc: 0.892 - ETA: 0s - loss: 0.2928 - acc: 0.891 - ETA: 0s - loss: 0.2914 - acc: 0.892 - ETA: 0s - loss: 0.2917 - acc: 0.892 - ETA: 0s - loss: 0.2923 - acc: 0.891 - ETA: 0s - loss: 0.2927 - acc: 0.891 - ETA: 0s - loss: 0.2936 - acc: 0.890 - ETA: 0s - loss: 0.2936 - acc: 0.890 - 3s 46us/step - loss: 0.2929 - acc: 0.8912\n",
      "Epoch 7/20\n"
     ]
    },
    {
     "name": "stdout",
     "output_type": "stream",
     "text": [
      "60000/60000 [==============================] - ETA: 3s - loss: 0.2534 - acc: 0.890 - ETA: 1s - loss: 0.2557 - acc: 0.906 - ETA: 1s - loss: 0.2646 - acc: 0.901 - ETA: 1s - loss: 0.2768 - acc: 0.896 - ETA: 1s - loss: 0.2695 - acc: 0.899 - ETA: 1s - loss: 0.2703 - acc: 0.899 - ETA: 1s - loss: 0.2746 - acc: 0.898 - ETA: 1s - loss: 0.2746 - acc: 0.898 - ETA: 1s - loss: 0.2735 - acc: 0.899 - ETA: 1s - loss: 0.2759 - acc: 0.898 - ETA: 1s - loss: 0.2749 - acc: 0.898 - ETA: 1s - loss: 0.2738 - acc: 0.899 - ETA: 1s - loss: 0.2756 - acc: 0.899 - ETA: 1s - loss: 0.2755 - acc: 0.899 - ETA: 1s - loss: 0.2770 - acc: 0.898 - ETA: 1s - loss: 0.2793 - acc: 0.896 - ETA: 1s - loss: 0.2801 - acc: 0.897 - ETA: 1s - loss: 0.2806 - acc: 0.897 - ETA: 1s - loss: 0.2812 - acc: 0.896 - ETA: 1s - loss: 0.2810 - acc: 0.896 - ETA: 1s - loss: 0.2799 - acc: 0.897 - ETA: 1s - loss: 0.2804 - acc: 0.897 - ETA: 1s - loss: 0.2797 - acc: 0.897 - ETA: 1s - loss: 0.2805 - acc: 0.896 - ETA: 1s - loss: 0.2798 - acc: 0.897 - ETA: 1s - loss: 0.2808 - acc: 0.896 - ETA: 1s - loss: 0.2802 - acc: 0.897 - ETA: 1s - loss: 0.2806 - acc: 0.896 - ETA: 1s - loss: 0.2801 - acc: 0.897 - ETA: 1s - loss: 0.2802 - acc: 0.896 - ETA: 1s - loss: 0.2794 - acc: 0.897 - ETA: 1s - loss: 0.2790 - acc: 0.897 - ETA: 1s - loss: 0.2791 - acc: 0.896 - ETA: 1s - loss: 0.2789 - acc: 0.896 - ETA: 0s - loss: 0.2788 - acc: 0.897 - ETA: 0s - loss: 0.2786 - acc: 0.897 - ETA: 0s - loss: 0.2779 - acc: 0.897 - ETA: 0s - loss: 0.2794 - acc: 0.896 - ETA: 0s - loss: 0.2792 - acc: 0.897 - ETA: 0s - loss: 0.2793 - acc: 0.897 - ETA: 0s - loss: 0.2793 - acc: 0.897 - ETA: 0s - loss: 0.2783 - acc: 0.897 - ETA: 0s - loss: 0.2783 - acc: 0.897 - ETA: 0s - loss: 0.2778 - acc: 0.897 - ETA: 0s - loss: 0.2780 - acc: 0.897 - ETA: 0s - loss: 0.2775 - acc: 0.897 - ETA: 0s - loss: 0.2778 - acc: 0.897 - ETA: 0s - loss: 0.2773 - acc: 0.897 - ETA: 0s - loss: 0.2767 - acc: 0.897 - ETA: 0s - loss: 0.2765 - acc: 0.897 - ETA: 0s - loss: 0.2773 - acc: 0.897 - ETA: 0s - loss: 0.2771 - acc: 0.897 - ETA: 0s - loss: 0.2768 - acc: 0.897 - ETA: 0s - loss: 0.2764 - acc: 0.897 - ETA: 0s - loss: 0.2764 - acc: 0.897 - ETA: 0s - loss: 0.2766 - acc: 0.897 - ETA: 0s - loss: 0.2769 - acc: 0.897 - ETA: 0s - loss: 0.2770 - acc: 0.897 - 3s 50us/step - loss: 0.2769 - acc: 0.8973\n",
      "Epoch 8/20\n",
      "60000/60000 [==============================] - ETA: 7s - loss: 0.2320 - acc: 0.875 - ETA: 3s - loss: 0.2544 - acc: 0.900 - ETA: 3s - loss: 0.2682 - acc: 0.898 - ETA: 3s - loss: 0.2745 - acc: 0.898 - ETA: 3s - loss: 0.2774 - acc: 0.899 - ETA: 3s - loss: 0.2759 - acc: 0.900 - ETA: 3s - loss: 0.2807 - acc: 0.899 - ETA: 3s - loss: 0.2716 - acc: 0.901 - ETA: 3s - loss: 0.2699 - acc: 0.903 - ETA: 2s - loss: 0.2724 - acc: 0.903 - ETA: 2s - loss: 0.2743 - acc: 0.902 - ETA: 2s - loss: 0.2775 - acc: 0.901 - ETA: 2s - loss: 0.2754 - acc: 0.902 - ETA: 2s - loss: 0.2756 - acc: 0.901 - ETA: 2s - loss: 0.2749 - acc: 0.901 - ETA: 2s - loss: 0.2718 - acc: 0.902 - ETA: 2s - loss: 0.2708 - acc: 0.903 - ETA: 2s - loss: 0.2715 - acc: 0.903 - ETA: 2s - loss: 0.2679 - acc: 0.904 - ETA: 2s - loss: 0.2686 - acc: 0.902 - ETA: 2s - loss: 0.2673 - acc: 0.903 - ETA: 1s - loss: 0.2662 - acc: 0.903 - ETA: 1s - loss: 0.2667 - acc: 0.902 - ETA: 1s - loss: 0.2661 - acc: 0.902 - ETA: 1s - loss: 0.2658 - acc: 0.902 - ETA: 1s - loss: 0.2655 - acc: 0.902 - ETA: 1s - loss: 0.2669 - acc: 0.902 - ETA: 1s - loss: 0.2665 - acc: 0.902 - ETA: 1s - loss: 0.2662 - acc: 0.902 - ETA: 0s - loss: 0.2657 - acc: 0.902 - ETA: 0s - loss: 0.2663 - acc: 0.901 - ETA: 0s - loss: 0.2645 - acc: 0.902 - ETA: 0s - loss: 0.2654 - acc: 0.901 - ETA: 0s - loss: 0.2652 - acc: 0.901 - ETA: 0s - loss: 0.2660 - acc: 0.901 - ETA: 0s - loss: 0.2651 - acc: 0.901 - ETA: 0s - loss: 0.2653 - acc: 0.901 - ETA: 0s - loss: 0.2656 - acc: 0.901 - ETA: 0s - loss: 0.2662 - acc: 0.901 - ETA: 0s - loss: 0.2668 - acc: 0.900 - ETA: 0s - loss: 0.2663 - acc: 0.901 - ETA: 0s - loss: 0.2660 - acc: 0.901 - ETA: 0s - loss: 0.2660 - acc: 0.901 - ETA: 0s - loss: 0.2657 - acc: 0.901 - 2s 38us/step - loss: 0.2654 - acc: 0.9015\n",
      "Epoch 9/20\n",
      "60000/60000 [==============================] - ETA: 6s - loss: 0.1458 - acc: 0.953 - ETA: 3s - loss: 0.2166 - acc: 0.913 - ETA: 3s - loss: 0.2380 - acc: 0.907 - ETA: 3s - loss: 0.2372 - acc: 0.910 - ETA: 3s - loss: 0.2353 - acc: 0.911 - ETA: 3s - loss: 0.2372 - acc: 0.912 - ETA: 3s - loss: 0.2448 - acc: 0.907 - ETA: 3s - loss: 0.2422 - acc: 0.907 - ETA: 3s - loss: 0.2444 - acc: 0.907 - ETA: 2s - loss: 0.2425 - acc: 0.908 - ETA: 2s - loss: 0.2462 - acc: 0.907 - ETA: 2s - loss: 0.2463 - acc: 0.907 - ETA: 2s - loss: 0.2459 - acc: 0.908 - ETA: 2s - loss: 0.2483 - acc: 0.907 - ETA: 2s - loss: 0.2495 - acc: 0.906 - ETA: 2s - loss: 0.2507 - acc: 0.906 - ETA: 2s - loss: 0.2520 - acc: 0.905 - ETA: 2s - loss: 0.2515 - acc: 0.905 - ETA: 2s - loss: 0.2501 - acc: 0.906 - ETA: 2s - loss: 0.2518 - acc: 0.905 - ETA: 2s - loss: 0.2515 - acc: 0.906 - ETA: 2s - loss: 0.2521 - acc: 0.906 - ETA: 2s - loss: 0.2527 - acc: 0.905 - ETA: 2s - loss: 0.2547 - acc: 0.905 - ETA: 2s - loss: 0.2562 - acc: 0.904 - ETA: 2s - loss: 0.2559 - acc: 0.904 - ETA: 2s - loss: 0.2557 - acc: 0.904 - ETA: 2s - loss: 0.2558 - acc: 0.904 - ETA: 2s - loss: 0.2562 - acc: 0.904 - ETA: 1s - loss: 0.2560 - acc: 0.904 - ETA: 1s - loss: 0.2560 - acc: 0.904 - ETA: 1s - loss: 0.2559 - acc: 0.904 - ETA: 1s - loss: 0.2558 - acc: 0.904 - ETA: 1s - loss: 0.2563 - acc: 0.904 - ETA: 1s - loss: 0.2550 - acc: 0.905 - ETA: 1s - loss: 0.2554 - acc: 0.904 - ETA: 1s - loss: 0.2550 - acc: 0.904 - ETA: 1s - loss: 0.2554 - acc: 0.904 - ETA: 1s - loss: 0.2553 - acc: 0.904 - ETA: 1s - loss: 0.2565 - acc: 0.904 - ETA: 1s - loss: 0.2572 - acc: 0.904 - ETA: 1s - loss: 0.2569 - acc: 0.904 - ETA: 1s - loss: 0.2580 - acc: 0.904 - ETA: 1s - loss: 0.2570 - acc: 0.904 - ETA: 1s - loss: 0.2571 - acc: 0.904 - ETA: 1s - loss: 0.2569 - acc: 0.904 - ETA: 1s - loss: 0.2567 - acc: 0.904 - ETA: 1s - loss: 0.2572 - acc: 0.904 - ETA: 0s - loss: 0.2564 - acc: 0.904 - ETA: 0s - loss: 0.2557 - acc: 0.904 - ETA: 0s - loss: 0.2555 - acc: 0.904 - ETA: 0s - loss: 0.2553 - acc: 0.904 - ETA: 0s - loss: 0.2564 - acc: 0.904 - ETA: 0s - loss: 0.2569 - acc: 0.904 - ETA: 0s - loss: 0.2563 - acc: 0.904 - ETA: 0s - loss: 0.2565 - acc: 0.904 - ETA: 0s - loss: 0.2560 - acc: 0.904 - ETA: 0s - loss: 0.2554 - acc: 0.904 - ETA: 0s - loss: 0.2549 - acc: 0.904 - ETA: 0s - loss: 0.2548 - acc: 0.904 - ETA: 0s - loss: 0.2543 - acc: 0.904 - ETA: 0s - loss: 0.2536 - acc: 0.905 - ETA: 0s - loss: 0.2539 - acc: 0.905 - ETA: 0s - loss: 0.2539 - acc: 0.905 - ETA: 0s - loss: 0.2535 - acc: 0.905 - 3s 56us/step - loss: 0.2533 - acc: 0.9056\n",
      "Epoch 10/20\n",
      "60000/60000 [==============================] - ETA: 3s - loss: 0.2102 - acc: 0.921 - ETA: 1s - loss: 0.2183 - acc: 0.914 - ETA: 1s - loss: 0.2227 - acc: 0.914 - ETA: 1s - loss: 0.2272 - acc: 0.914 - ETA: 1s - loss: 0.2284 - acc: 0.913 - ETA: 1s - loss: 0.2318 - acc: 0.912 - ETA: 1s - loss: 0.2333 - acc: 0.911 - ETA: 1s - loss: 0.2347 - acc: 0.911 - ETA: 1s - loss: 0.2383 - acc: 0.909 - ETA: 1s - loss: 0.2389 - acc: 0.909 - ETA: 1s - loss: 0.2402 - acc: 0.909 - ETA: 1s - loss: 0.2401 - acc: 0.909 - ETA: 1s - loss: 0.2438 - acc: 0.908 - ETA: 1s - loss: 0.2436 - acc: 0.909 - ETA: 0s - loss: 0.2435 - acc: 0.909 - ETA: 0s - loss: 0.2441 - acc: 0.909 - ETA: 0s - loss: 0.2433 - acc: 0.909 - ETA: 0s - loss: 0.2442 - acc: 0.908 - ETA: 0s - loss: 0.2451 - acc: 0.908 - ETA: 0s - loss: 0.2462 - acc: 0.907 - ETA: 0s - loss: 0.2456 - acc: 0.908 - ETA: 0s - loss: 0.2461 - acc: 0.907 - ETA: 0s - loss: 0.2460 - acc: 0.907 - ETA: 0s - loss: 0.2463 - acc: 0.907 - ETA: 0s - loss: 0.2463 - acc: 0.907 - ETA: 0s - loss: 0.2460 - acc: 0.908 - ETA: 0s - loss: 0.2463 - acc: 0.907 - ETA: 0s - loss: 0.2460 - acc: 0.908 - ETA: 0s - loss: 0.2455 - acc: 0.908 - ETA: 0s - loss: 0.2452 - acc: 0.908 - ETA: 0s - loss: 0.2454 - acc: 0.908 - ETA: 0s - loss: 0.2460 - acc: 0.908 - ETA: 0s - loss: 0.2457 - acc: 0.908 - ETA: 0s - loss: 0.2466 - acc: 0.908 - ETA: 0s - loss: 0.2462 - acc: 0.908 - ETA: 0s - loss: 0.2466 - acc: 0.908 - ETA: 0s - loss: 0.2469 - acc: 0.908 - ETA: 0s - loss: 0.2473 - acc: 0.908 - ETA: 0s - loss: 0.2469 - acc: 0.908 - ETA: 0s - loss: 0.2470 - acc: 0.908 - ETA: 0s - loss: 0.2469 - acc: 0.908 - ETA: 0s - loss: 0.2472 - acc: 0.908 - ETA: 0s - loss: 0.2475 - acc: 0.908 - ETA: 0s - loss: 0.2471 - acc: 0.908 - ETA: 0s - loss: 0.2469 - acc: 0.908 - ETA: 0s - loss: 0.2461 - acc: 0.909 - ETA: 0s - loss: 0.2454 - acc: 0.909 - ETA: 0s - loss: 0.2455 - acc: 0.909 - 2s 41us/step - loss: 0.2455 - acc: 0.9095\n",
      "Epoch 11/20\n",
      "60000/60000 [==============================] - ETA: 6s - loss: 0.2880 - acc: 0.890 - ETA: 3s - loss: 0.2300 - acc: 0.909 - ETA: 3s - loss: 0.2275 - acc: 0.912 - ETA: 3s - loss: 0.2267 - acc: 0.915 - ETA: 3s - loss: 0.2256 - acc: 0.914 - ETA: 3s - loss: 0.2249 - acc: 0.914 - ETA: 3s - loss: 0.2287 - acc: 0.914 - ETA: 3s - loss: 0.2273 - acc: 0.915 - ETA: 3s - loss: 0.2264 - acc: 0.915 - ETA: 3s - loss: 0.2278 - acc: 0.914 - ETA: 2s - loss: 0.2271 - acc: 0.916 - ETA: 2s - loss: 0.2273 - acc: 0.915 - ETA: 2s - loss: 0.2265 - acc: 0.915 - ETA: 2s - loss: 0.2298 - acc: 0.914 - ETA: 2s - loss: 0.2299 - acc: 0.914 - ETA: 2s - loss: 0.2321 - acc: 0.913 - ETA: 2s - loss: 0.2313 - acc: 0.913 - ETA: 2s - loss: 0.2312 - acc: 0.913 - ETA: 2s - loss: 0.2286 - acc: 0.915 - ETA: 2s - loss: 0.2307 - acc: 0.914 - ETA: 2s - loss: 0.2303 - acc: 0.914 - ETA: 2s - loss: 0.2295 - acc: 0.914 - ETA: 2s - loss: 0.2282 - acc: 0.915 - ETA: 2s - loss: 0.2294 - acc: 0.914 - ETA: 2s - loss: 0.2295 - acc: 0.914 - ETA: 2s - loss: 0.2303 - acc: 0.913 - ETA: 2s - loss: 0.2308 - acc: 0.913 - ETA: 2s - loss: 0.2300 - acc: 0.913 - ETA: 2s - loss: 0.2302 - acc: 0.913 - ETA: 1s - loss: 0.2285 - acc: 0.914 - ETA: 1s - loss: 0.2285 - acc: 0.914 - ETA: 1s - loss: 0.2290 - acc: 0.914 - ETA: 1s - loss: 0.2293 - acc: 0.913 - ETA: 1s - loss: 0.2298 - acc: 0.913 - ETA: 1s - loss: 0.2304 - acc: 0.913 - ETA: 1s - loss: 0.2306 - acc: 0.913 - ETA: 1s - loss: 0.2318 - acc: 0.913 - ETA: 1s - loss: 0.2316 - acc: 0.913 - ETA: 1s - loss: 0.2318 - acc: 0.913 - ETA: 1s - loss: 0.2329 - acc: 0.912 - ETA: 1s - loss: 0.2331 - acc: 0.912 - ETA: 1s - loss: 0.2330 - acc: 0.913 - ETA: 0s - loss: 0.2327 - acc: 0.913 - ETA: 0s - loss: 0.2329 - acc: 0.913 - ETA: 0s - loss: 0.2333 - acc: 0.912 - ETA: 0s - loss: 0.2321 - acc: 0.913 - ETA: 0s - loss: 0.2323 - acc: 0.913 - ETA: 0s - loss: 0.2324 - acc: 0.913 - ETA: 0s - loss: 0.2330 - acc: 0.913 - ETA: 0s - loss: 0.2324 - acc: 0.913 - ETA: 0s - loss: 0.2331 - acc: 0.913 - ETA: 0s - loss: 0.2341 - acc: 0.912 - ETA: 0s - loss: 0.2347 - acc: 0.912 - 3s 45us/step - loss: 0.2348 - acc: 0.9124\n",
      "Epoch 12/20\n",
      "60000/60000 [==============================] - ETA: 3s - loss: 0.3004 - acc: 0.906 - ETA: 1s - loss: 0.2253 - acc: 0.911 - ETA: 1s - loss: 0.2210 - acc: 0.915 - ETA: 1s - loss: 0.2224 - acc: 0.916 - ETA: 1s - loss: 0.2176 - acc: 0.918 - ETA: 1s - loss: 0.2174 - acc: 0.918 - ETA: 1s - loss: 0.2148 - acc: 0.919 - ETA: 1s - loss: 0.2164 - acc: 0.919 - ETA: 1s - loss: 0.2177 - acc: 0.918 - ETA: 1s - loss: 0.2186 - acc: 0.918 - ETA: 1s - loss: 0.2195 - acc: 0.917 - ETA: 1s - loss: 0.2202 - acc: 0.917 - ETA: 1s - loss: 0.2201 - acc: 0.917 - ETA: 1s - loss: 0.2205 - acc: 0.917 - ETA: 1s - loss: 0.2199 - acc: 0.917 - ETA: 1s - loss: 0.2198 - acc: 0.917 - ETA: 1s - loss: 0.2202 - acc: 0.917 - ETA: 1s - loss: 0.2203 - acc: 0.917 - ETA: 1s - loss: 0.2200 - acc: 0.917 - ETA: 1s - loss: 0.2194 - acc: 0.917 - ETA: 1s - loss: 0.2194 - acc: 0.917 - ETA: 1s - loss: 0.2197 - acc: 0.917 - ETA: 1s - loss: 0.2213 - acc: 0.917 - ETA: 1s - loss: 0.2216 - acc: 0.917 - ETA: 1s - loss: 0.2216 - acc: 0.916 - ETA: 1s - loss: 0.2212 - acc: 0.917 - ETA: 1s - loss: 0.2221 - acc: 0.916 - ETA: 1s - loss: 0.2227 - acc: 0.916 - ETA: 1s - loss: 0.2221 - acc: 0.916 - ETA: 1s - loss: 0.2227 - acc: 0.916 - ETA: 1s - loss: 0.2221 - acc: 0.916 - ETA: 1s - loss: 0.2220 - acc: 0.916 - ETA: 1s - loss: 0.2232 - acc: 0.916 - ETA: 1s - loss: 0.2230 - acc: 0.916 - ETA: 1s - loss: 0.2222 - acc: 0.916 - ETA: 0s - loss: 0.2221 - acc: 0.917 - ETA: 0s - loss: 0.2236 - acc: 0.916 - ETA: 0s - loss: 0.2235 - acc: 0.916 - ETA: 0s - loss: 0.2236 - acc: 0.916 - ETA: 0s - loss: 0.2239 - acc: 0.916 - ETA: 0s - loss: 0.2244 - acc: 0.916 - ETA: 0s - loss: 0.2242 - acc: 0.916 - ETA: 0s - loss: 0.2251 - acc: 0.916 - ETA: 0s - loss: 0.2255 - acc: 0.916 - ETA: 0s - loss: 0.2253 - acc: 0.916 - ETA: 0s - loss: 0.2254 - acc: 0.916 - ETA: 0s - loss: 0.2251 - acc: 0.916 - ETA: 0s - loss: 0.2255 - acc: 0.916 - ETA: 0s - loss: 0.2256 - acc: 0.916 - ETA: 0s - loss: 0.2255 - acc: 0.916 - ETA: 0s - loss: 0.2253 - acc: 0.916 - ETA: 0s - loss: 0.2247 - acc: 0.916 - ETA: 0s - loss: 0.2247 - acc: 0.916 - ETA: 0s - loss: 0.2244 - acc: 0.916 - ETA: 0s - loss: 0.2252 - acc: 0.916 - ETA: 0s - loss: 0.2251 - acc: 0.916 - ETA: 0s - loss: 0.2252 - acc: 0.915 - ETA: 0s - loss: 0.2253 - acc: 0.915 - ETA: 0s - loss: 0.2256 - acc: 0.915 - 3s 51us/step - loss: 0.2257 - acc: 0.9158\n",
      "Epoch 13/20\n",
      "60000/60000 [==============================] - ETA: 6s - loss: 0.1788 - acc: 0.953 - ETA: 3s - loss: 0.2079 - acc: 0.916 - ETA: 3s - loss: 0.1968 - acc: 0.924 - ETA: 3s - loss: 0.1932 - acc: 0.926 - ETA: 3s - loss: 0.1985 - acc: 0.923 - ETA: 3s - loss: 0.2048 - acc: 0.921 - ETA: 3s - loss: 0.2008 - acc: 0.921 - ETA: 3s - loss: 0.2044 - acc: 0.920 - ETA: 3s - loss: 0.2038 - acc: 0.922 - ETA: 2s - loss: 0.2062 - acc: 0.921 - ETA: 2s - loss: 0.2046 - acc: 0.922 - ETA: 2s - loss: 0.2065 - acc: 0.921 - ETA: 2s - loss: 0.2082 - acc: 0.921 - ETA: 2s - loss: 0.2097 - acc: 0.919 - ETA: 2s - loss: 0.2104 - acc: 0.919 - ETA: 2s - loss: 0.2112 - acc: 0.917 - ETA: 2s - loss: 0.2113 - acc: 0.918 - ETA: 2s - loss: 0.2119 - acc: 0.918 - ETA: 1s - loss: 0.2117 - acc: 0.918 - ETA: 1s - loss: 0.2128 - acc: 0.918 - ETA: 1s - loss: 0.2133 - acc: 0.918 - ETA: 1s - loss: 0.2135 - acc: 0.919 - ETA: 1s - loss: 0.2134 - acc: 0.919 - ETA: 1s - loss: 0.2136 - acc: 0.919 - ETA: 1s - loss: 0.2130 - acc: 0.919 - ETA: 1s - loss: 0.2133 - acc: 0.919 - ETA: 1s - loss: 0.2134 - acc: 0.919 - ETA: 0s - loss: 0.2134 - acc: 0.919 - ETA: 0s - loss: 0.2139 - acc: 0.919 - ETA: 0s - loss: 0.2152 - acc: 0.918 - ETA: 0s - loss: 0.2157 - acc: 0.918 - ETA: 0s - loss: 0.2158 - acc: 0.918 - ETA: 0s - loss: 0.2155 - acc: 0.919 - ETA: 0s - loss: 0.2151 - acc: 0.919 - ETA: 0s - loss: 0.2157 - acc: 0.918 - ETA: 0s - loss: 0.2155 - acc: 0.919 - ETA: 0s - loss: 0.2159 - acc: 0.919 - ETA: 0s - loss: 0.2157 - acc: 0.919 - ETA: 0s - loss: 0.2162 - acc: 0.918 - ETA: 0s - loss: 0.2164 - acc: 0.918 - ETA: 0s - loss: 0.2165 - acc: 0.918 - ETA: 0s - loss: 0.2165 - acc: 0.918 - ETA: 0s - loss: 0.2165 - acc: 0.918 - ETA: 0s - loss: 0.2163 - acc: 0.918 - 2s 38us/step - loss: 0.2164 - acc: 0.9184\n",
      "Epoch 14/20\n"
     ]
    },
    {
     "name": "stdout",
     "output_type": "stream",
     "text": [
      "60000/60000 [==============================] - ETA: 5s - loss: 0.1944 - acc: 0.906 - ETA: 3s - loss: 0.2076 - acc: 0.914 - ETA: 3s - loss: 0.2042 - acc: 0.920 - ETA: 3s - loss: 0.2073 - acc: 0.921 - ETA: 3s - loss: 0.2037 - acc: 0.922 - ETA: 3s - loss: 0.2055 - acc: 0.921 - ETA: 3s - loss: 0.2031 - acc: 0.923 - ETA: 3s - loss: 0.2052 - acc: 0.922 - ETA: 3s - loss: 0.2079 - acc: 0.922 - ETA: 3s - loss: 0.2074 - acc: 0.923 - ETA: 3s - loss: 0.2072 - acc: 0.924 - ETA: 2s - loss: 0.2064 - acc: 0.925 - ETA: 2s - loss: 0.2082 - acc: 0.923 - ETA: 2s - loss: 0.2059 - acc: 0.924 - ETA: 2s - loss: 0.2056 - acc: 0.924 - ETA: 2s - loss: 0.2041 - acc: 0.924 - ETA: 2s - loss: 0.2073 - acc: 0.923 - ETA: 2s - loss: 0.2080 - acc: 0.923 - ETA: 2s - loss: 0.2076 - acc: 0.923 - ETA: 2s - loss: 0.2064 - acc: 0.923 - ETA: 2s - loss: 0.2060 - acc: 0.924 - ETA: 2s - loss: 0.2063 - acc: 0.924 - ETA: 2s - loss: 0.2075 - acc: 0.923 - ETA: 2s - loss: 0.2076 - acc: 0.923 - ETA: 2s - loss: 0.2070 - acc: 0.923 - ETA: 2s - loss: 0.2071 - acc: 0.923 - ETA: 2s - loss: 0.2077 - acc: 0.924 - ETA: 2s - loss: 0.2065 - acc: 0.924 - ETA: 2s - loss: 0.2063 - acc: 0.924 - ETA: 1s - loss: 0.2059 - acc: 0.924 - ETA: 1s - loss: 0.2064 - acc: 0.924 - ETA: 1s - loss: 0.2061 - acc: 0.924 - ETA: 1s - loss: 0.2066 - acc: 0.923 - ETA: 1s - loss: 0.2066 - acc: 0.923 - ETA: 1s - loss: 0.2066 - acc: 0.923 - ETA: 1s - loss: 0.2070 - acc: 0.924 - ETA: 1s - loss: 0.2061 - acc: 0.924 - ETA: 1s - loss: 0.2067 - acc: 0.924 - ETA: 1s - loss: 0.2071 - acc: 0.923 - ETA: 1s - loss: 0.2075 - acc: 0.923 - ETA: 1s - loss: 0.2073 - acc: 0.923 - ETA: 1s - loss: 0.2073 - acc: 0.923 - ETA: 1s - loss: 0.2074 - acc: 0.923 - ETA: 1s - loss: 0.2067 - acc: 0.923 - ETA: 1s - loss: 0.2074 - acc: 0.923 - ETA: 1s - loss: 0.2081 - acc: 0.923 - ETA: 1s - loss: 0.2083 - acc: 0.923 - ETA: 1s - loss: 0.2086 - acc: 0.923 - ETA: 0s - loss: 0.2086 - acc: 0.923 - ETA: 0s - loss: 0.2083 - acc: 0.923 - ETA: 0s - loss: 0.2078 - acc: 0.923 - ETA: 0s - loss: 0.2083 - acc: 0.922 - ETA: 0s - loss: 0.2079 - acc: 0.923 - ETA: 0s - loss: 0.2082 - acc: 0.923 - ETA: 0s - loss: 0.2082 - acc: 0.923 - ETA: 0s - loss: 0.2081 - acc: 0.923 - ETA: 0s - loss: 0.2083 - acc: 0.922 - ETA: 0s - loss: 0.2083 - acc: 0.922 - ETA: 0s - loss: 0.2082 - acc: 0.923 - ETA: 0s - loss: 0.2083 - acc: 0.922 - ETA: 0s - loss: 0.2086 - acc: 0.922 - ETA: 0s - loss: 0.2098 - acc: 0.922 - ETA: 0s - loss: 0.2100 - acc: 0.922 - 3s 55us/step - loss: 0.2108 - acc: 0.9219\n",
      "Epoch 15/20\n",
      "60000/60000 [==============================] - ETA: 3s - loss: 0.1230 - acc: 0.953 - ETA: 1s - loss: 0.1713 - acc: 0.941 - ETA: 1s - loss: 0.1832 - acc: 0.931 - ETA: 1s - loss: 0.1854 - acc: 0.929 - ETA: 1s - loss: 0.1917 - acc: 0.926 - ETA: 1s - loss: 0.1952 - acc: 0.924 - ETA: 1s - loss: 0.1996 - acc: 0.923 - ETA: 1s - loss: 0.2003 - acc: 0.923 - ETA: 1s - loss: 0.2001 - acc: 0.923 - ETA: 1s - loss: 0.2009 - acc: 0.923 - ETA: 1s - loss: 0.1998 - acc: 0.924 - ETA: 1s - loss: 0.1993 - acc: 0.924 - ETA: 1s - loss: 0.1997 - acc: 0.925 - ETA: 1s - loss: 0.1991 - acc: 0.925 - ETA: 0s - loss: 0.1998 - acc: 0.925 - ETA: 0s - loss: 0.1994 - acc: 0.925 - ETA: 0s - loss: 0.1981 - acc: 0.926 - ETA: 0s - loss: 0.1987 - acc: 0.926 - ETA: 0s - loss: 0.1989 - acc: 0.926 - ETA: 0s - loss: 0.1996 - acc: 0.926 - ETA: 0s - loss: 0.2004 - acc: 0.925 - ETA: 0s - loss: 0.2001 - acc: 0.925 - ETA: 0s - loss: 0.2006 - acc: 0.925 - ETA: 0s - loss: 0.2004 - acc: 0.925 - ETA: 0s - loss: 0.2007 - acc: 0.925 - ETA: 0s - loss: 0.2010 - acc: 0.925 - ETA: 0s - loss: 0.2006 - acc: 0.925 - ETA: 0s - loss: 0.2000 - acc: 0.925 - ETA: 0s - loss: 0.1997 - acc: 0.925 - ETA: 0s - loss: 0.2000 - acc: 0.925 - ETA: 0s - loss: 0.1996 - acc: 0.926 - ETA: 0s - loss: 0.2005 - acc: 0.925 - ETA: 0s - loss: 0.2010 - acc: 0.925 - ETA: 0s - loss: 0.2013 - acc: 0.925 - ETA: 0s - loss: 0.2017 - acc: 0.925 - ETA: 0s - loss: 0.2017 - acc: 0.925 - ETA: 0s - loss: 0.2020 - acc: 0.925 - ETA: 0s - loss: 0.2017 - acc: 0.925 - ETA: 0s - loss: 0.2017 - acc: 0.925 - ETA: 0s - loss: 0.2021 - acc: 0.925 - ETA: 0s - loss: 0.2026 - acc: 0.925 - ETA: 0s - loss: 0.2025 - acc: 0.925 - ETA: 0s - loss: 0.2023 - acc: 0.925 - ETA: 0s - loss: 0.2026 - acc: 0.924 - ETA: 0s - loss: 0.2023 - acc: 0.925 - ETA: 0s - loss: 0.2024 - acc: 0.924 - ETA: 0s - loss: 0.2022 - acc: 0.925 - ETA: 0s - loss: 0.2019 - acc: 0.925 - ETA: 0s - loss: 0.2022 - acc: 0.925 - 2s 42us/step - loss: 0.2022 - acc: 0.9251\n",
      "Epoch 16/20\n",
      "60000/60000 [==============================] - ETA: 7s - loss: 0.1566 - acc: 0.937 - ETA: 3s - loss: 0.1806 - acc: 0.935 - ETA: 3s - loss: 0.1843 - acc: 0.933 - ETA: 3s - loss: 0.1876 - acc: 0.929 - ETA: 3s - loss: 0.1916 - acc: 0.929 - ETA: 3s - loss: 0.1910 - acc: 0.929 - ETA: 3s - loss: 0.1940 - acc: 0.928 - ETA: 3s - loss: 0.1895 - acc: 0.930 - ETA: 3s - loss: 0.1914 - acc: 0.929 - ETA: 3s - loss: 0.1909 - acc: 0.930 - ETA: 2s - loss: 0.1904 - acc: 0.930 - ETA: 2s - loss: 0.1888 - acc: 0.931 - ETA: 2s - loss: 0.1894 - acc: 0.931 - ETA: 2s - loss: 0.1884 - acc: 0.931 - ETA: 2s - loss: 0.1910 - acc: 0.930 - ETA: 2s - loss: 0.1917 - acc: 0.930 - ETA: 2s - loss: 0.1902 - acc: 0.930 - ETA: 2s - loss: 0.1885 - acc: 0.931 - ETA: 2s - loss: 0.1924 - acc: 0.929 - ETA: 2s - loss: 0.1926 - acc: 0.929 - ETA: 2s - loss: 0.1927 - acc: 0.929 - ETA: 2s - loss: 0.1915 - acc: 0.929 - ETA: 2s - loss: 0.1911 - acc: 0.930 - ETA: 2s - loss: 0.1927 - acc: 0.929 - ETA: 2s - loss: 0.1929 - acc: 0.929 - ETA: 2s - loss: 0.1932 - acc: 0.928 - ETA: 2s - loss: 0.1924 - acc: 0.929 - ETA: 2s - loss: 0.1918 - acc: 0.929 - ETA: 2s - loss: 0.1919 - acc: 0.929 - ETA: 1s - loss: 0.1911 - acc: 0.930 - ETA: 1s - loss: 0.1929 - acc: 0.929 - ETA: 1s - loss: 0.1926 - acc: 0.929 - ETA: 1s - loss: 0.1922 - acc: 0.929 - ETA: 1s - loss: 0.1918 - acc: 0.930 - ETA: 1s - loss: 0.1915 - acc: 0.930 - ETA: 1s - loss: 0.1906 - acc: 0.930 - ETA: 1s - loss: 0.1903 - acc: 0.931 - ETA: 1s - loss: 0.1900 - acc: 0.930 - ETA: 1s - loss: 0.1896 - acc: 0.931 - ETA: 1s - loss: 0.1905 - acc: 0.931 - ETA: 1s - loss: 0.1902 - acc: 0.930 - ETA: 0s - loss: 0.1911 - acc: 0.930 - ETA: 0s - loss: 0.1906 - acc: 0.930 - ETA: 0s - loss: 0.1918 - acc: 0.930 - ETA: 0s - loss: 0.1923 - acc: 0.929 - ETA: 0s - loss: 0.1921 - acc: 0.929 - ETA: 0s - loss: 0.1928 - acc: 0.929 - ETA: 0s - loss: 0.1926 - acc: 0.929 - ETA: 0s - loss: 0.1924 - acc: 0.929 - ETA: 0s - loss: 0.1931 - acc: 0.929 - ETA: 0s - loss: 0.1934 - acc: 0.929 - 3s 44us/step - loss: 0.1936 - acc: 0.9290\n",
      "Epoch 17/20\n",
      "60000/60000 [==============================] - ETA: 3s - loss: 0.1991 - acc: 0.921 - ETA: 1s - loss: 0.1975 - acc: 0.929 - ETA: 1s - loss: 0.1871 - acc: 0.932 - ETA: 1s - loss: 0.1887 - acc: 0.931 - ETA: 1s - loss: 0.1847 - acc: 0.933 - ETA: 1s - loss: 0.1833 - acc: 0.933 - ETA: 1s - loss: 0.1834 - acc: 0.933 - ETA: 1s - loss: 0.1839 - acc: 0.932 - ETA: 1s - loss: 0.1845 - acc: 0.932 - ETA: 1s - loss: 0.1857 - acc: 0.932 - ETA: 1s - loss: 0.1847 - acc: 0.932 - ETA: 1s - loss: 0.1861 - acc: 0.931 - ETA: 1s - loss: 0.1857 - acc: 0.931 - ETA: 1s - loss: 0.1857 - acc: 0.931 - ETA: 1s - loss: 0.1869 - acc: 0.930 - ETA: 1s - loss: 0.1850 - acc: 0.931 - ETA: 1s - loss: 0.1849 - acc: 0.931 - ETA: 1s - loss: 0.1862 - acc: 0.930 - ETA: 1s - loss: 0.1860 - acc: 0.930 - ETA: 1s - loss: 0.1857 - acc: 0.931 - ETA: 1s - loss: 0.1852 - acc: 0.931 - ETA: 1s - loss: 0.1849 - acc: 0.931 - ETA: 1s - loss: 0.1854 - acc: 0.931 - ETA: 1s - loss: 0.1852 - acc: 0.930 - ETA: 1s - loss: 0.1843 - acc: 0.930 - ETA: 1s - loss: 0.1838 - acc: 0.931 - ETA: 1s - loss: 0.1844 - acc: 0.931 - ETA: 1s - loss: 0.1842 - acc: 0.931 - ETA: 1s - loss: 0.1843 - acc: 0.931 - ETA: 1s - loss: 0.1849 - acc: 0.930 - ETA: 1s - loss: 0.1858 - acc: 0.930 - ETA: 1s - loss: 0.1858 - acc: 0.930 - ETA: 1s - loss: 0.1858 - acc: 0.930 - ETA: 1s - loss: 0.1852 - acc: 0.930 - ETA: 1s - loss: 0.1853 - acc: 0.930 - ETA: 1s - loss: 0.1849 - acc: 0.930 - ETA: 1s - loss: 0.1847 - acc: 0.930 - ETA: 1s - loss: 0.1848 - acc: 0.930 - ETA: 0s - loss: 0.1844 - acc: 0.930 - ETA: 0s - loss: 0.1841 - acc: 0.930 - ETA: 0s - loss: 0.1844 - acc: 0.930 - ETA: 0s - loss: 0.1857 - acc: 0.930 - ETA: 0s - loss: 0.1857 - acc: 0.930 - ETA: 0s - loss: 0.1849 - acc: 0.930 - ETA: 0s - loss: 0.1851 - acc: 0.930 - ETA: 0s - loss: 0.1854 - acc: 0.930 - ETA: 0s - loss: 0.1854 - acc: 0.930 - ETA: 0s - loss: 0.1850 - acc: 0.930 - ETA: 0s - loss: 0.1849 - acc: 0.930 - ETA: 0s - loss: 0.1851 - acc: 0.930 - ETA: 0s - loss: 0.1846 - acc: 0.930 - ETA: 0s - loss: 0.1844 - acc: 0.930 - ETA: 0s - loss: 0.1854 - acc: 0.930 - ETA: 0s - loss: 0.1855 - acc: 0.930 - ETA: 0s - loss: 0.1861 - acc: 0.930 - ETA: 0s - loss: 0.1861 - acc: 0.930 - ETA: 0s - loss: 0.1863 - acc: 0.930 - ETA: 0s - loss: 0.1859 - acc: 0.930 - ETA: 0s - loss: 0.1862 - acc: 0.930 - ETA: 0s - loss: 0.1866 - acc: 0.930 - ETA: 0s - loss: 0.1866 - acc: 0.930 - 3s 53us/step - loss: 0.1868 - acc: 0.9301\n",
      "Epoch 18/20\n",
      "60000/60000 [==============================] - ETA: 6s - loss: 0.1216 - acc: 0.968 - ETA: 4s - loss: 0.1845 - acc: 0.929 - ETA: 4s - loss: 0.1805 - acc: 0.930 - ETA: 3s - loss: 0.1762 - acc: 0.931 - ETA: 3s - loss: 0.1700 - acc: 0.934 - ETA: 3s - loss: 0.1743 - acc: 0.933 - ETA: 3s - loss: 0.1690 - acc: 0.935 - ETA: 3s - loss: 0.1761 - acc: 0.933 - ETA: 3s - loss: 0.1758 - acc: 0.934 - ETA: 3s - loss: 0.1765 - acc: 0.933 - ETA: 3s - loss: 0.1749 - acc: 0.933 - ETA: 3s - loss: 0.1726 - acc: 0.934 - ETA: 2s - loss: 0.1710 - acc: 0.936 - ETA: 2s - loss: 0.1705 - acc: 0.936 - ETA: 2s - loss: 0.1721 - acc: 0.935 - ETA: 2s - loss: 0.1751 - acc: 0.934 - ETA: 1s - loss: 0.1734 - acc: 0.935 - ETA: 1s - loss: 0.1737 - acc: 0.935 - ETA: 1s - loss: 0.1752 - acc: 0.935 - ETA: 1s - loss: 0.1749 - acc: 0.935 - ETA: 1s - loss: 0.1749 - acc: 0.935 - ETA: 1s - loss: 0.1757 - acc: 0.935 - ETA: 1s - loss: 0.1765 - acc: 0.935 - ETA: 1s - loss: 0.1765 - acc: 0.935 - ETA: 1s - loss: 0.1779 - acc: 0.935 - ETA: 1s - loss: 0.1783 - acc: 0.934 - ETA: 0s - loss: 0.1786 - acc: 0.934 - ETA: 0s - loss: 0.1792 - acc: 0.933 - ETA: 0s - loss: 0.1810 - acc: 0.933 - ETA: 0s - loss: 0.1805 - acc: 0.933 - ETA: 0s - loss: 0.1805 - acc: 0.933 - ETA: 0s - loss: 0.1803 - acc: 0.933 - ETA: 0s - loss: 0.1806 - acc: 0.933 - ETA: 0s - loss: 0.1799 - acc: 0.933 - ETA: 0s - loss: 0.1802 - acc: 0.933 - ETA: 0s - loss: 0.1803 - acc: 0.933 - ETA: 0s - loss: 0.1802 - acc: 0.933 - ETA: 0s - loss: 0.1803 - acc: 0.933 - ETA: 0s - loss: 0.1803 - acc: 0.933 - ETA: 0s - loss: 0.1804 - acc: 0.933 - ETA: 0s - loss: 0.1799 - acc: 0.933 - ETA: 0s - loss: 0.1797 - acc: 0.933 - ETA: 0s - loss: 0.1795 - acc: 0.933 - ETA: 0s - loss: 0.1795 - acc: 0.933 - ETA: 0s - loss: 0.1795 - acc: 0.933 - ETA: 0s - loss: 0.1798 - acc: 0.933 - ETA: 0s - loss: 0.1802 - acc: 0.932 - ETA: 0s - loss: 0.1800 - acc: 0.933 - ETA: 0s - loss: 0.1802 - acc: 0.933 - ETA: 0s - loss: 0.1800 - acc: 0.933 - ETA: 0s - loss: 0.1799 - acc: 0.933 - ETA: 0s - loss: 0.1799 - acc: 0.933 - ETA: 0s - loss: 0.1806 - acc: 0.933 - ETA: 0s - loss: 0.1807 - acc: 0.933 - ETA: 0s - loss: 0.1805 - acc: 0.933 - ETA: 0s - loss: 0.1809 - acc: 0.933 - ETA: 0s - loss: 0.1809 - acc: 0.933 - ETA: 0s - loss: 0.1806 - acc: 0.933 - 3s 50us/step - loss: 0.1809 - acc: 0.9329\n",
      "Epoch 19/20\n",
      "60000/60000 [==============================] - ETA: 6s - loss: 0.3308 - acc: 0.906 - ETA: 4s - loss: 0.1987 - acc: 0.929 - ETA: 4s - loss: 0.1941 - acc: 0.928 - ETA: 4s - loss: 0.1854 - acc: 0.932 - ETA: 4s - loss: 0.1779 - acc: 0.935 - ETA: 4s - loss: 0.1788 - acc: 0.936 - ETA: 4s - loss: 0.1810 - acc: 0.934 - ETA: 3s - loss: 0.1779 - acc: 0.935 - ETA: 3s - loss: 0.1784 - acc: 0.935 - ETA: 3s - loss: 0.1774 - acc: 0.934 - ETA: 3s - loss: 0.1757 - acc: 0.935 - ETA: 3s - loss: 0.1729 - acc: 0.937 - ETA: 3s - loss: 0.1716 - acc: 0.938 - ETA: 3s - loss: 0.1721 - acc: 0.937 - ETA: 3s - loss: 0.1725 - acc: 0.936 - ETA: 4s - loss: 0.1708 - acc: 0.937 - ETA: 4s - loss: 0.1703 - acc: 0.937 - ETA: 4s - loss: 0.1710 - acc: 0.938 - ETA: 4s - loss: 0.1711 - acc: 0.938 - ETA: 4s - loss: 0.1719 - acc: 0.938 - ETA: 4s - loss: 0.1726 - acc: 0.937 - ETA: 4s - loss: 0.1717 - acc: 0.938 - ETA: 4s - loss: 0.1716 - acc: 0.937 - ETA: 4s - loss: 0.1701 - acc: 0.937 - ETA: 4s - loss: 0.1694 - acc: 0.937 - ETA: 4s - loss: 0.1711 - acc: 0.937 - ETA: 4s - loss: 0.1720 - acc: 0.937 - ETA: 3s - loss: 0.1724 - acc: 0.936 - ETA: 3s - loss: 0.1728 - acc: 0.936 - ETA: 3s - loss: 0.1738 - acc: 0.935 - ETA: 3s - loss: 0.1736 - acc: 0.935 - ETA: 3s - loss: 0.1733 - acc: 0.935 - ETA: 3s - loss: 0.1741 - acc: 0.935 - ETA: 3s - loss: 0.1743 - acc: 0.935 - ETA: 3s - loss: 0.1746 - acc: 0.934 - ETA: 3s - loss: 0.1751 - acc: 0.934 - ETA: 2s - loss: 0.1755 - acc: 0.934 - ETA: 2s - loss: 0.1768 - acc: 0.934 - ETA: 2s - loss: 0.1775 - acc: 0.934 - ETA: 2s - loss: 0.1768 - acc: 0.934 - ETA: 2s - loss: 0.1765 - acc: 0.935 - ETA: 2s - loss: 0.1767 - acc: 0.935 - ETA: 2s - loss: 0.1762 - acc: 0.935 - ETA: 2s - loss: 0.1760 - acc: 0.935 - ETA: 2s - loss: 0.1760 - acc: 0.935 - ETA: 2s - loss: 0.1759 - acc: 0.935 - ETA: 1s - loss: 0.1768 - acc: 0.935 - ETA: 1s - loss: 0.1769 - acc: 0.934 - ETA: 1s - loss: 0.1770 - acc: 0.934 - ETA: 1s - loss: 0.1769 - acc: 0.934 - ETA: 1s - loss: 0.1760 - acc: 0.934 - ETA: 1s - loss: 0.1757 - acc: 0.934 - ETA: 1s - loss: 0.1749 - acc: 0.935 - ETA: 0s - loss: 0.1743 - acc: 0.935 - ETA: 0s - loss: 0.1743 - acc: 0.935 - ETA: 0s - loss: 0.1741 - acc: 0.935 - ETA: 0s - loss: 0.1750 - acc: 0.935 - ETA: 0s - loss: 0.1759 - acc: 0.934 - ETA: 0s - loss: 0.1756 - acc: 0.934 - ETA: 0s - loss: 0.1761 - acc: 0.934 - ETA: 0s - loss: 0.1760 - acc: 0.934 - ETA: 0s - loss: 0.1758 - acc: 0.934 - 3s 54us/step - loss: 0.1756 - acc: 0.9349\n",
      "Epoch 20/20\n"
     ]
    },
    {
     "name": "stdout",
     "output_type": "stream",
     "text": [
      "60000/60000 [==============================] - ETA: 3s - loss: 0.1168 - acc: 0.984 - ETA: 1s - loss: 0.1495 - acc: 0.949 - ETA: 1s - loss: 0.1584 - acc: 0.941 - ETA: 1s - loss: 0.1555 - acc: 0.942 - ETA: 1s - loss: 0.1569 - acc: 0.942 - ETA: 2s - loss: 0.1562 - acc: 0.943 - ETA: 2s - loss: 0.1533 - acc: 0.944 - ETA: 2s - loss: 0.1528 - acc: 0.944 - ETA: 2s - loss: 0.1541 - acc: 0.944 - ETA: 2s - loss: 0.1538 - acc: 0.944 - ETA: 2s - loss: 0.1549 - acc: 0.944 - ETA: 2s - loss: 0.1558 - acc: 0.943 - ETA: 2s - loss: 0.1554 - acc: 0.943 - ETA: 2s - loss: 0.1541 - acc: 0.943 - ETA: 2s - loss: 0.1557 - acc: 0.943 - ETA: 2s - loss: 0.1565 - acc: 0.942 - ETA: 2s - loss: 0.1574 - acc: 0.942 - ETA: 2s - loss: 0.1579 - acc: 0.942 - ETA: 2s - loss: 0.1592 - acc: 0.941 - ETA: 2s - loss: 0.1600 - acc: 0.941 - ETA: 2s - loss: 0.1608 - acc: 0.940 - ETA: 2s - loss: 0.1603 - acc: 0.941 - ETA: 2s - loss: 0.1605 - acc: 0.941 - ETA: 2s - loss: 0.1626 - acc: 0.940 - ETA: 2s - loss: 0.1621 - acc: 0.940 - ETA: 2s - loss: 0.1615 - acc: 0.940 - ETA: 2s - loss: 0.1615 - acc: 0.940 - ETA: 2s - loss: 0.1614 - acc: 0.940 - ETA: 1s - loss: 0.1611 - acc: 0.941 - ETA: 1s - loss: 0.1621 - acc: 0.940 - ETA: 1s - loss: 0.1626 - acc: 0.940 - ETA: 1s - loss: 0.1625 - acc: 0.940 - ETA: 1s - loss: 0.1626 - acc: 0.940 - ETA: 1s - loss: 0.1642 - acc: 0.939 - ETA: 1s - loss: 0.1647 - acc: 0.939 - ETA: 1s - loss: 0.1641 - acc: 0.939 - ETA: 1s - loss: 0.1642 - acc: 0.939 - ETA: 1s - loss: 0.1651 - acc: 0.939 - ETA: 1s - loss: 0.1651 - acc: 0.939 - ETA: 1s - loss: 0.1653 - acc: 0.939 - ETA: 1s - loss: 0.1655 - acc: 0.939 - ETA: 1s - loss: 0.1653 - acc: 0.939 - ETA: 1s - loss: 0.1656 - acc: 0.939 - ETA: 1s - loss: 0.1654 - acc: 0.939 - ETA: 1s - loss: 0.1660 - acc: 0.939 - ETA: 1s - loss: 0.1658 - acc: 0.939 - ETA: 1s - loss: 0.1651 - acc: 0.939 - ETA: 1s - loss: 0.1651 - acc: 0.939 - ETA: 1s - loss: 0.1652 - acc: 0.939 - ETA: 0s - loss: 0.1656 - acc: 0.939 - ETA: 0s - loss: 0.1654 - acc: 0.939 - ETA: 0s - loss: 0.1652 - acc: 0.939 - ETA: 0s - loss: 0.1654 - acc: 0.939 - ETA: 0s - loss: 0.1655 - acc: 0.939 - ETA: 0s - loss: 0.1652 - acc: 0.939 - ETA: 0s - loss: 0.1658 - acc: 0.939 - ETA: 0s - loss: 0.1657 - acc: 0.939 - ETA: 0s - loss: 0.1665 - acc: 0.939 - ETA: 0s - loss: 0.1668 - acc: 0.939 - ETA: 0s - loss: 0.1669 - acc: 0.939 - ETA: 0s - loss: 0.1672 - acc: 0.939 - ETA: 0s - loss: 0.1670 - acc: 0.939 - ETA: 0s - loss: 0.1672 - acc: 0.938 - ETA: 0s - loss: 0.1674 - acc: 0.938 - ETA: 0s - loss: 0.1672 - acc: 0.938 - ETA: 0s - loss: 0.1671 - acc: 0.938 - ETA: 0s - loss: 0.1672 - acc: 0.938 - ETA: 0s - loss: 0.1668 - acc: 0.938 - ETA: 0s - loss: 0.1672 - acc: 0.938 - 4s 59us/step - loss: 0.1675 - acc: 0.9382\n"
     ]
    }
   ],
   "source": [
    "# batch_size도 성능에 영향을 미친다.\n",
    "model1.compile(optimizer=SGD(lr=0.05), loss='categorical_crossentropy', metrics=['acc'])\n",
    "history = model1.fit(train_images, categorical_labels, epochs=20, batch_size=64,verbose=1)"
   ]
  },
  {
   "cell_type": "code",
   "execution_count": 21,
   "metadata": {},
   "outputs": [
    {
     "data": {
      "image/png": "[encoded data removed]",
      "text/plain": [
       "<Figure size 432x288 with 1 Axes>"
      ]
     },
     "metadata": {
      "needs_background": "light"
     },
     "output_type": "display_data"
    }
   ],
   "source": [
    "plt.plot(history.history[\"loss\"], label=\"train loss\")\n",
    "plt.legend()\n",
    "plt.title(\"Loss\")\n",
    "plt.show()"
   ]
  },
  {
   "cell_type": "code",
   "execution_count": 22,
   "metadata": {},
   "outputs": [
    {
     "name": "stdout",
     "output_type": "stream",
     "text": [
      "10000/10000 [==============================] - ETA:  - ETA:  - ETA:  - ETA:  - 0s 22us/step\n",
      "테스트 정확도: 0.8781\n"
     ]
    }
   ],
   "source": [
    "test_loss, test_acc = model1.evaluate(test_images, categorical_test_labels)\n",
    "print('테스트 정확도:', test_acc)"
   ]
  },
  {
   "cell_type": "markdown",
   "metadata": {},
   "source": [
    "-----------------------------------------"
   ]
  },
  {
   "cell_type": "markdown",
   "metadata": {},
   "source": [
    "# Assignment 2 :\n",
    "- 6주차 NN 기초 강의 과제였던 6_NeuralNetwork_HW.ipynb를 프레임워크로 구현\n",
    "- PyTorch로 짠 예제 코드를 참고해주세요\n",
    "- Batch Normalization, Dropout 등 NN 심화에서 다뤘던 내용을 활용"
   ]
  },
  {
   "cell_type": "markdown",
   "metadata": {},
   "source": [
    "## 1) Data ( Pre-Processing)"
   ]
  },
  {
   "cell_type": "code",
   "execution_count": 23,
   "metadata": {},
   "outputs": [],
   "source": [
    "import pandas as pd\n",
    "from load_cifar_10 import *\n",
    "import numpy as np\n",
    "\n",
    "cifar_10_dir = 'cifar-10-batches-py'\n",
    "\n",
    "train_data, train_filenames, train_labels, test_data, test_filenames, test_labels, label_names = \\\n",
    "load_cifar_10_data(cifar_10_dir)\n",
    "\n",
    "def Processing_data(train, test):\n",
    "    #change dtype\n",
    "    train = np.array(train, dtype=np.float64)\n",
    "    test = np.array(test, dtype=np.float64)\n",
    "    \n",
    "    #Reshaping\n",
    "    train = np.reshape(train, (train.shape[0], -1))\n",
    "    test = np.reshape(test, (test.shape[0], -1))\n",
    "    \n",
    "    #Normalizing\n",
    "    mean_image = np.mean(train, axis = 0)\n",
    "    #print(train.dtype)\n",
    "    train -= mean_image\n",
    "    test -= mean_image\n",
    "    \n",
    "    return train, test"
   ]
  },
  {
   "cell_type": "code",
   "execution_count": 24,
   "metadata": {},
   "outputs": [],
   "source": [
    "# Sampling\n",
    "train_data, test_data = Processing_data(train_data, test_data)\n",
    "train_data = train_data[:5000]\n",
    "train_labels = train_labels[:5000]\n",
    "test_data = test_data[:1000]\n",
    "test_labels = test_labels[:1000]"
   ]
  },
  {
   "cell_type": "code",
   "execution_count": 25,
   "metadata": {},
   "outputs": [
    {
     "data": {
      "text/plain": [
       "(5000,)"
      ]
     },
     "metadata": {},
     "output_type": "display_data"
    },
    {
     "data": {
      "text/plain": [
       "(5000, 10)"
      ]
     },
     "metadata": {},
     "output_type": "display_data"
    }
   ],
   "source": [
    "from keras.utils import to_categorical\n",
    "display(train_labels.shape)\n",
    "categorical_labels = to_categorical(train_labels, num_classes=None)\n",
    "categorical_test_labels = to_categorical(test_labels, num_classes=None)\n",
    "\n",
    "display(categorical_labels.shape)"
   ]
  },
  {
   "cell_type": "code",
   "execution_count": 26,
   "metadata": {},
   "outputs": [
    {
     "data": {
      "text/plain": [
       "'\\nfrom sklearn.preprocessing import MinMaxScaler\\nscaler = MinMaxScaler()\\ntrain_data= scaler.fit_transform(train_data)\\ntest_data = scaler.transform(test_data)\\n'"
      ]
     },
     "execution_count": 26,
     "metadata": {},
     "output_type": "execute_result"
    }
   ],
   "source": [
    "# Scaling\n",
    "\"\"\"\n",
    "from sklearn.preprocessing import MinMaxScaler\n",
    "scaler = MinMaxScaler()\n",
    "train_data= scaler.fit_transform(train_data)\n",
    "test_data = scaler.transform(test_data)\n",
    "\"\"\""
   ]
  },
  {
   "cell_type": "markdown",
   "metadata": {},
   "source": [
    "## 2) Modeling "
   ]
  },
  {
   "cell_type": "code",
   "execution_count": 27,
   "metadata": {},
   "outputs": [],
   "source": [
    "# Hyper Parameters\n",
    "input_size = 32 * 32 * 3\n",
    "hidden_size = 50\n",
    "output_size = 10\n",
    "epoch_size = 100\n",
    "batch_size = 100\n",
    "learning_rate = 0.0001\n",
    "N = train_data.shape[0]\n",
    "M = test_data.shape[0] # 새롭게 추가"
   ]
  },
  {
   "cell_type": "markdown",
   "metadata": {},
   "source": [
    "## 2-1) PyTorch"
   ]
  },
  {
   "cell_type": "code",
   "execution_count": 28,
   "metadata": {},
   "outputs": [],
   "source": [
    "import torch\n",
    "import torch.nn as nn\n",
    "import torch.nn.functional as F"
   ]
  },
  {
   "cell_type": "code",
   "execution_count": 29,
   "metadata": {},
   "outputs": [
    {
     "name": "stdout",
     "output_type": "stream",
     "text": [
      "Net(\n",
      "  (fc1): Linear(in_features=3072, out_features=50, bias=True)\n",
      "  (fc2): Linear(in_features=50, out_features=10, bias=True)\n",
      ")\n"
     ]
    }
   ],
   "source": [
    "# Modeling\n",
    "class Net(nn.Module):\n",
    "    def __init__(self):\n",
    "        super(Net, self).__init__()\n",
    "        # an affine operation : y = Wx + b\n",
    "        self.fc1 = nn.Linear(input_size, hidden_size) # input, output\n",
    "        # 1층은 3072 입력, 50으로 나옴 -> relu\n",
    "        self.fc2 = nn.Linear(hidden_size, output_size)\n",
    "        # 2층은 50측 입력 10층 나옴 -> sofrmax\n",
    "    \n",
    "    def forward(self, x):\n",
    "        x = x.view(-1, self.num_flat_features(x))\n",
    "        x = F.relu(self.fc1(x))# \n",
    "        x = self.fc2(x)\n",
    "        return x\n",
    "    \n",
    "    def num_flat_features(self, x):\n",
    "        size = x.size()[1:]\n",
    "        num_features = 1\n",
    "        for s in size:\n",
    "            num_features *= s\n",
    "        return num_features\n",
    "\n",
    "net = Net()\n",
    "print(net)"
   ]
  },
  {
   "cell_type": "code",
   "execution_count": 30,
   "metadata": {},
   "outputs": [],
   "source": [
    "# Optimizer , Loss\n",
    "import torch.optim as optim\n",
    "criterion = nn.CrossEntropyLoss()\n",
    "optimizer = optim.SGD(net.parameters(), lr=learning_rate)"
   ]
  },
  {
   "cell_type": "code",
   "execution_count": 31,
   "metadata": {},
   "outputs": [
    {
     "name": "stdout",
     "output_type": "stream",
     "text": [
      "[10] loss: 12.810 acc: 47.380 \n",
      "Accuracy of the network on the 50000 train images: 47 %\n",
      "[10] loss: 5.504 acc: 25.600 \n",
      "Accuracy of the network on the 10000 test images: 25 %\n",
      "[20] loss: 7.173 acc: 61.720 \n",
      "Accuracy of the network on the 50000 train images: 61 %\n",
      "[20] loss: 4.797 acc: 30.400 \n",
      "Accuracy of the network on the 10000 test images: 30 %\n",
      "[30] loss: 4.598 acc: 71.740 \n",
      "Accuracy of the network on the 50000 train images: 71 %\n",
      "[30] loss: 4.515 acc: 29.100 \n",
      "Accuracy of the network on the 10000 test images: 29 %\n",
      "[40] loss: 3.260 acc: 79.900 \n",
      "Accuracy of the network on the 50000 train images: 79 %\n",
      "[40] loss: 4.621 acc: 26.900 \n",
      "Accuracy of the network on the 10000 test images: 26 %\n",
      "[50] loss: 2.345 acc: 86.680 \n",
      "Accuracy of the network on the 50000 train images: 86 %\n",
      "[50] loss: 4.828 acc: 27.600 \n",
      "Accuracy of the network on the 10000 test images: 27 %\n",
      "[60] loss: 1.838 acc: 90.860 \n",
      "Accuracy of the network on the 50000 train images: 90 %\n",
      "[60] loss: 4.655 acc: 27.500 \n",
      "Accuracy of the network on the 10000 test images: 27 %\n",
      "[70] loss: 1.477 acc: 93.600 \n",
      "Accuracy of the network on the 50000 train images: 93 %\n",
      "[70] loss: 4.858 acc: 27.200 \n",
      "Accuracy of the network on the 10000 test images: 27 %\n",
      "[80] loss: 1.307 acc: 94.960 \n",
      "Accuracy of the network on the 50000 train images: 94 %\n",
      "[80] loss: 4.528 acc: 32.800 \n",
      "Accuracy of the network on the 10000 test images: 32 %\n",
      "[90] loss: 1.062 acc: 96.600 \n",
      "Accuracy of the network on the 50000 train images: 96 %\n",
      "[90] loss: 4.597 acc: 32.400 \n",
      "Accuracy of the network on the 10000 test images: 32 %\n",
      "[100] loss: 0.901 acc: 97.700 \n",
      "Accuracy of the network on the 50000 train images: 97 %\n",
      "[100] loss: 4.787 acc: 29.600 \n",
      "Accuracy of the network on the 10000 test images: 29 %\n",
      "\n"
     ]
    }
   ],
   "source": [
    "history = {'val_acc': [],'val_loss': [], 'train_acc':[], 'train_loss':[]} #기록해서 그림 그리자!\n",
    "\n",
    "#코드를 보며 epoch, batch에 대해서 이해해봅시다.\n",
    "for i in range(epoch_size):\n",
    "    correct = 0\n",
    "    total = 0\n",
    "    running_loss = 0\n",
    "    for j in range(N//batch_size):\n",
    "        batch_mask = np.random.choice(N, batch_size) #이번 배치에서 쓸 데이터들 인덱스 추출\n",
    "        x_batch = torch.FloatTensor(train_data[batch_mask])\n",
    "        t_batch = torch.LongTensor(train_labels[batch_mask])\n",
    "        \n",
    "        # Gradient buffer를 0으로 초기화\n",
    "        optimizer.zero_grad()\n",
    "        \n",
    "        # Forward\n",
    "        outputs = net(x_batch)\n",
    "        # Backward\n",
    "        loss = criterion(outputs, t_batch)\n",
    "        loss.backward()\n",
    "        # Update the weights\n",
    "        optimizer.step()\n",
    "        \n",
    "        # Statistics\n",
    "        _, predicted = torch.max(outputs.data, 1)\n",
    "        total += t_batch.size(0)\n",
    "        correct += (predicted == t_batch).sum().item()\n",
    "        running_loss += loss.item()\n",
    "        \n",
    "    acc = 100*correct/total    \n",
    "    history['train_loss'].append(running_loss / 50)\n",
    "    history['train_acc'].append(acc)\n",
    "    \n",
    "    if i % 10 == 9: # print every 10 epochs \n",
    "\n",
    "        print('[%d] loss: %.3f acc: %.3f ' %\n",
    "              (i + 1, running_loss / 10, acc))\n",
    "        print('Accuracy of the network on the 50000 train images: %d %%' %  acc)\n",
    "        running_loss = 0.0\n",
    "\n",
    "    # Test\n",
    "    correct = 0\n",
    "    total = 0\n",
    "    val_loss = 0\n",
    "\n",
    "    with torch.no_grad():\n",
    "        for k in range(M//batch_size):\n",
    "            batch_mask = np.random.choice(M, batch_size) \n",
    "            #이번 배치에서 쓸 데이터들 인덱스 추출\n",
    "            x_batch = torch.FloatTensor(test_data[batch_mask])\n",
    "            t_batch = torch.LongTensor(test_labels[batch_mask])\n",
    "            \n",
    "             # Forward\n",
    "            outputs = net(x_batch)\n",
    "\n",
    "            # loss\n",
    "            loss = criterion(outputs, t_batch)\n",
    "                        \n",
    "            # Statistics\n",
    "            _, predicted = torch.max(outputs.data, 1)\n",
    "            total += t_batch.size(0)\n",
    "            correct += (predicted == t_batch).sum().item()\n",
    "            val_loss += loss.item()\n",
    "        \n",
    "        #accuracy와 loss를 기록해둡시다.\n",
    "        acc = 100*correct/total\n",
    "        history[\"val_acc\"].append(acc)\n",
    "        history[\"val_loss\"].append(val_loss / 10)\n",
    "    \n",
    "        if i % 10 == 9: # print every 10 epochs\n",
    "            print('[%d] loss: %.3f acc: %.3f ' %\n",
    "                  (i + 1, val_loss / 10, acc))\n",
    "            print('Accuracy of the network on the 10000 test images: %d %%' % acc)\n",
    "            val_loss = 0.0\n",
    "            \n",
    "print(\"\")"
   ]
  },
  {
   "cell_type": "code",
   "execution_count": 32,
   "metadata": {},
   "outputs": [
    {
     "data": {
      "image/png": "[encoded data removed]",
      "text/plain": [
       "<Figure size 432x288 with 2 Axes>"
      ]
     },
     "metadata": {
      "needs_background": "light"
     },
     "output_type": "display_data"
    }
   ],
   "source": [
    "fig = plt.figure()\n",
    "ax_acc = fig.add_subplot(111)\n",
    "\n",
    "ax_acc.plot(range(epoch_size), history['val_acc'], label='정확도(%)', color='darkred')\n",
    "#plt.text(3, 14.7, \"<----------------정확도(%)\", verticalalignment='top', horizontalalignment='right')\n",
    "plt.xlabel('epochs')\n",
    "plt.ylabel('Validation Accuracy(%)')\n",
    "ax_acc.grid(linestyle='--', color='lavender')\n",
    "ax_loss = ax_acc.twinx()\n",
    "ax_loss.plot(range(epoch_size), history['val_loss'], label='오차', color='darkblue')\n",
    "#plt.text(3, 2.2, \"<----------------오차\", verticalalignment='top', horizontalalignment='left')\n",
    "plt.ylabel('Validation Error')\n",
    "ax_loss.yaxis.tick_right()\n",
    "ax_loss.grid(linestyle='--', color='lavender')\n",
    "\n",
    "# 그래프 표시\n",
    "plt.show()"
   ]
  },
  {
   "cell_type": "markdown",
   "metadata": {},
   "source": [
    "## 2-2 Keras ( 과제 시작 ) "
   ]
  },
  {
   "cell_type": "markdown",
   "metadata": {},
   "source": [
    "### Data"
   ]
  },
  {
   "cell_type": "code",
   "execution_count": 33,
   "metadata": {},
   "outputs": [],
   "source": [
    "# flatten을 여기서 해줌\n",
    "keras_train = np.zeros(shape=(5000,3072))\n",
    "keras_test = np.zeros(shape=(1000,3072))\n",
    "for i in range(len(train_data)):\n",
    "    keras_train[i] = train_data[i].flatten()\n",
    "for i in range(len(test_data)):\n",
    "    keras_test[i] = test_data[i].flatten()"
   ]
  },
  {
   "cell_type": "markdown",
   "metadata": {},
   "source": [
    "#### 다른점 1 : MinMax로 스케일링 시도"
   ]
  },
  {
   "cell_type": "code",
   "execution_count": 34,
   "metadata": {},
   "outputs": [],
   "source": [
    "# Scaling\n",
    "from sklearn.preprocessing import MinMaxScaler\n",
    "scaler = MinMaxScaler()\n",
    "keras_train_data= scaler.fit_transform(keras_train)\n",
    "keras_test_data = scaler.transform(keras_test)"
   ]
  },
  {
   "cell_type": "code",
   "execution_count": 35,
   "metadata": {},
   "outputs": [
    {
     "data": {
      "text/plain": [
       "(5000, 10)"
      ]
     },
     "metadata": {},
     "output_type": "display_data"
    }
   ],
   "source": [
    "from keras.utils import to_categorical\n",
    "categorical_labels = to_categorical(train_labels, num_classes=None)\n",
    "categorical_test_labels = to_categorical(test_labels, num_classes=None)\n",
    "display(categorical_labels.shape)"
   ]
  },
  {
   "cell_type": "code",
   "execution_count": 36,
   "metadata": {},
   "outputs": [
    {
     "data": {
      "text/plain": [
       "(5000, 3072)"
      ]
     },
     "execution_count": 36,
     "metadata": {},
     "output_type": "execute_result"
    }
   ],
   "source": [
    "keras_train_data.shape"
   ]
  },
  {
   "cell_type": "markdown",
   "metadata": {},
   "source": [
    "### Modeling"
   ]
  },
  {
   "cell_type": "code",
   "execution_count": 37,
   "metadata": {},
   "outputs": [
    {
     "data": {
      "text/plain": [
       "(1000, 10)"
      ]
     },
     "execution_count": 37,
     "metadata": {},
     "output_type": "execute_result"
    }
   ],
   "source": [
    "categorical_test_labels.shape"
   ]
  },
  {
   "cell_type": "code",
   "execution_count": 38,
   "metadata": {},
   "outputs": [],
   "source": [
    "from keras import models\n",
    "from keras import layers\n",
    "from keras.optimizers import SGD\n",
    "from keras.layers import Flatten\n",
    "from keras import regularizers\n",
    "from keras.callbacks import EarlyStopping\n",
    "from keras import initializers"
   ]
  },
  {
   "cell_type": "code",
   "execution_count": 129,
   "metadata": {},
   "outputs": [],
   "source": [
    "from IPython.display import Image\n",
    "from keras.utils.vis_utils import model_to_dot\n",
    "\n",
    "import matplotlib.pyplot as plt\n",
    "%matplotlib inline"
   ]
  },
  {
   "cell_type": "code",
   "execution_count": 39,
   "metadata": {
    "scrolled": true
   },
   "outputs": [
    {
     "name": "stdout",
     "output_type": "stream",
     "text": [
      "_________________________________________________________________\n",
      "Layer (type)                 Output Shape              Param #   \n",
      "=================================================================\n",
      "dense_4 (Dense)              (None, 50)                153650    \n",
      "_________________________________________________________________\n",
      "dense_5 (Dense)              (None, 10)                510       \n",
      "=================================================================\n",
      "Total params: 154,160\n",
      "Trainable params: 154,160\n",
      "Non-trainable params: 0\n",
      "_________________________________________________________________\n"
     ]
    }
   ],
   "source": [
    "# 기존 코드와 똑같이 모델링\n",
    "model2 = models.Sequential()\n",
    "model2.add(layers.Dense(50, activation='relu', input_shape=(3072,)))#, kernel_initializer = initializers.RandomNormal(mean=0.0, stddev=0.1, seed=None)))\n",
    "model2.add(layers.Dense(10, activation='softmax'))#,kernel_initializer = initializers.RandomNormal(mean=0.0, stddev=0.1, seed=None)))\n",
    "model2.summary()"
   ]
  },
  {
   "cell_type": "code",
   "execution_count": 40,
   "metadata": {},
   "outputs": [
    {
     "name": "stdout",
     "output_type": "stream",
     "text": [
      "Train on 5000 samples, validate on 1000 samples\n",
      "Epoch 1/100\n",
      " - 1s - loss: 2.4650 - acc: 0.1006 - val_loss: 2.4241 - val_acc: 0.1090\n",
      "Epoch 2/100\n",
      " - 0s - loss: 2.4002 - acc: 0.0958 - val_loss: 2.3771 - val_acc: 0.0990\n",
      "Epoch 3/100\n",
      " - 1s - loss: 2.3666 - acc: 0.0932 - val_loss: 2.3509 - val_acc: 0.0990\n",
      "Epoch 4/100\n",
      " - 0s - loss: 2.3466 - acc: 0.0898 - val_loss: 2.3344 - val_acc: 0.0970\n",
      "Epoch 5/100\n",
      " - 0s - loss: 2.3329 - acc: 0.0946 - val_loss: 2.3223 - val_acc: 0.1100\n",
      "Epoch 6/100\n",
      " - 0s - loss: 2.3223 - acc: 0.1006 - val_loss: 2.3130 - val_acc: 0.1200\n",
      "Epoch 7/100\n",
      " - 0s - loss: 2.3138 - acc: 0.1080 - val_loss: 2.3050 - val_acc: 0.1280\n",
      "Epoch 8/100\n",
      " - 0s - loss: 2.3063 - acc: 0.1124 - val_loss: 2.2982 - val_acc: 0.1300\n",
      "Epoch 9/100\n",
      " - 0s - loss: 2.2997 - acc: 0.1162 - val_loss: 2.2920 - val_acc: 0.1330\n",
      "Epoch 10/100\n",
      " - 0s - loss: 2.2936 - acc: 0.1194 - val_loss: 2.2864 - val_acc: 0.1370\n",
      "Epoch 11/100\n",
      " - 0s - loss: 2.2880 - acc: 0.1254 - val_loss: 2.2813 - val_acc: 0.1430\n",
      "Epoch 12/100\n",
      " - 0s - loss: 2.2827 - acc: 0.1278 - val_loss: 2.2767 - val_acc: 0.1540\n",
      "Epoch 13/100\n",
      " - 0s - loss: 2.2779 - acc: 0.1326 - val_loss: 2.2725 - val_acc: 0.1570\n",
      "Epoch 14/100\n",
      " - 0s - loss: 2.2732 - acc: 0.1386 - val_loss: 2.2685 - val_acc: 0.1610\n",
      "Epoch 15/100\n",
      " - 0s - loss: 2.2689 - acc: 0.1410 - val_loss: 2.2647 - val_acc: 0.1630\n",
      "Epoch 16/100\n",
      " - 0s - loss: 2.2647 - acc: 0.1454 - val_loss: 2.2611 - val_acc: 0.1630\n",
      "Epoch 17/100\n",
      " - 0s - loss: 2.2606 - acc: 0.1476 - val_loss: 2.2576 - val_acc: 0.1670\n",
      "Epoch 18/100\n",
      " - 0s - loss: 2.2567 - acc: 0.1524 - val_loss: 2.2544 - val_acc: 0.1680\n",
      "Epoch 19/100\n",
      " - 0s - loss: 2.2528 - acc: 0.1542 - val_loss: 2.2512 - val_acc: 0.1720\n",
      "Epoch 20/100\n",
      " - 0s - loss: 2.2490 - acc: 0.1584 - val_loss: 2.2482 - val_acc: 0.1720\n",
      "Epoch 21/100\n",
      " - 0s - loss: 2.2453 - acc: 0.1612 - val_loss: 2.2452 - val_acc: 0.1730\n",
      "Epoch 22/100\n",
      " - 0s - loss: 2.2417 - acc: 0.1636 - val_loss: 2.2424 - val_acc: 0.1710\n",
      "Epoch 23/100\n",
      " - 0s - loss: 2.2381 - acc: 0.1628 - val_loss: 2.2395 - val_acc: 0.1700\n",
      "Epoch 24/100\n",
      " - 0s - loss: 2.2347 - acc: 0.1656 - val_loss: 2.2368 - val_acc: 0.1730\n",
      "Epoch 25/100\n",
      " - 0s - loss: 2.2313 - acc: 0.1656 - val_loss: 2.2341 - val_acc: 0.1770\n",
      "Epoch 26/100\n",
      " - 0s - loss: 2.2280 - acc: 0.1684 - val_loss: 2.2315 - val_acc: 0.1770\n",
      "Epoch 27/100\n",
      " - 0s - loss: 2.2249 - acc: 0.1690 - val_loss: 2.2288 - val_acc: 0.1790\n",
      "Epoch 28/100\n",
      " - 0s - loss: 2.2219 - acc: 0.1726 - val_loss: 2.2262 - val_acc: 0.1790\n",
      "Epoch 29/100\n",
      " - 0s - loss: 2.2189 - acc: 0.1756 - val_loss: 2.2236 - val_acc: 0.1820\n",
      "Epoch 30/100\n",
      " - 0s - loss: 2.2160 - acc: 0.1774 - val_loss: 2.2211 - val_acc: 0.1840\n",
      "Epoch 31/100\n",
      " - 0s - loss: 2.2131 - acc: 0.1778 - val_loss: 2.2186 - val_acc: 0.1860\n",
      "Epoch 32/100\n",
      " - 0s - loss: 2.2103 - acc: 0.1832 - val_loss: 2.2160 - val_acc: 0.1920\n",
      "Epoch 33/100\n",
      " - 0s - loss: 2.2076 - acc: 0.1850 - val_loss: 2.2137 - val_acc: 0.1930\n",
      "Epoch 34/100\n",
      " - 0s - loss: 2.2049 - acc: 0.1864 - val_loss: 2.2114 - val_acc: 0.1980\n",
      "Epoch 35/100\n",
      " - 0s - loss: 2.2022 - acc: 0.1894 - val_loss: 2.2090 - val_acc: 0.1990\n",
      "Epoch 36/100\n",
      " - 0s - loss: 2.1997 - acc: 0.1908 - val_loss: 2.2069 - val_acc: 0.2020\n",
      "Epoch 37/100\n",
      " - 0s - loss: 2.1971 - acc: 0.1918 - val_loss: 2.2047 - val_acc: 0.2010\n",
      "Epoch 38/100\n",
      " - 0s - loss: 2.1946 - acc: 0.1930 - val_loss: 2.2025 - val_acc: 0.1970\n",
      "Epoch 39/100\n",
      " - 0s - loss: 2.1922 - acc: 0.1944 - val_loss: 2.2005 - val_acc: 0.1990\n",
      "Epoch 40/100\n",
      " - 0s - loss: 2.1898 - acc: 0.1956 - val_loss: 2.1984 - val_acc: 0.2010\n",
      "Epoch 41/100\n",
      " - 0s - loss: 2.1874 - acc: 0.1960 - val_loss: 2.1963 - val_acc: 0.2020\n",
      "Epoch 42/100\n",
      " - 0s - loss: 2.1852 - acc: 0.1980 - val_loss: 2.1943 - val_acc: 0.2050\n",
      "Epoch 43/100\n",
      " - 0s - loss: 2.1828 - acc: 0.1974 - val_loss: 2.1923 - val_acc: 0.2070\n",
      "Epoch 44/100\n",
      " - 0s - loss: 2.1806 - acc: 0.2002 - val_loss: 2.1905 - val_acc: 0.2070\n",
      "Epoch 45/100\n",
      " - 0s - loss: 2.1783 - acc: 0.2018 - val_loss: 2.1886 - val_acc: 0.2110\n",
      "Epoch 46/100\n",
      " - 0s - loss: 2.1762 - acc: 0.2030 - val_loss: 2.1868 - val_acc: 0.2120\n",
      "Epoch 47/100\n",
      " - 0s - loss: 2.1740 - acc: 0.2044 - val_loss: 2.1849 - val_acc: 0.2110\n",
      "Epoch 48/100\n",
      " - 0s - loss: 2.1719 - acc: 0.2044 - val_loss: 2.1831 - val_acc: 0.2110\n",
      "Epoch 49/100\n",
      " - 0s - loss: 2.1699 - acc: 0.2076 - val_loss: 2.1813 - val_acc: 0.2100\n",
      "Epoch 50/100\n",
      " - 0s - loss: 2.1678 - acc: 0.2078 - val_loss: 2.1795 - val_acc: 0.2110\n",
      "Epoch 51/100\n",
      " - 0s - loss: 2.1658 - acc: 0.2088 - val_loss: 2.1778 - val_acc: 0.2080\n",
      "Epoch 52/100\n",
      " - 0s - loss: 2.1638 - acc: 0.2094 - val_loss: 2.1761 - val_acc: 0.2090\n",
      "Epoch 53/100\n",
      " - 0s - loss: 2.1618 - acc: 0.2112 - val_loss: 2.1744 - val_acc: 0.2100\n",
      "Epoch 54/100\n",
      " - 0s - loss: 2.1598 - acc: 0.2122 - val_loss: 2.1726 - val_acc: 0.2120\n",
      "Epoch 55/100\n",
      " - 0s - loss: 2.1579 - acc: 0.2164 - val_loss: 2.1710 - val_acc: 0.2120\n",
      "Epoch 56/100\n",
      " - 0s - loss: 2.1560 - acc: 0.2168 - val_loss: 2.1694 - val_acc: 0.2130\n",
      "Epoch 57/100\n",
      " - 0s - loss: 2.1542 - acc: 0.2176 - val_loss: 2.1679 - val_acc: 0.2120\n",
      "Epoch 58/100\n",
      " - 0s - loss: 2.1523 - acc: 0.2198 - val_loss: 2.1662 - val_acc: 0.2120\n",
      "Epoch 59/100\n",
      " - 0s - loss: 2.1505 - acc: 0.2198 - val_loss: 2.1647 - val_acc: 0.2120\n",
      "Epoch 60/100\n",
      " - 0s - loss: 2.1487 - acc: 0.2222 - val_loss: 2.1631 - val_acc: 0.2110\n",
      "Epoch 61/100\n",
      " - 0s - loss: 2.1469 - acc: 0.2216 - val_loss: 2.1615 - val_acc: 0.2110\n",
      "Epoch 62/100\n",
      " - 0s - loss: 2.1452 - acc: 0.2228 - val_loss: 2.1600 - val_acc: 0.2160\n",
      "Epoch 63/100\n",
      " - 0s - loss: 2.1434 - acc: 0.2242 - val_loss: 2.1584 - val_acc: 0.2160\n",
      "Epoch 64/100\n",
      " - 0s - loss: 2.1417 - acc: 0.2256 - val_loss: 2.1569 - val_acc: 0.2150\n",
      "Epoch 65/100\n",
      " - 0s - loss: 2.1400 - acc: 0.2252 - val_loss: 2.1554 - val_acc: 0.2160\n",
      "Epoch 66/100\n",
      " - 0s - loss: 2.1383 - acc: 0.2280 - val_loss: 2.1540 - val_acc: 0.2150\n",
      "Epoch 67/100\n",
      " - 0s - loss: 2.1365 - acc: 0.2270 - val_loss: 2.1525 - val_acc: 0.2130\n",
      "Epoch 68/100\n",
      " - 0s - loss: 2.1349 - acc: 0.2292 - val_loss: 2.1511 - val_acc: 0.2130\n",
      "Epoch 69/100\n",
      " - 0s - loss: 2.1332 - acc: 0.2284 - val_loss: 2.1497 - val_acc: 0.2140\n",
      "Epoch 70/100\n",
      " - 0s - loss: 2.1316 - acc: 0.2300 - val_loss: 2.1483 - val_acc: 0.2150\n",
      "Epoch 71/100\n",
      " - 0s - loss: 2.1299 - acc: 0.2310 - val_loss: 2.1469 - val_acc: 0.2140\n",
      "Epoch 72/100\n",
      " - 0s - loss: 2.1283 - acc: 0.2322 - val_loss: 2.1455 - val_acc: 0.2120\n",
      "Epoch 73/100\n",
      " - 0s - loss: 2.1267 - acc: 0.2328 - val_loss: 2.1442 - val_acc: 0.2150\n",
      "Epoch 74/100\n",
      " - 0s - loss: 2.1252 - acc: 0.2340 - val_loss: 2.1428 - val_acc: 0.2170\n",
      "Epoch 75/100\n",
      " - 0s - loss: 2.1235 - acc: 0.2336 - val_loss: 2.1415 - val_acc: 0.2180\n",
      "Epoch 76/100\n",
      " - 0s - loss: 2.1220 - acc: 0.2332 - val_loss: 2.1402 - val_acc: 0.2190\n",
      "Epoch 77/100\n",
      " - 0s - loss: 2.1204 - acc: 0.2346 - val_loss: 2.1389 - val_acc: 0.2190\n",
      "Epoch 78/100\n",
      " - 0s - loss: 2.1188 - acc: 0.2376 - val_loss: 2.1376 - val_acc: 0.2180\n",
      "Epoch 79/100\n",
      " - 0s - loss: 2.1172 - acc: 0.2362 - val_loss: 2.1363 - val_acc: 0.2180\n",
      "Epoch 80/100\n",
      " - 0s - loss: 2.1157 - acc: 0.2362 - val_loss: 2.1350 - val_acc: 0.2210\n",
      "Epoch 81/100\n",
      " - 0s - loss: 2.1141 - acc: 0.2374 - val_loss: 2.1337 - val_acc: 0.2220\n",
      "Epoch 82/100\n",
      " - 0s - loss: 2.1126 - acc: 0.2384 - val_loss: 2.1324 - val_acc: 0.2200\n",
      "Epoch 83/100\n",
      " - 0s - loss: 2.1111 - acc: 0.2388 - val_loss: 2.1311 - val_acc: 0.2220\n",
      "Epoch 84/100\n",
      " - 0s - loss: 2.1097 - acc: 0.2404 - val_loss: 2.1298 - val_acc: 0.2210\n",
      "Epoch 85/100\n",
      " - 1s - loss: 2.1081 - acc: 0.2406 - val_loss: 2.1285 - val_acc: 0.2210\n",
      "Epoch 86/100\n",
      " - 0s - loss: 2.1067 - acc: 0.2404 - val_loss: 2.1272 - val_acc: 0.2200\n",
      "Epoch 87/100\n",
      " - 0s - loss: 2.1053 - acc: 0.2418 - val_loss: 2.1260 - val_acc: 0.2230\n",
      "Epoch 88/100\n",
      " - 0s - loss: 2.1038 - acc: 0.2424 - val_loss: 2.1247 - val_acc: 0.2210\n",
      "Epoch 89/100\n",
      " - 0s - loss: 2.1025 - acc: 0.2424 - val_loss: 2.1235 - val_acc: 0.2220\n",
      "Epoch 90/100\n",
      " - 0s - loss: 2.1010 - acc: 0.2444 - val_loss: 2.1223 - val_acc: 0.2230\n",
      "Epoch 91/100\n",
      " - 0s - loss: 2.0996 - acc: 0.2456 - val_loss: 2.1210 - val_acc: 0.2240\n",
      "Epoch 92/100\n",
      " - 0s - loss: 2.0983 - acc: 0.2456 - val_loss: 2.1199 - val_acc: 0.2220\n",
      "Epoch 93/100\n",
      " - 0s - loss: 2.0969 - acc: 0.2468 - val_loss: 2.1187 - val_acc: 0.2240\n",
      "Epoch 94/100\n",
      " - 0s - loss: 2.0956 - acc: 0.2490 - val_loss: 2.1175 - val_acc: 0.2270\n",
      "Epoch 95/100\n",
      " - 0s - loss: 2.0942 - acc: 0.2494 - val_loss: 2.1163 - val_acc: 0.2300\n",
      "Epoch 96/100\n",
      " - 0s - loss: 2.0929 - acc: 0.2510 - val_loss: 2.1152 - val_acc: 0.2330\n"
     ]
    },
    {
     "name": "stdout",
     "output_type": "stream",
     "text": [
      "Epoch 97/100\n",
      " - 0s - loss: 2.0916 - acc: 0.2506 - val_loss: 2.1140 - val_acc: 0.2330\n",
      "Epoch 98/100\n",
      " - 0s - loss: 2.0903 - acc: 0.2528 - val_loss: 2.1129 - val_acc: 0.2350\n",
      "Epoch 99/100\n",
      " - 0s - loss: 2.0890 - acc: 0.2544 - val_loss: 2.1118 - val_acc: 0.2360\n",
      "Epoch 100/100\n",
      " - 0s - loss: 2.0877 - acc: 0.2566 - val_loss: 2.1107 - val_acc: 0.2390\n"
     ]
    }
   ],
   "source": [
    "model2.compile(optimizer=SGD(lr=0.0001), loss='categorical_crossentropy', metrics=['acc'])\n",
    "history = model2.fit(keras_train_data, categorical_labels, validation_data=(keras_test_data,categorical_test_labels),\n",
    "                     epochs=100, batch_size=100,\n",
    "                     verbose=2)"
   ]
  },
  {
   "cell_type": "code",
   "execution_count": 41,
   "metadata": {},
   "outputs": [
    {
     "data": {
      "image/png": "[encoded data removed]",
      "text/plain": [
       "<Figure size 432x288 with 1 Axes>"
      ]
     },
     "metadata": {
      "needs_background": "light"
     },
     "output_type": "display_data"
    }
   ],
   "source": [
    "plt.plot(history.history[\"loss\"], label=\"train loss\")\n",
    "plt.plot(history.history[\"val_loss\"], label=\"val loss\")\n",
    "plt.legend()\n",
    "plt.title(\"Loss\")\n",
    "plt.show()"
   ]
  },
  {
   "cell_type": "markdown",
   "metadata": {},
   "source": [
    "### Model Development\n",
    " 1) Hidden Layer 노드 개수가 비 정상적 <span style=\"color:red\">( 과제의 주제와 조금 떨어져 있으므로 마지막에 진행 ) </span>   \n",
    " 2) 가중치 초기화 과정 X  \n",
    " 3) Batch Normalization 과정 X  \n",
    " 4) 층이 너무 얕음   <span style=\"color:red\">( 과제의 주제와 조금 떨어져 있으므로 마지막에 진행 ) </span>   \n",
    " 5) epoch 더 올려도 충분히 loss가 감소할 듯  \n",
    " 6) dropout  \n",
    " 7) optimizer 변경"
   ]
  },
  {
   "cell_type": "code",
   "execution_count": 42,
   "metadata": {},
   "outputs": [
    {
     "name": "stdout",
     "output_type": "stream",
     "text": [
      "_________________________________________________________________\n",
      "Layer (type)                 Output Shape              Param #   \n",
      "=================================================================\n",
      "dense_6 (Dense)              (None, 50)                153650    \n",
      "_________________________________________________________________\n",
      "batch_normalization_1 (Batch (None, 50)                200       \n",
      "_________________________________________________________________\n",
      "activation_1 (Activation)    (None, 50)                0         \n",
      "_________________________________________________________________\n",
      "dense_7 (Dense)              (None, 10)                510       \n",
      "_________________________________________________________________\n",
      "batch_normalization_2 (Batch (None, 10)                40        \n",
      "_________________________________________________________________\n",
      "activation_2 (Activation)    (None, 10)                0         \n",
      "=================================================================\n",
      "Total params: 154,400\n",
      "Trainable params: 154,280\n",
      "Non-trainable params: 120\n",
      "_________________________________________________________________\n"
     ]
    }
   ],
   "source": [
    "# 가중치 초기화 + Batch Normalization \n",
    "from keras.layers import BatchNormalization\n",
    "from keras.layers import Activation, Dense\n",
    "model3 = models.Sequential()\n",
    "\n",
    "model3.add(Dense(50, input_shape=(3072,), kernel_initializer = initializers.RandomNormal(mean=0.0, stddev=0.1, seed=None)))\n",
    "model3.add(BatchNormalization()) \n",
    "model3.add(Activation('relu')) \n",
    "model3.add(Dense(10, kernel_initializer = initializers.RandomNormal(mean=0.0, stddev=0.1, seed=None)))\n",
    "model3.add(BatchNormalization()) \n",
    "model3.add(Activation('softmax'))\n",
    "\n",
    "\n",
    "model3.summary()"
   ]
  },
  {
   "cell_type": "code",
   "execution_count": 43,
   "metadata": {},
   "outputs": [
    {
     "name": "stdout",
     "output_type": "stream",
     "text": [
      "Train on 5000 samples, validate on 1000 samples\n",
      "Epoch 1/100\n",
      " - 1s - loss: 2.4934 - acc: 0.1508 - val_loss: 2.8276 - val_acc: 0.1620\n",
      "Epoch 2/100\n",
      " - 0s - loss: 2.1868 - acc: 0.2222 - val_loss: 2.2421 - val_acc: 0.2240\n",
      "Epoch 3/100\n",
      " - 0s - loss: 2.0604 - acc: 0.2732 - val_loss: 2.1147 - val_acc: 0.2380\n",
      "Epoch 4/100\n",
      " - 0s - loss: 1.9936 - acc: 0.2942 - val_loss: 2.0693 - val_acc: 0.2660\n",
      "Epoch 5/100\n",
      " - 0s - loss: 1.9351 - acc: 0.3180 - val_loss: 2.0036 - val_acc: 0.2780\n",
      "Epoch 6/100\n",
      " - 1s - loss: 1.8965 - acc: 0.3282 - val_loss: 1.9618 - val_acc: 0.2830\n",
      "Epoch 7/100\n",
      " - 1s - loss: 1.8612 - acc: 0.3456 - val_loss: 1.9381 - val_acc: 0.3030\n",
      "Epoch 8/100\n",
      " - 1s - loss: 1.8327 - acc: 0.3542 - val_loss: 1.9208 - val_acc: 0.3110\n",
      "Epoch 9/100\n",
      " - 1s - loss: 1.8079 - acc: 0.3676 - val_loss: 1.8996 - val_acc: 0.3230\n",
      "Epoch 10/100\n",
      " - 1s - loss: 1.7817 - acc: 0.3742 - val_loss: 1.8847 - val_acc: 0.3180\n",
      "Epoch 11/100\n",
      " - 1s - loss: 1.7618 - acc: 0.3838 - val_loss: 1.8780 - val_acc: 0.3120\n",
      "Epoch 12/100\n",
      " - 0s - loss: 1.7385 - acc: 0.3930 - val_loss: 1.8662 - val_acc: 0.3280\n",
      "Epoch 13/100\n",
      " - 0s - loss: 1.7218 - acc: 0.4050 - val_loss: 1.8558 - val_acc: 0.3280\n",
      "Epoch 14/100\n",
      " - 0s - loss: 1.7033 - acc: 0.4062 - val_loss: 1.8455 - val_acc: 0.3330\n",
      "Epoch 15/100\n",
      " - 0s - loss: 1.6897 - acc: 0.4168 - val_loss: 1.8474 - val_acc: 0.3290\n",
      "Epoch 16/100\n",
      " - 0s - loss: 1.6718 - acc: 0.4216 - val_loss: 1.8335 - val_acc: 0.3330\n",
      "Epoch 17/100\n",
      " - 0s - loss: 1.6550 - acc: 0.4338 - val_loss: 1.8322 - val_acc: 0.3360\n",
      "Epoch 18/100\n",
      " - 0s - loss: 1.6431 - acc: 0.4400 - val_loss: 1.8227 - val_acc: 0.3440\n",
      "Epoch 19/100\n",
      " - 0s - loss: 1.6236 - acc: 0.4464 - val_loss: 1.8189 - val_acc: 0.3450\n",
      "Epoch 20/100\n",
      " - 1s - loss: 1.6157 - acc: 0.4522 - val_loss: 1.8164 - val_acc: 0.3510\n",
      "Epoch 21/100\n",
      " - 1s - loss: 1.5950 - acc: 0.4594 - val_loss: 1.8142 - val_acc: 0.3530\n",
      "Epoch 22/100\n",
      " - 1s - loss: 1.5819 - acc: 0.4686 - val_loss: 1.8091 - val_acc: 0.3520\n",
      "Epoch 23/100\n",
      " - 1s - loss: 1.5724 - acc: 0.4714 - val_loss: 1.8136 - val_acc: 0.3430\n",
      "Epoch 24/100\n",
      " - 1s - loss: 1.5613 - acc: 0.4742 - val_loss: 1.8109 - val_acc: 0.3590\n",
      "Epoch 25/100\n",
      " - 1s - loss: 1.5484 - acc: 0.4796 - val_loss: 1.8040 - val_acc: 0.3590\n",
      "Epoch 26/100\n",
      " - 0s - loss: 1.5344 - acc: 0.4948 - val_loss: 1.8136 - val_acc: 0.3500\n",
      "Epoch 27/100\n",
      " - 0s - loss: 1.5255 - acc: 0.4954 - val_loss: 1.8220 - val_acc: 0.3560\n",
      "Epoch 28/100\n",
      " - 0s - loss: 1.5128 - acc: 0.4998 - val_loss: 1.7943 - val_acc: 0.3680\n",
      "Epoch 29/100\n",
      " - 1s - loss: 1.4993 - acc: 0.5058 - val_loss: 1.8111 - val_acc: 0.3580\n",
      "Epoch 30/100\n",
      " - 1s - loss: 1.4859 - acc: 0.5112 - val_loss: 1.7915 - val_acc: 0.3690\n",
      "Epoch 31/100\n",
      " - 1s - loss: 1.4748 - acc: 0.5218 - val_loss: 1.8031 - val_acc: 0.3510\n",
      "Epoch 32/100\n",
      " - 1s - loss: 1.4663 - acc: 0.5218 - val_loss: 1.7930 - val_acc: 0.3650\n",
      "Epoch 33/100\n",
      " - 1s - loss: 1.4589 - acc: 0.5272 - val_loss: 1.8020 - val_acc: 0.3780\n",
      "Epoch 34/100\n",
      " - 0s - loss: 1.4464 - acc: 0.5402 - val_loss: 1.7983 - val_acc: 0.3640\n",
      "Epoch 35/100\n",
      " - 0s - loss: 1.4275 - acc: 0.5418 - val_loss: 1.7910 - val_acc: 0.3700\n",
      "Epoch 36/100\n",
      " - 0s - loss: 1.4273 - acc: 0.5444 - val_loss: 1.7981 - val_acc: 0.3730\n",
      "Epoch 37/100\n",
      " - 0s - loss: 1.4161 - acc: 0.5480 - val_loss: 1.7897 - val_acc: 0.3660\n",
      "Epoch 38/100\n",
      " - 1s - loss: 1.4053 - acc: 0.5554 - val_loss: 1.8016 - val_acc: 0.3680\n",
      "Epoch 39/100\n",
      " - 1s - loss: 1.3939 - acc: 0.5546 - val_loss: 1.7951 - val_acc: 0.3810\n",
      "Epoch 40/100\n",
      " - 1s - loss: 1.3816 - acc: 0.5668 - val_loss: 1.8134 - val_acc: 0.3650\n",
      "Epoch 41/100\n",
      " - 1s - loss: 1.3708 - acc: 0.5700 - val_loss: 1.8085 - val_acc: 0.3800\n",
      "Epoch 42/100\n",
      " - 1s - loss: 1.3648 - acc: 0.5706 - val_loss: 1.8010 - val_acc: 0.3750\n",
      "Epoch 43/100\n",
      " - 0s - loss: 1.3567 - acc: 0.5794 - val_loss: 1.8078 - val_acc: 0.3750\n",
      "Epoch 44/100\n",
      " - 0s - loss: 1.3487 - acc: 0.5822 - val_loss: 1.8022 - val_acc: 0.3790\n",
      "Epoch 45/100\n",
      " - 0s - loss: 1.3381 - acc: 0.5816 - val_loss: 1.8001 - val_acc: 0.3890\n",
      "Epoch 46/100\n",
      " - 0s - loss: 1.3244 - acc: 0.5888 - val_loss: 1.7990 - val_acc: 0.3780\n",
      "Epoch 47/100\n",
      " - 1s - loss: 1.3179 - acc: 0.5972 - val_loss: 1.7988 - val_acc: 0.3750\n",
      "Epoch 48/100\n",
      " - 1s - loss: 1.3136 - acc: 0.5902 - val_loss: 1.8078 - val_acc: 0.3650\n",
      "Epoch 49/100\n",
      " - 1s - loss: 1.3022 - acc: 0.6040 - val_loss: 1.8104 - val_acc: 0.3660\n",
      "Epoch 50/100\n",
      " - 1s - loss: 1.2898 - acc: 0.6058 - val_loss: 1.8069 - val_acc: 0.3690\n",
      "Epoch 51/100\n",
      " - 1s - loss: 1.2799 - acc: 0.6142 - val_loss: 1.8161 - val_acc: 0.3630\n",
      "Epoch 52/100\n",
      " - 0s - loss: 1.2723 - acc: 0.6158 - val_loss: 1.8106 - val_acc: 0.3750\n",
      "Epoch 53/100\n",
      " - 0s - loss: 1.2703 - acc: 0.6148 - val_loss: 1.8279 - val_acc: 0.3720\n",
      "Epoch 54/100\n",
      " - 0s - loss: 1.2562 - acc: 0.6220 - val_loss: 1.8360 - val_acc: 0.3670\n",
      "Epoch 55/100\n",
      " - 0s - loss: 1.2457 - acc: 0.6292 - val_loss: 1.8272 - val_acc: 0.3710\n",
      "Epoch 56/100\n",
      " - 0s - loss: 1.2367 - acc: 0.6320 - val_loss: 1.8167 - val_acc: 0.3640\n",
      "Epoch 57/100\n",
      " - 0s - loss: 1.2304 - acc: 0.6424 - val_loss: 1.8368 - val_acc: 0.3610\n",
      "Epoch 58/100\n",
      " - 0s - loss: 1.2246 - acc: 0.6370 - val_loss: 1.8070 - val_acc: 0.3730\n",
      "Epoch 59/100\n",
      " - 0s - loss: 1.2166 - acc: 0.6386 - val_loss: 1.8032 - val_acc: 0.3770\n",
      "Epoch 60/100\n",
      " - 1s - loss: 1.2106 - acc: 0.6502 - val_loss: 1.8285 - val_acc: 0.3640\n",
      "Epoch 61/100\n",
      " - 1s - loss: 1.2027 - acc: 0.6506 - val_loss: 1.8163 - val_acc: 0.3740\n",
      "Epoch 62/100\n",
      " - 1s - loss: 1.1978 - acc: 0.6532 - val_loss: 1.8444 - val_acc: 0.3640\n",
      "Epoch 63/100\n",
      " - 1s - loss: 1.1821 - acc: 0.6564 - val_loss: 1.8185 - val_acc: 0.3560\n",
      "Epoch 64/100\n",
      " - 1s - loss: 1.1746 - acc: 0.6704 - val_loss: 1.8295 - val_acc: 0.3760\n",
      "Epoch 65/100\n",
      " - 0s - loss: 1.1630 - acc: 0.6686 - val_loss: 1.8176 - val_acc: 0.3790\n",
      "Epoch 66/100\n",
      " - 0s - loss: 1.1559 - acc: 0.6766 - val_loss: 1.8283 - val_acc: 0.3680\n",
      "Epoch 67/100\n",
      " - 0s - loss: 1.1485 - acc: 0.6816 - val_loss: 1.8380 - val_acc: 0.3700\n",
      "Epoch 68/100\n",
      " - 0s - loss: 1.1453 - acc: 0.6810 - val_loss: 1.8466 - val_acc: 0.3500\n",
      "Epoch 69/100\n",
      " - 0s - loss: 1.1324 - acc: 0.6902 - val_loss: 1.8369 - val_acc: 0.3590\n",
      "Epoch 70/100\n",
      " - 0s - loss: 1.1248 - acc: 0.6860 - val_loss: 1.8643 - val_acc: 0.3520\n",
      "Epoch 71/100\n",
      " - 0s - loss: 1.1195 - acc: 0.6900 - val_loss: 1.8636 - val_acc: 0.3540\n",
      "Epoch 72/100\n",
      " - 0s - loss: 1.1099 - acc: 0.6948 - val_loss: 1.8415 - val_acc: 0.3550\n",
      "Epoch 73/100\n",
      " - 1s - loss: 1.1040 - acc: 0.6948 - val_loss: 1.8424 - val_acc: 0.3660\n",
      "Epoch 74/100\n",
      " - 1s - loss: 1.0950 - acc: 0.7018 - val_loss: 1.8385 - val_acc: 0.3680\n",
      "Epoch 75/100\n",
      " - 1s - loss: 1.0889 - acc: 0.7062 - val_loss: 1.8424 - val_acc: 0.3630\n",
      "Epoch 76/100\n",
      " - 1s - loss: 1.0841 - acc: 0.7052 - val_loss: 1.8538 - val_acc: 0.3540\n",
      "Epoch 77/100\n",
      " - 1s - loss: 1.0727 - acc: 0.7170 - val_loss: 1.8426 - val_acc: 0.3830\n",
      "Epoch 78/100\n",
      " - 0s - loss: 1.0619 - acc: 0.7210 - val_loss: 1.8466 - val_acc: 0.3650\n",
      "Epoch 79/100\n",
      " - 0s - loss: 1.0563 - acc: 0.7140 - val_loss: 1.8650 - val_acc: 0.3670\n",
      "Epoch 80/100\n",
      " - 0s - loss: 1.0510 - acc: 0.7236 - val_loss: 1.8619 - val_acc: 0.3640\n",
      "Epoch 81/100\n",
      " - 0s - loss: 1.0381 - acc: 0.7308 - val_loss: 1.8631 - val_acc: 0.3670\n",
      "Epoch 82/100\n",
      " - 0s - loss: 1.0394 - acc: 0.7306 - val_loss: 1.8785 - val_acc: 0.3540\n",
      "Epoch 83/100\n",
      " - 0s - loss: 1.0288 - acc: 0.7366 - val_loss: 1.8715 - val_acc: 0.3740\n",
      "Epoch 84/100\n",
      " - 0s - loss: 1.0281 - acc: 0.7336 - val_loss: 1.8566 - val_acc: 0.3650\n",
      "Epoch 85/100\n",
      " - 0s - loss: 1.0173 - acc: 0.7362 - val_loss: 1.8743 - val_acc: 0.3640\n",
      "Epoch 86/100\n",
      " - 1s - loss: 1.0054 - acc: 0.7440 - val_loss: 1.8915 - val_acc: 0.3610\n",
      "Epoch 87/100\n",
      " - 1s - loss: 1.0083 - acc: 0.7448 - val_loss: 1.8779 - val_acc: 0.3610\n",
      "Epoch 88/100\n",
      " - 1s - loss: 0.9941 - acc: 0.7512 - val_loss: 1.8693 - val_acc: 0.3640\n",
      "Epoch 89/100\n",
      " - 1s - loss: 0.9865 - acc: 0.7530 - val_loss: 1.8726 - val_acc: 0.3650\n",
      "Epoch 90/100\n",
      " - 1s - loss: 0.9884 - acc: 0.7524 - val_loss: 1.8901 - val_acc: 0.3560\n",
      "Epoch 91/100\n",
      " - 1s - loss: 0.9712 - acc: 0.7616 - val_loss: 1.8970 - val_acc: 0.3590\n",
      "Epoch 92/100\n",
      " - 0s - loss: 0.9718 - acc: 0.7564 - val_loss: 1.8970 - val_acc: 0.3550\n",
      "Epoch 93/100\n",
      " - 0s - loss: 0.9639 - acc: 0.7636 - val_loss: 1.9049 - val_acc: 0.3460\n",
      "Epoch 94/100\n",
      " - 0s - loss: 0.9516 - acc: 0.7722 - val_loss: 1.8803 - val_acc: 0.3770\n",
      "Epoch 95/100\n",
      " - 0s - loss: 0.9440 - acc: 0.7744 - val_loss: 1.8981 - val_acc: 0.3560\n",
      "Epoch 96/100\n",
      " - 0s - loss: 0.9500 - acc: 0.7662 - val_loss: 1.9199 - val_acc: 0.3570\n"
     ]
    },
    {
     "name": "stdout",
     "output_type": "stream",
     "text": [
      "Epoch 97/100\n",
      " - 0s - loss: 0.9369 - acc: 0.7690 - val_loss: 1.9024 - val_acc: 0.3610\n",
      "Epoch 98/100\n",
      " - 0s - loss: 0.9285 - acc: 0.7808 - val_loss: 1.8987 - val_acc: 0.3640\n",
      "Epoch 99/100\n",
      " - 1s - loss: 0.9214 - acc: 0.7802 - val_loss: 1.9330 - val_acc: 0.3540\n",
      "Epoch 100/100\n",
      " - 1s - loss: 0.9114 - acc: 0.7888 - val_loss: 1.8996 - val_acc: 0.3630\n"
     ]
    }
   ],
   "source": [
    "# optimizer Adam 사용\n",
    "model3.compile(optimizer=Adam(lr=0.0001), loss='categorical_crossentropy', metrics=['acc'])\n",
    "history = model3.fit(keras_train_data, categorical_labels, validation_data=(keras_test_data,categorical_test_labels),\n",
    "                     epochs=100, batch_size=100,\n",
    "                     verbose=2)"
   ]
  },
  {
   "cell_type": "code",
   "execution_count": 44,
   "metadata": {},
   "outputs": [
    {
     "data": {
      "image/png": "[encoded data removed]",
      "text/plain": [
       "<Figure size 432x288 with 1 Axes>"
      ]
     },
     "metadata": {
      "needs_background": "light"
     },
     "output_type": "display_data"
    }
   ],
   "source": [
    "plt.plot(history.history[\"loss\"], label=\"train loss\")\n",
    "plt.plot(history.history[\"val_loss\"], label=\"val loss\")\n",
    "plt.legend()\n",
    "plt.title(\"Loss\")\n",
    "plt.show()"
   ]
  },
  {
   "cell_type": "markdown",
   "metadata": {},
   "source": [
    "####  Overfitting -> 규제추가"
   ]
  },
  {
   "cell_type": "code",
   "execution_count": 121,
   "metadata": {},
   "outputs": [
    {
     "name": "stdout",
     "output_type": "stream",
     "text": [
      "_________________________________________________________________\n",
      "Layer (type)                 Output Shape              Param #   \n",
      "=================================================================\n",
      "dense_96 (Dense)             (None, 50)                153650    \n",
      "_________________________________________________________________\n",
      "batch_normalization_90 (Batc (None, 50)                200       \n",
      "_________________________________________________________________\n",
      "activation_53 (Activation)   (None, 50)                0         \n",
      "_________________________________________________________________\n",
      "dense_97 (Dense)             (None, 10)                510       \n",
      "_________________________________________________________________\n",
      "batch_normalization_91 (Batc (None, 10)                40        \n",
      "_________________________________________________________________\n",
      "activation_54 (Activation)   (None, 10)                0         \n",
      "=================================================================\n",
      "Total params: 154,400\n",
      "Trainable params: 154,280\n",
      "Non-trainable params: 120\n",
      "_________________________________________________________________\n"
     ]
    }
   ],
   "source": [
    "# 가중치 초기화 + Batch Normalization + 규제 + Dropout\n",
    "from keras.layers import BatchNormalization\n",
    "from keras.layers import Activation, Dense\n",
    "model3 = models.Sequential()\n",
    "\n",
    "model3.add(Dense(50, input_shape=(3072,), kernel_initializer = 'he_normal',\n",
    "                kernel_constraint=max_norm(2.)))\n",
    "model3.add(BatchNormalization()) \n",
    "model3.add(Activation('relu')) \n",
    "model3.add(Dropout(0.4))\n",
    "\n",
    "model3.add(Dense(10, kernel_initializer = 'he_normal',\n",
    "                kernel_constraint=max_norm(2.)))\n",
    "model3.add(BatchNormalization()) \n",
    "model3.add(Activation('softmax'))\n",
    "\n",
    "\n",
    "model3.summary()"
   ]
  },
  {
   "cell_type": "code",
   "execution_count": 122,
   "metadata": {},
   "outputs": [
    {
     "name": "stdout",
     "output_type": "stream",
     "text": [
      "Train on 5000 samples, validate on 1000 samples\n",
      "Epoch 1/100\n",
      " - 10s - loss: 2.2769 - acc: 0.2004 - val_loss: 2.3903 - val_acc: 0.2010\n",
      "Epoch 2/100\n",
      " - 1s - loss: 1.9458 - acc: 0.3172 - val_loss: 2.1329 - val_acc: 0.2650\n",
      "Epoch 3/100\n",
      " - 1s - loss: 1.8390 - acc: 0.3532 - val_loss: 1.9833 - val_acc: 0.3210\n",
      "Epoch 4/100\n",
      " - 1s - loss: 1.7677 - acc: 0.3816 - val_loss: 1.9908 - val_acc: 0.3000\n",
      "Epoch 5/100\n",
      " - 1s - loss: 1.7115 - acc: 0.4090 - val_loss: 1.9226 - val_acc: 0.3230\n",
      "Epoch 6/100\n",
      " - 1s - loss: 1.6645 - acc: 0.4332 - val_loss: 1.9227 - val_acc: 0.3150\n",
      "Epoch 7/100\n",
      " - 1s - loss: 1.6270 - acc: 0.4486 - val_loss: 1.9041 - val_acc: 0.3160\n",
      "Epoch 8/100\n",
      " - 1s - loss: 1.5934 - acc: 0.4576 - val_loss: 1.8976 - val_acc: 0.3220\n",
      "Epoch 9/100\n",
      " - 1s - loss: 1.5624 - acc: 0.4804 - val_loss: 1.9281 - val_acc: 0.3150\n",
      "Epoch 10/100\n",
      " - 1s - loss: 1.5312 - acc: 0.4926 - val_loss: 1.8777 - val_acc: 0.3540\n",
      "Epoch 11/100\n",
      " - 1s - loss: 1.5059 - acc: 0.5126 - val_loss: 1.8788 - val_acc: 0.3270\n",
      "Epoch 12/100\n",
      " - 1s - loss: 1.4808 - acc: 0.5214 - val_loss: 1.9070 - val_acc: 0.3430\n",
      "Epoch 13/100\n",
      " - 1s - loss: 1.4447 - acc: 0.5506 - val_loss: 1.8951 - val_acc: 0.3380\n",
      "Epoch 14/100\n",
      " - 1s - loss: 1.4211 - acc: 0.5614 - val_loss: 1.9789 - val_acc: 0.3160\n",
      "Epoch 15/100\n",
      " - 1s - loss: 1.4004 - acc: 0.5714 - val_loss: 1.8880 - val_acc: 0.3270\n",
      "Epoch 16/100\n",
      " - 1s - loss: 1.3794 - acc: 0.5828 - val_loss: 1.8726 - val_acc: 0.3470\n",
      "Epoch 17/100\n",
      " - 1s - loss: 1.3589 - acc: 0.5926 - val_loss: 1.8639 - val_acc: 0.3500\n",
      "Epoch 18/100\n",
      " - 1s - loss: 1.3297 - acc: 0.6118 - val_loss: 1.9110 - val_acc: 0.3420\n",
      "Epoch 19/100\n",
      " - 1s - loss: 1.3171 - acc: 0.6178 - val_loss: 1.9760 - val_acc: 0.3210\n",
      "Epoch 20/100\n",
      " - 1s - loss: 1.2959 - acc: 0.6276 - val_loss: 1.8758 - val_acc: 0.3620\n",
      "Epoch 21/100\n",
      " - 1s - loss: 1.2749 - acc: 0.6350 - val_loss: 1.8936 - val_acc: 0.3460\n",
      "Epoch 22/100\n",
      " - 1s - loss: 1.2515 - acc: 0.6510 - val_loss: 1.9059 - val_acc: 0.3440\n",
      "Epoch 23/100\n",
      " - 1s - loss: 1.2336 - acc: 0.6642 - val_loss: 1.9212 - val_acc: 0.3200\n",
      "Epoch 24/100\n",
      " - 1s - loss: 1.2140 - acc: 0.6730 - val_loss: 1.9195 - val_acc: 0.3250\n",
      "Epoch 25/100\n",
      " - 1s - loss: 1.1959 - acc: 0.6842 - val_loss: 1.9005 - val_acc: 0.3370\n",
      "Epoch 26/100\n",
      " - 1s - loss: 1.1778 - acc: 0.6924 - val_loss: 1.9742 - val_acc: 0.3130\n",
      "Epoch 27/100\n",
      " - 1s - loss: 1.1608 - acc: 0.7008 - val_loss: 1.8882 - val_acc: 0.3520\n"
     ]
    }
   ],
   "source": [
    "from keras.callbacks import EarlyStopping\n",
    "early_stop = EarlyStopping(patience=10)\n",
    "model3.compile(optimizer=Adam(lr=0.0001), loss='categorical_crossentropy', metrics=['acc'])\n",
    "history = model3.fit(keras_train_data, categorical_labels, validation_data=(keras_test_data,categorical_test_labels),\n",
    "                     epochs=100, batch_size=100,callbacks=[early_stop],\n",
    "                     verbose=2)"
   ]
  },
  {
   "cell_type": "code",
   "execution_count": 123,
   "metadata": {},
   "outputs": [
    {
     "data": {
      "image/png": "[encoded data removed]",
      "text/plain": [
       "<Figure size 432x288 with 1 Axes>"
      ]
     },
     "metadata": {
      "needs_background": "light"
     },
     "output_type": "display_data"
    }
   ],
   "source": [
    "plt.plot(history.history[\"loss\"], label=\"train loss\")\n",
    "plt.plot(history.history[\"val_loss\"], label=\"val loss\")\n",
    "plt.legend()\n",
    "plt.title(\"Loss\")\n",
    "plt.show()"
   ]
  },
  {
   "cell_type": "markdown",
   "metadata": {},
   "source": [
    " 큰 변화 없음, 구조의 한계인듯 -> 층을 다르고 깊게 쌓아보자"
   ]
  },
  {
   "cell_type": "code",
   "execution_count": 124,
   "metadata": {},
   "outputs": [
    {
     "name": "stdout",
     "output_type": "stream",
     "text": [
      "_________________________________________________________________\n",
      "Layer (type)                 Output Shape              Param #   \n",
      "=================================================================\n",
      "dense_98 (Dense)             (None, 128)               393344    \n",
      "_________________________________________________________________\n",
      "batch_normalization_92 (Batc (None, 128)               512       \n",
      "_________________________________________________________________\n",
      "activation_55 (Activation)   (None, 128)               0         \n",
      "_________________________________________________________________\n",
      "dropout_63 (Dropout)         (None, 128)               0         \n",
      "_________________________________________________________________\n",
      "dense_99 (Dense)             (None, 128)               16512     \n",
      "_________________________________________________________________\n",
      "batch_normalization_93 (Batc (None, 128)               512       \n",
      "_________________________________________________________________\n",
      "dropout_64 (Dropout)         (None, 128)               0         \n",
      "_________________________________________________________________\n",
      "dense_100 (Dense)            (None, 128)               16512     \n",
      "_________________________________________________________________\n",
      "batch_normalization_94 (Batc (None, 128)               512       \n",
      "_________________________________________________________________\n",
      "dropout_65 (Dropout)         (None, 128)               0         \n",
      "_________________________________________________________________\n",
      "dense_101 (Dense)            (None, 128)               16512     \n",
      "_________________________________________________________________\n",
      "batch_normalization_95 (Batc (None, 128)               512       \n",
      "_________________________________________________________________\n",
      "dropout_66 (Dropout)         (None, 128)               0         \n",
      "_________________________________________________________________\n",
      "dense_102 (Dense)            (None, 128)               16512     \n",
      "_________________________________________________________________\n",
      "batch_normalization_96 (Batc (None, 128)               512       \n",
      "_________________________________________________________________\n",
      "dropout_67 (Dropout)         (None, 128)               0         \n",
      "_________________________________________________________________\n",
      "dense_103 (Dense)            (None, 10)                1290      \n",
      "_________________________________________________________________\n",
      "batch_normalization_97 (Batc (None, 10)                40        \n",
      "_________________________________________________________________\n",
      "activation_56 (Activation)   (None, 10)                0         \n",
      "=================================================================\n",
      "Total params: 463,282\n",
      "Trainable params: 461,982\n",
      "Non-trainable params: 1,300\n",
      "_________________________________________________________________\n"
     ]
    }
   ],
   "source": [
    "# 가중치 초기화 + Batch Normalization  + 규제\n",
    "from keras.layers import BatchNormalization\n",
    "from keras.layers import Activation, Dense\n",
    "model4 = models.Sequential()\n",
    "\n",
    "model4.add(Dense(128, input_shape=(3072,), kernel_initializer=\"he_normal\",\n",
    "                 kernel_constraint=max_norm(2.)))\n",
    "                 #kernel_regularizer=regularizers.l2(0.01)))\n",
    "model4.add(BatchNormalization()) \n",
    "model4.add(Activation('relu')) \n",
    "model4.add(Dropout(0.2))\n",
    "\n",
    "model4.add(Dense(128, kernel_initializer=\"he_normal\",\n",
    "                 kernel_constraint=max_norm(2.)))\n",
    "#                 kernel_regularizer=regularizers.l2(0.01)))\n",
    "model4.add(BatchNormalization()) \n",
    "model4.add(Dropout(0.2))\n",
    "\n",
    "model4.add(Dense(128, kernel_initializer=\"he_normal\",\n",
    "                 kernel_constraint=max_norm(2.)))\n",
    "#                 kernel_regularizer=regularizers.l2(0.01)))\n",
    "model4.add(BatchNormalization()) \n",
    "model4.add(Dropout(0.2))\n",
    "\n",
    "model4.add(Dense(128, kernel_initializer=\"he_normal\",\n",
    "                 kernel_constraint=max_norm(2.)))\n",
    "#                 kernel_regularizer=regularizers.l2(0.01)))\n",
    "model4.add(BatchNormalization()) \n",
    "model4.add(Dropout(0.2))\n",
    "\n",
    "model4.add(Dense(128, kernel_initializer=\"he_normal\",\n",
    "                 kernel_constraint=max_norm(2.)))\n",
    "       #          kernel_regularizer=regularizers.l2(0.01)))\n",
    "model4.add(BatchNormalization()) \n",
    "model4.add(Dropout(0.2))\n",
    "\n",
    "model4.add(Dense(10, kernel_initializer=\"he_normal\",\n",
    "                 kernel_constraint=max_norm(2.)))\n",
    "        #         kernel_regularizer=regularizers.l2(0.01)))\n",
    "model4.add(BatchNormalization()) \n",
    "model4.add(Activation('softmax'))\n",
    "\n",
    "\n",
    "model4.summary()"
   ]
  },
  {
   "cell_type": "code",
   "execution_count": 125,
   "metadata": {
    "scrolled": false
   },
   "outputs": [
    {
     "name": "stdout",
     "output_type": "stream",
     "text": [
      "Train on 5000 samples, validate on 1000 samples\n",
      "Epoch 1/1000\n",
      " - 11s - loss: 2.3720 - acc: 0.1816 - val_loss: 2.0981 - val_acc: 0.2420\n",
      "Epoch 2/1000\n",
      " - 2s - loss: 2.1293 - acc: 0.2482 - val_loss: 1.9563 - val_acc: 0.3020\n",
      "Epoch 3/1000\n",
      " - 3s - loss: 2.0110 - acc: 0.2832 - val_loss: 1.9235 - val_acc: 0.3110\n",
      "Epoch 4/1000\n",
      " - 2s - loss: 1.9393 - acc: 0.3100 - val_loss: 1.8833 - val_acc: 0.3360\n",
      "Epoch 5/1000\n",
      " - 2s - loss: 1.9193 - acc: 0.3196 - val_loss: 1.8663 - val_acc: 0.3340\n",
      "Epoch 6/1000\n",
      " - 3s - loss: 1.8597 - acc: 0.3350 - val_loss: 1.8381 - val_acc: 0.3410\n",
      "Epoch 7/1000\n",
      " - 2s - loss: 1.8400 - acc: 0.3470 - val_loss: 1.8440 - val_acc: 0.3350\n",
      "Epoch 8/1000\n",
      " - 3s - loss: 1.8188 - acc: 0.3456 - val_loss: 1.8187 - val_acc: 0.3410\n",
      "Epoch 9/1000\n",
      " - 2s - loss: 1.7991 - acc: 0.3688 - val_loss: 1.8079 - val_acc: 0.3730\n",
      "Epoch 10/1000\n",
      " - 2s - loss: 1.7814 - acc: 0.3676 - val_loss: 1.8021 - val_acc: 0.3540\n",
      "Epoch 11/1000\n",
      " - 3s - loss: 1.7578 - acc: 0.3854 - val_loss: 1.7850 - val_acc: 0.3590\n",
      "Epoch 12/1000\n",
      " - 2s - loss: 1.7510 - acc: 0.3834 - val_loss: 1.7796 - val_acc: 0.3820\n",
      "Epoch 13/1000\n",
      " - 2s - loss: 1.7226 - acc: 0.4032 - val_loss: 1.7953 - val_acc: 0.3780\n",
      "Epoch 14/1000\n",
      " - 3s - loss: 1.7081 - acc: 0.4090 - val_loss: 1.7729 - val_acc: 0.3810\n",
      "Epoch 15/1000\n",
      " - 2s - loss: 1.6765 - acc: 0.4180 - val_loss: 1.7723 - val_acc: 0.3840\n",
      "Epoch 16/1000\n",
      " - 3s - loss: 1.6903 - acc: 0.4150 - val_loss: 1.7791 - val_acc: 0.3730\n",
      "Epoch 17/1000\n",
      " - 2s - loss: 1.6695 - acc: 0.4222 - val_loss: 1.7487 - val_acc: 0.3970\n",
      "Epoch 18/1000\n",
      " - 3s - loss: 1.6511 - acc: 0.4356 - val_loss: 1.7571 - val_acc: 0.3950\n",
      "Epoch 19/1000\n",
      " - 2s - loss: 1.6332 - acc: 0.4452 - val_loss: 1.7557 - val_acc: 0.3950\n",
      "Epoch 20/1000\n",
      " - 2s - loss: 1.6255 - acc: 0.4446 - val_loss: 1.7640 - val_acc: 0.3900\n",
      "Epoch 21/1000\n",
      " - 3s - loss: 1.6183 - acc: 0.4394 - val_loss: 1.7285 - val_acc: 0.4070\n",
      "Epoch 22/1000\n",
      " - 2s - loss: 1.6034 - acc: 0.4528 - val_loss: 1.7364 - val_acc: 0.4040\n",
      "Epoch 23/1000\n",
      " - 3s - loss: 1.5911 - acc: 0.4640 - val_loss: 1.7610 - val_acc: 0.3770\n",
      "Epoch 24/1000\n",
      " - 2s - loss: 1.5760 - acc: 0.4598 - val_loss: 1.7571 - val_acc: 0.3810\n",
      "Epoch 25/1000\n",
      " - 3s - loss: 1.5834 - acc: 0.4612 - val_loss: 1.7302 - val_acc: 0.4090\n",
      "Epoch 26/1000\n",
      " - 2s - loss: 1.5586 - acc: 0.4758 - val_loss: 1.7610 - val_acc: 0.3760\n",
      "Epoch 27/1000\n",
      " - 2s - loss: 1.5733 - acc: 0.4706 - val_loss: 1.7505 - val_acc: 0.3880\n",
      "Epoch 28/1000\n",
      " - 3s - loss: 1.5502 - acc: 0.4864 - val_loss: 1.7576 - val_acc: 0.3950\n",
      "Epoch 29/1000\n",
      " - 2s - loss: 1.5201 - acc: 0.5024 - val_loss: 1.8004 - val_acc: 0.3660\n",
      "Epoch 30/1000\n",
      " - 3s - loss: 1.5274 - acc: 0.4878 - val_loss: 1.7445 - val_acc: 0.3950\n",
      "Epoch 31/1000\n",
      " - 2s - loss: 1.4965 - acc: 0.4992 - val_loss: 1.7301 - val_acc: 0.4190\n"
     ]
    }
   ],
   "source": [
    "# optimizer Adam 사용\n",
    "from keras.callbacks import EarlyStopping\n",
    "early_stop = EarlyStopping(patience=20)\n",
    "model4.compile(optimizer=Adam(lr=0.0001), loss='categorical_crossentropy', metrics=['acc'])\n",
    "history = model4.fit(keras_train_data, categorical_labels, validation_data=(keras_test_data,categorical_test_labels),\n",
    "                     epochs=1000, batch_size=128,callbacks=[early_stop],\n",
    "                     verbose=2)"
   ]
  },
  {
   "cell_type": "code",
   "execution_count": 126,
   "metadata": {},
   "outputs": [
    {
     "data": {
      "image/png": "[encoded data removed]",
      "text/plain": [
       "<Figure size 432x288 with 1 Axes>"
      ]
     },
     "metadata": {
      "needs_background": "light"
     },
     "output_type": "display_data"
    }
   ],
   "source": [
    "plt.plot(history.history[\"loss\"], label=\"train loss\")\n",
    "plt.plot(history.history[\"val_loss\"], label=\"val loss\")\n",
    "plt.legend()\n",
    "plt.title(\"Loss\")\n",
    "plt.show()"
   ]
  },
  {
   "cell_type": "code",
   "execution_count": 128,
   "metadata": {},
   "outputs": [
    {
     "name": "stdout",
     "output_type": "stream",
     "text": [
      "_________________________________________________________________\n",
      "Layer (type)                 Output Shape              Param #   \n",
      "=================================================================\n",
      "dense_104 (Dense)            (None, 128)               393344    \n",
      "_________________________________________________________________\n",
      "batch_normalization_98 (Batc (None, 128)               512       \n",
      "_________________________________________________________________\n",
      "activation_57 (Activation)   (None, 128)               0         \n",
      "_________________________________________________________________\n",
      "dropout_68 (Dropout)         (None, 128)               0         \n",
      "_________________________________________________________________\n",
      "dense_105 (Dense)            (None, 128)               16512     \n",
      "_________________________________________________________________\n",
      "batch_normalization_99 (Batc (None, 128)               512       \n",
      "_________________________________________________________________\n",
      "dropout_69 (Dropout)         (None, 128)               0         \n",
      "_________________________________________________________________\n",
      "dense_106 (Dense)            (None, 128)               16512     \n",
      "_________________________________________________________________\n",
      "batch_normalization_100 (Bat (None, 128)               512       \n",
      "_________________________________________________________________\n",
      "dropout_70 (Dropout)         (None, 128)               0         \n",
      "_________________________________________________________________\n",
      "dense_107 (Dense)            (None, 128)               16512     \n",
      "_________________________________________________________________\n",
      "batch_normalization_101 (Bat (None, 128)               512       \n",
      "_________________________________________________________________\n",
      "dropout_71 (Dropout)         (None, 128)               0         \n",
      "_________________________________________________________________\n",
      "dense_108 (Dense)            (None, 128)               16512     \n",
      "_________________________________________________________________\n",
      "batch_normalization_102 (Bat (None, 128)               512       \n",
      "_________________________________________________________________\n",
      "dropout_72 (Dropout)         (None, 128)               0         \n",
      "_________________________________________________________________\n",
      "dense_109 (Dense)            (None, 10)                1290      \n",
      "_________________________________________________________________\n",
      "batch_normalization_103 (Bat (None, 10)                40        \n",
      "_________________________________________________________________\n",
      "activation_58 (Activation)   (None, 10)                0         \n",
      "=================================================================\n",
      "Total params: 463,282\n",
      "Trainable params: 461,982\n",
      "Non-trainable params: 1,300\n",
      "_________________________________________________________________\n",
      "Train on 5000 samples, validate on 1000 samples\n",
      "Epoch 1/1000\n",
      " - 14s - loss: 2.4703 - acc: 0.1580 - val_loss: 2.2338 - val_acc: 0.2290\n",
      "Epoch 2/1000\n",
      " - 2s - loss: 2.1461 - acc: 0.2306 - val_loss: 2.0061 - val_acc: 0.2810\n",
      "Epoch 3/1000\n",
      " - 3s - loss: 2.0305 - acc: 0.2734 - val_loss: 1.9359 - val_acc: 0.3150\n",
      "Epoch 4/1000\n",
      " - 3s - loss: 1.9519 - acc: 0.2976 - val_loss: 1.9213 - val_acc: 0.2990\n",
      "Epoch 5/1000\n",
      " - 3s - loss: 1.9128 - acc: 0.3162 - val_loss: 1.9035 - val_acc: 0.3100\n",
      "Epoch 6/1000\n",
      " - 3s - loss: 1.8893 - acc: 0.3188 - val_loss: 1.8592 - val_acc: 0.3430\n",
      "Epoch 7/1000\n",
      " - 3s - loss: 1.8470 - acc: 0.3350 - val_loss: 1.8283 - val_acc: 0.3480\n",
      "Epoch 8/1000\n",
      " - 3s - loss: 1.8241 - acc: 0.3528 - val_loss: 1.8716 - val_acc: 0.3240\n",
      "Epoch 9/1000\n",
      " - 3s - loss: 1.8012 - acc: 0.3636 - val_loss: 1.8339 - val_acc: 0.3560\n",
      "Epoch 10/1000\n",
      " - 3s - loss: 1.7860 - acc: 0.3678 - val_loss: 1.8398 - val_acc: 0.3460\n",
      "Epoch 11/1000\n",
      " - 4s - loss: 1.7597 - acc: 0.3834 - val_loss: 1.8022 - val_acc: 0.3620\n",
      "Epoch 12/1000\n",
      " - 3s - loss: 1.7436 - acc: 0.3842 - val_loss: 1.8647 - val_acc: 0.3340\n",
      "Epoch 13/1000\n",
      " - 3s - loss: 1.7199 - acc: 0.4004 - val_loss: 1.8041 - val_acc: 0.3680\n",
      "Epoch 14/1000\n",
      " - 3s - loss: 1.7124 - acc: 0.4130 - val_loss: 1.8203 - val_acc: 0.3510\n",
      "Epoch 15/1000\n",
      " - 3s - loss: 1.7015 - acc: 0.4036 - val_loss: 1.7782 - val_acc: 0.3770\n",
      "Epoch 16/1000\n",
      " - 3s - loss: 1.6869 - acc: 0.4130 - val_loss: 1.7684 - val_acc: 0.4040\n",
      "Epoch 17/1000\n",
      " - 3s - loss: 1.6622 - acc: 0.4370 - val_loss: 1.8238 - val_acc: 0.3630\n",
      "Epoch 18/1000\n",
      " - 3s - loss: 1.6588 - acc: 0.4336 - val_loss: 1.8312 - val_acc: 0.3780\n",
      "Epoch 19/1000\n",
      " - 3s - loss: 1.6549 - acc: 0.4312 - val_loss: 1.8379 - val_acc: 0.3650\n",
      "Epoch 20/1000\n",
      " - 3s - loss: 1.6327 - acc: 0.4440 - val_loss: 1.8025 - val_acc: 0.3590\n",
      "Epoch 21/1000\n",
      " - 3s - loss: 1.6206 - acc: 0.4524 - val_loss: 1.8328 - val_acc: 0.3700\n",
      "Epoch 22/1000\n",
      " - 3s - loss: 1.6195 - acc: 0.4450 - val_loss: 2.2178 - val_acc: 0.2770\n",
      "Epoch 23/1000\n",
      " - 3s - loss: 1.6225 - acc: 0.4430 - val_loss: 1.8109 - val_acc: 0.3790\n",
      "Epoch 24/1000\n",
      " - 3s - loss: 1.5864 - acc: 0.4620 - val_loss: 1.8302 - val_acc: 0.3550\n",
      "Epoch 25/1000\n",
      " - 3s - loss: 1.5808 - acc: 0.4722 - val_loss: 1.7577 - val_acc: 0.3970\n",
      "Epoch 26/1000\n",
      " - 3s - loss: 1.5554 - acc: 0.4802 - val_loss: 1.7698 - val_acc: 0.3740\n",
      "Epoch 27/1000\n",
      " - 3s - loss: 1.5565 - acc: 0.4814 - val_loss: 1.7794 - val_acc: 0.3840\n",
      "Epoch 28/1000\n",
      " - 3s - loss: 1.5341 - acc: 0.4972 - val_loss: 1.7882 - val_acc: 0.3770\n",
      "Epoch 29/1000\n",
      " - 4s - loss: 1.5495 - acc: 0.4828 - val_loss: 1.7996 - val_acc: 0.3780\n",
      "Epoch 30/1000\n",
      " - 2s - loss: 1.5315 - acc: 0.4884 - val_loss: 1.9625 - val_acc: 0.3100\n",
      "Epoch 31/1000\n",
      " - 4s - loss: 1.5191 - acc: 0.4964 - val_loss: 1.8228 - val_acc: 0.3650\n",
      "Epoch 32/1000\n",
      " - 2s - loss: 1.5092 - acc: 0.5016 - val_loss: 1.8584 - val_acc: 0.3230\n",
      "Epoch 33/1000\n",
      " - 4s - loss: 1.4970 - acc: 0.5072 - val_loss: 1.8702 - val_acc: 0.3650\n",
      "Epoch 34/1000\n",
      " - 3s - loss: 1.4815 - acc: 0.5118 - val_loss: 2.2941 - val_acc: 0.2580\n",
      "Epoch 35/1000\n",
      " - 3s - loss: 1.4833 - acc: 0.5106 - val_loss: 1.7841 - val_acc: 0.3810\n",
      "Epoch 36/1000\n",
      " - 3s - loss: 1.4755 - acc: 0.5218 - val_loss: 1.7902 - val_acc: 0.3620\n",
      "Epoch 37/1000\n",
      " - 3s - loss: 1.4578 - acc: 0.5220 - val_loss: 1.8060 - val_acc: 0.3480\n",
      "Epoch 38/1000\n",
      " - 3s - loss: 1.4317 - acc: 0.5430 - val_loss: 1.7862 - val_acc: 0.3730\n",
      "Epoch 39/1000\n",
      " - 3s - loss: 1.4449 - acc: 0.5332 - val_loss: 1.7931 - val_acc: 0.3630\n",
      "Epoch 40/1000\n",
      " - 3s - loss: 1.4163 - acc: 0.5484 - val_loss: 2.0482 - val_acc: 0.3150\n",
      "Epoch 41/1000\n",
      " - 3s - loss: 1.4230 - acc: 0.5440 - val_loss: 1.9813 - val_acc: 0.2980\n",
      "Epoch 42/1000\n",
      " - 3s - loss: 1.4415 - acc: 0.5290 - val_loss: 1.8850 - val_acc: 0.3470\n",
      "Epoch 43/1000\n",
      " - 3s - loss: 1.4150 - acc: 0.5460 - val_loss: 1.8608 - val_acc: 0.3430\n",
      "Epoch 44/1000\n",
      " - 3s - loss: 1.4215 - acc: 0.5486 - val_loss: 1.8041 - val_acc: 0.3760\n",
      "Epoch 45/1000\n",
      " - 3s - loss: 1.3843 - acc: 0.5646 - val_loss: 2.0164 - val_acc: 0.2970\n"
     ]
    }
   ],
   "source": [
    "# optimizer Nadam 사용\n",
    "# 가중치 초기화 + Batch Normalization  + 규제\n",
    "from keras.layers import BatchNormalization\n",
    "from keras.layers import Activation, Dense\n",
    "model4 = models.Sequential()\n",
    "\n",
    "model4.add(Dense(128, input_shape=(3072,), kernel_initializer=\"he_normal\",\n",
    "                 kernel_constraint=max_norm(2.)))\n",
    "                 #kernel_regularizer=regularizers.l2(0.01)))\n",
    "model4.add(BatchNormalization()) \n",
    "model4.add(Activation('relu')) \n",
    "model4.add(Dropout(0.2))\n",
    "\n",
    "model4.add(Dense(128, kernel_initializer=\"he_normal\",\n",
    "                 kernel_constraint=max_norm(2.)))\n",
    "#                 kernel_regularizer=regularizers.l2(0.01)))\n",
    "model4.add(BatchNormalization()) \n",
    "model4.add(Dropout(0.2))\n",
    "\n",
    "model4.add(Dense(128, kernel_initializer=\"he_normal\",\n",
    "                 kernel_constraint=max_norm(2.)))\n",
    "#                 kernel_regularizer=regularizers.l2(0.01)))\n",
    "model4.add(BatchNormalization()) \n",
    "model4.add(Dropout(0.2))\n",
    "\n",
    "model4.add(Dense(128, kernel_initializer=\"he_normal\",\n",
    "                 kernel_constraint=max_norm(2.)))\n",
    "#                 kernel_regularizer=regularizers.l2(0.01)))\n",
    "model4.add(BatchNormalization()) \n",
    "model4.add(Dropout(0.2))\n",
    "\n",
    "model4.add(Dense(128, kernel_initializer=\"he_normal\",\n",
    "                 kernel_constraint=max_norm(2.)))\n",
    "       #          kernel_regularizer=regularizers.l2(0.01)))\n",
    "model4.add(BatchNormalization()) \n",
    "model4.add(Dropout(0.2))\n",
    "\n",
    "model4.add(Dense(10, kernel_initializer=\"he_normal\",\n",
    "                 kernel_constraint=max_norm(2.)))\n",
    "        #         kernel_regularizer=regularizers.l2(0.01)))\n",
    "model4.add(BatchNormalization()) \n",
    "model4.add(Activation('softmax'))\n",
    "\n",
    "\n",
    "model4.summary()\n",
    "from keras.optimizers import Nadam\n",
    "early_stop = EarlyStopping(patience=20)\n",
    "model4.compile(optimizer=Nadam(lr=0.0001), loss='categorical_crossentropy', metrics=['acc'])\n",
    "history = model4.fit(keras_train_data, categorical_labels, validation_data=(keras_test_data,categorical_test_labels),\n",
    "                     epochs=1000, batch_size=128,callbacks=[early_stop],\n",
    "                     verbose=2)"
   ]
  },
  {
   "cell_type": "markdown",
   "metadata": {},
   "source": [
    "validation에서 불안정한 학습, Adam채택"
   ]
  }
 ],
 "metadata": {
  "kernelspec": {
   "display_name": "Python 3",
   "language": "python",
   "name": "python3"
  },
  "language_info": {
   "codemirror_mode": {
    "name": "ipython",
    "version": 3
   },
   "file_extension": ".py",
   "mimetype": "text/x-python",
   "name": "python",
   "nbconvert_exporter": "python",
   "pygments_lexer": "ipython3",
   "version": "3.7.3"
  }
 },
 "nbformat": 4,
 "nbformat_minor": 2
}
