{
 "cells": [
  {
   "cell_type": "markdown",
   "metadata": {},
   "source": [
    "# AlexNet 구현"
   ]
  },
  {
   "cell_type": "code",
   "execution_count": 9,
   "metadata": {},
   "outputs": [],
   "source": [
    "import tensorflow as tf\n",
    "from tensorflow import keras\n",
    "import numpy as np\n",
    "import matplotlib.pyplot as plt\n",
    "from tensorflow.examples.tutorials.mnist import input_data\n",
    "from keras import models\n",
    "from keras import layers\n",
    "from keras.optimizers import *\n",
    "from keras.models import Sequential\n",
    "from keras.layers import Conv2D, MaxPooling2D, Flatten, Dense, Dropout, BatchNormalization, Lambda\n",
    "from keras.regularizers import l2\n",
    "from keras import optimizers"
   ]
  },
  {
   "cell_type": "code",
   "execution_count": 34,
   "metadata": {},
   "outputs": [],
   "source": [
    "input_shape = (227, 227, 3)\n",
    "\n",
    "model = models.Sequential() # 틀 생성\n",
    "\n",
    "model.add(Conv2D(96, (11, 11), strides=4, input_shape=input_shape))\n",
    "# stride 4의 11,11 필터 96장 (채널은 인풋과 동일)\n",
    "model.add(MaxPooling2D(pool_size=(3, 3), strides=2))\n",
    "# stride 2의 3,3 Max Pooling 필터\n",
    "\n",
    "model.add(Conv2D(256, (5, 5), strides=1, padding='same'))\n",
    "# stride 1의 5,5 필터 256장 (채널은 인풋과 동일) \n",
    "                        #(padding='same'은 input,output size 동일하게 만들어주는 옵션)\n",
    "\n",
    "model.add(MaxPooling2D(pool_size=(3, 3), strides=2))\n",
    "# stride 2의 3,3 Max Pooling 필터\n",
    "\n",
    "model.add(Conv2D(384, (3, 3), strides=1, padding='same'))\n",
    "model.add(Conv2D(384, (3, 3), strides=1, padding='same'))\n",
    "# stride 1의 3,3 필터 384장 (채널은 인풋과 동일) \n",
    "                        #(padding='same'은 input,output size 동일하게 만들어주는 옵션)\n",
    "    \n",
    "model.add(Conv2D(256, (3, 3), strides=1, padding='same'))\n",
    "# stride 1의 3,3 필터 256장 (채널은 인풋과 동일) \n",
    "                        #(padding='same'은 input,output size 동일하게 만들어주는 옵션)\n",
    "\n",
    "model.add(MaxPooling2D(pool_size=(3, 3), strides=2))\n",
    "# stride 2의 3,3 Max Pooling 필터\n",
    "\n",
    "model.add(Flatten())\n",
    "# FC를 위한 flatten\n",
    "model.add(Dense(4096, activation='relu'))\n",
    "# 4096개와 fc연결 1\n",
    "model.add(Dense(4096, activation='relu'))\n",
    "# 4096개와 fc연결 2\n",
    "model.add(Dense(1000, activation='softmax'))\n",
    "# label이 1000개이므로 1000개의 노드로 softmax연결"
   ]
  },
  {
   "cell_type": "code",
   "execution_count": 37,
   "metadata": {},
   "outputs": [
    {
     "name": "stdout",
     "output_type": "stream",
     "text": [
      "Requirement already satisfied: graphviz in c:\\users\\kcg99\\anaconda3\\lib\\site-packages (0.10.1)\n",
      "Requirement already satisfied: pydot in c:\\users\\kcg99\\anaconda3\\lib\\site-packages (1.4.1)\n",
      "Requirement already satisfied: pyparsing>=2.1.4 in c:\\users\\kcg99\\anaconda3\\lib\\site-packages (from pydot) (2.3.1)\n"
     ]
    }
   ],
   "source": [
    "!pip install graphviz\n",
    "!pip install pydot"
   ]
  },
  {
   "cell_type": "code",
   "execution_count": 35,
   "metadata": {},
   "outputs": [
    {
     "name": "stdout",
     "output_type": "stream",
     "text": [
      "_________________________________________________________________\n",
      "Layer (type)                 Output Shape              Param #   \n",
      "=================================================================\n",
      "conv2d_37 (Conv2D)           (None, 55, 55, 96)        34944     \n",
      "_________________________________________________________________\n",
      "max_pooling2d_20 (MaxPooling (None, 27, 27, 96)        0         \n",
      "_________________________________________________________________\n",
      "conv2d_38 (Conv2D)           (None, 27, 27, 256)       614656    \n",
      "_________________________________________________________________\n",
      "max_pooling2d_21 (MaxPooling (None, 13, 13, 256)       0         \n",
      "_________________________________________________________________\n",
      "conv2d_39 (Conv2D)           (None, 13, 13, 384)       885120    \n",
      "_________________________________________________________________\n",
      "conv2d_40 (Conv2D)           (None, 13, 13, 384)       1327488   \n",
      "_________________________________________________________________\n",
      "conv2d_41 (Conv2D)           (None, 13, 13, 256)       884992    \n",
      "_________________________________________________________________\n",
      "max_pooling2d_22 (MaxPooling (None, 6, 6, 256)         0         \n",
      "_________________________________________________________________\n",
      "flatten_2 (Flatten)          (None, 9216)              0         \n",
      "_________________________________________________________________\n",
      "dense_3 (Dense)              (None, 4096)              37752832  \n",
      "_________________________________________________________________\n",
      "dense_4 (Dense)              (None, 4096)              16781312  \n",
      "_________________________________________________________________\n",
      "dense_5 (Dense)              (None, 1000)              4097000   \n",
      "=================================================================\n",
      "Total params: 62,378,344\n",
      "Trainable params: 62,378,344\n",
      "Non-trainable params: 0\n",
      "_________________________________________________________________\n"
     ]
    }
   ],
   "source": [
    "model.summary()"
   ]
  },
  {
   "cell_type": "code",
   "execution_count": 40,
   "metadata": {},
   "outputs": [
    {
     "name": "stderr",
     "output_type": "stream",
     "text": [
      "W0910 21:00:19.419263 22548 deprecation_wrapper.py:119] From C:\\Users\\kcg99\\Anaconda3\\lib\\site-packages\\keras\\backend\\tensorflow_backend.py:174: The name tf.get_default_session is deprecated. Please use tf.compat.v1.get_default_session instead.\n",
      "\n",
      "W0910 21:00:19.420261 22548 deprecation_wrapper.py:119] From C:\\Users\\kcg99\\Anaconda3\\lib\\site-packages\\keras\\backend\\tensorflow_backend.py:181: The name tf.ConfigProto is deprecated. Please use tf.compat.v1.ConfigProto instead.\n",
      "\n",
      "C:\\Users\\kcg99\\Anaconda3\\lib\\site-packages\\keras\\engine\\saving.py:292: UserWarning: No training configuration found in save file: the model was *not* compiled. Compile it manually.\n",
      "  warnings.warn('No training configuration found in save file: '\n"
     ]
    }
   ],
   "source": [
    "from keras.models import load_model\n",
    "\n",
    "model.save('my_model.h5') \n",
    "# creates a HDF5 file 'my_model.h5'\n",
    "del model  # deletes the existing model\n",
    "\n",
    "# returns a compiled model\n",
    "# identical to the previous one\n",
    "model = load_model('my_model.h5')"
   ]
  },
  {
   "cell_type": "code",
   "execution_count": null,
   "metadata": {},
   "outputs": [],
   "source": []
  },
  {
   "cell_type": "markdown",
   "metadata": {},
   "source": [
    "https://github.com/gaussian37/netron"
   ]
  }
 ],
 "metadata": {
  "kernelspec": {
   "display_name": "Python 3",
   "language": "python",
   "name": "python3"
  },
  "language_info": {
   "codemirror_mode": {
    "name": "ipython",
    "version": 3
   },
   "file_extension": ".py",
   "mimetype": "text/x-python",
   "name": "python",
   "nbconvert_exporter": "python",
   "pygments_lexer": "ipython3",
   "version": "3.6.8"
  }
 },
 "nbformat": 4,
 "nbformat_minor": 2
}
